{
  "cells": [
    {
      "cell_type": "code",
      "execution_count": 1,
      "metadata": {
        "id": "H7FbXDq7t2Vo"
      },
      "outputs": [],
      "source": [
        "import pandas as pd\n",
        "import numpy as np\n",
        "import scipy.sparse as sps\n",
        "import random as rnd\n",
        "\n",
        "from scipy.sparse import *\n",
        "\n",
        "from matplotlib import pyplot"
      ]
    },
    {
      "cell_type": "code",
      "execution_count": 87,
      "metadata": {
        "id": "EWFy_hB_t0dL"
      },
      "outputs": [],
      "source": [
        "urm_path = './content/data_train.csv'\n",
        "urm_all_df = pd.read_csv(filepath_or_buffer=urm_path,\n",
        "                                sep=\",\",\n",
        "                                header=0,\n",
        "                                dtype={0:int, 1:int, 2:float},\n",
        "                                engine='python')\n",
        "\n",
        "urm_all_df.columns = [\"UserID\", \"ItemID\", \"Interaction\"]"
      ]
    },
    {
      "cell_type": "code",
      "execution_count": 3,
      "metadata": {
        "colab": {
          "base_uri": "https://localhost:8080/",
          "height": 363
        },
        "id": "WxzLPQhzt6nz",
        "outputId": "be202bc3-9b80-453c-8df4-33c192bb67aa"
      },
      "outputs": [
        {
          "data": {
            "text/html": [
              "<div>\n",
              "<style scoped>\n",
              "    .dataframe tbody tr th:only-of-type {\n",
              "        vertical-align: middle;\n",
              "    }\n",
              "\n",
              "    .dataframe tbody tr th {\n",
              "        vertical-align: top;\n",
              "    }\n",
              "\n",
              "    .dataframe thead th {\n",
              "        text-align: right;\n",
              "    }\n",
              "</style>\n",
              "<table border=\"1\" class=\"dataframe\">\n",
              "  <thead>\n",
              "    <tr style=\"text-align: right;\">\n",
              "      <th></th>\n",
              "      <th>UserID</th>\n",
              "      <th>ItemID</th>\n",
              "      <th>Interaction</th>\n",
              "    </tr>\n",
              "  </thead>\n",
              "  <tbody>\n",
              "    <tr>\n",
              "      <th>0</th>\n",
              "      <td>1</td>\n",
              "      <td>7</td>\n",
              "      <td>1.0</td>\n",
              "    </tr>\n",
              "    <tr>\n",
              "      <th>1</th>\n",
              "      <td>1</td>\n",
              "      <td>15</td>\n",
              "      <td>1.0</td>\n",
              "    </tr>\n",
              "    <tr>\n",
              "      <th>2</th>\n",
              "      <td>1</td>\n",
              "      <td>16</td>\n",
              "      <td>1.0</td>\n",
              "    </tr>\n",
              "    <tr>\n",
              "      <th>3</th>\n",
              "      <td>1</td>\n",
              "      <td>133</td>\n",
              "      <td>1.0</td>\n",
              "    </tr>\n",
              "    <tr>\n",
              "      <th>4</th>\n",
              "      <td>1</td>\n",
              "      <td>161</td>\n",
              "      <td>1.0</td>\n",
              "    </tr>\n",
              "    <tr>\n",
              "      <th>5</th>\n",
              "      <td>1</td>\n",
              "      <td>187</td>\n",
              "      <td>1.0</td>\n",
              "    </tr>\n",
              "    <tr>\n",
              "      <th>6</th>\n",
              "      <td>1</td>\n",
              "      <td>205</td>\n",
              "      <td>1.0</td>\n",
              "    </tr>\n",
              "    <tr>\n",
              "      <th>7</th>\n",
              "      <td>1</td>\n",
              "      <td>222</td>\n",
              "      <td>1.0</td>\n",
              "    </tr>\n",
              "    <tr>\n",
              "      <th>8</th>\n",
              "      <td>1</td>\n",
              "      <td>237</td>\n",
              "      <td>1.0</td>\n",
              "    </tr>\n",
              "    <tr>\n",
              "      <th>9</th>\n",
              "      <td>1</td>\n",
              "      <td>354</td>\n",
              "      <td>1.0</td>\n",
              "    </tr>\n",
              "  </tbody>\n",
              "</table>\n",
              "</div>"
            ],
            "text/plain": [
              "   UserID  ItemID  Interaction\n",
              "0       1       7          1.0\n",
              "1       1      15          1.0\n",
              "2       1      16          1.0\n",
              "3       1     133          1.0\n",
              "4       1     161          1.0\n",
              "5       1     187          1.0\n",
              "6       1     205          1.0\n",
              "7       1     222          1.0\n",
              "8       1     237          1.0\n",
              "9       1     354          1.0"
            ]
          },
          "execution_count": 3,
          "metadata": {},
          "output_type": "execute_result"
        }
      ],
      "source": [
        "urm_all_df.head(10)"
      ]
    },
    {
      "cell_type": "code",
      "execution_count": 4,
      "metadata": {
        "colab": {
          "base_uri": "https://localhost:8080/"
        },
        "id": "TPQU5xPQt93i",
        "outputId": "e3e2d2b0-83e9-4e73-c8ae-752c50f128bc"
      },
      "outputs": [
        {
          "name": "stdout",
          "output_type": "stream",
          "text": [
            "The number of interactions is 478730\n"
          ]
        }
      ],
      "source": [
        "print (\"The number of interactions is {}\".format(len(urm_all_df)))"
      ]
    },
    {
      "cell_type": "code",
      "execution_count": 5,
      "metadata": {
        "colab": {
          "base_uri": "https://localhost:8080/"
        },
        "id": "4azG15R5t__C",
        "outputId": "e2497363-f87d-47ab-d937-d2b9d606d00b"
      },
      "outputs": [
        {
          "name": "stdout",
          "output_type": "stream",
          "text": [
            "Number of items\t 22222, Number of users\t 12638\n",
            "Max ID items\t 22347, Max Id users\t 13024\n",
            "\n",
            "Average interactions per user 37.88\n",
            "Average interactions per item 21.54\n",
            "\n",
            "Sparsity 99.83 %\n"
          ]
        }
      ],
      "source": [
        "userID_unique = urm_all_df[\"UserID\"].unique()\n",
        "itemID_unique = urm_all_df[\"ItemID\"].unique()\n",
        "\n",
        "n_users = len(userID_unique)\n",
        "n_items = len(itemID_unique)\n",
        "n_interactions = len(urm_all_df)\n",
        "\n",
        "print (\"Number of items\\t {}, Number of users\\t {}\".format(n_items, n_users))\n",
        "print (\"Max ID items\\t {}, Max Id users\\t {}\\n\".format(max(itemID_unique), max(userID_unique)))\n",
        "print (\"Average interactions per user {:.2f}\".format(n_interactions/n_users))\n",
        "print (\"Average interactions per item {:.2f}\\n\".format(n_interactions/n_items))\n",
        "\n",
        "print (\"Sparsity {:.2f} %\".format((1-float(n_interactions)/(n_items*n_users))*100))"
      ]
    },
    {
      "cell_type": "markdown",
      "metadata": {
        "id": "8_x6IomTtX6Z"
      },
      "source": [
        "# Remove empty profiles"
      ]
    },
    {
      "cell_type": "code",
      "execution_count": 6,
      "metadata": {
        "colab": {
          "base_uri": "https://localhost:8080/",
          "height": 380
        },
        "id": "eyAqbK_5rDuy",
        "outputId": "5f16b520-e057-4d71-ea48-af5e90b230fe"
      },
      "outputs": [
        {
          "name": "stdout",
          "output_type": "stream",
          "text": [
            "New index for item 125 is 93\n"
          ]
        },
        {
          "data": {
            "text/html": [
              "<div>\n",
              "<style scoped>\n",
              "    .dataframe tbody tr th:only-of-type {\n",
              "        vertical-align: middle;\n",
              "    }\n",
              "\n",
              "    .dataframe tbody tr th {\n",
              "        vertical-align: top;\n",
              "    }\n",
              "\n",
              "    .dataframe thead th {\n",
              "        text-align: right;\n",
              "    }\n",
              "</style>\n",
              "<table border=\"1\" class=\"dataframe\">\n",
              "  <thead>\n",
              "    <tr style=\"text-align: right;\">\n",
              "      <th></th>\n",
              "      <th>UserID</th>\n",
              "      <th>ItemID</th>\n",
              "      <th>Interaction</th>\n",
              "    </tr>\n",
              "  </thead>\n",
              "  <tbody>\n",
              "    <tr>\n",
              "      <th>0</th>\n",
              "      <td>0</td>\n",
              "      <td>0</td>\n",
              "      <td>1.0</td>\n",
              "    </tr>\n",
              "    <tr>\n",
              "      <th>1</th>\n",
              "      <td>0</td>\n",
              "      <td>1</td>\n",
              "      <td>1.0</td>\n",
              "    </tr>\n",
              "    <tr>\n",
              "      <th>2</th>\n",
              "      <td>0</td>\n",
              "      <td>2</td>\n",
              "      <td>1.0</td>\n",
              "    </tr>\n",
              "    <tr>\n",
              "      <th>3</th>\n",
              "      <td>0</td>\n",
              "      <td>3</td>\n",
              "      <td>1.0</td>\n",
              "    </tr>\n",
              "    <tr>\n",
              "      <th>4</th>\n",
              "      <td>0</td>\n",
              "      <td>4</td>\n",
              "      <td>1.0</td>\n",
              "    </tr>\n",
              "    <tr>\n",
              "      <th>5</th>\n",
              "      <td>0</td>\n",
              "      <td>5</td>\n",
              "      <td>1.0</td>\n",
              "    </tr>\n",
              "    <tr>\n",
              "      <th>6</th>\n",
              "      <td>0</td>\n",
              "      <td>6</td>\n",
              "      <td>1.0</td>\n",
              "    </tr>\n",
              "    <tr>\n",
              "      <th>7</th>\n",
              "      <td>0</td>\n",
              "      <td>7</td>\n",
              "      <td>1.0</td>\n",
              "    </tr>\n",
              "    <tr>\n",
              "      <th>8</th>\n",
              "      <td>0</td>\n",
              "      <td>8</td>\n",
              "      <td>1.0</td>\n",
              "    </tr>\n",
              "    <tr>\n",
              "      <th>9</th>\n",
              "      <td>0</td>\n",
              "      <td>9</td>\n",
              "      <td>1.0</td>\n",
              "    </tr>\n",
              "  </tbody>\n",
              "</table>\n",
              "</div>"
            ],
            "text/plain": [
              "   UserID  ItemID  Interaction\n",
              "0       0       0          1.0\n",
              "1       0       1          1.0\n",
              "2       0       2          1.0\n",
              "3       0       3          1.0\n",
              "4       0       4          1.0\n",
              "5       0       5          1.0\n",
              "6       0       6          1.0\n",
              "7       0       7          1.0\n",
              "8       0       8          1.0\n",
              "9       0       9          1.0"
            ]
          },
          "execution_count": 6,
          "metadata": {},
          "output_type": "execute_result"
        }
      ],
      "source": [
        "# Remove empty IDs\n",
        "mapped_id, original_id = pd.factorize(urm_all_df[\"UserID\"].unique())\n",
        "user_original_ID_to_index = pd.Series(mapped_id, index=original_id)\n",
        "\n",
        "mapped_id, original_id = pd.factorize(urm_all_df[\"ItemID\"].unique())\n",
        "item_original_ID_to_index = pd.Series(mapped_id, index=original_id)\n",
        "\n",
        "\n",
        "\n",
        "# Let's create the mapping from items indices to original item_ids\n",
        "item_index_to_original_ID = pd.Series(item_original_ID_to_index.index,index = item_original_ID_to_index.values)\n",
        "\n",
        "\n",
        "\n",
        "original_item_ID = 125\n",
        "print(\"New index for item {} is {}\".format(original_item_ID, item_original_ID_to_index[original_item_ID]))\n",
        "\n",
        "\n",
        "urm_all_df[\"UserID\"] = urm_all_df[\"UserID\"].map(user_original_ID_to_index)\n",
        "urm_all_df[\"ItemID\"] = urm_all_df[\"ItemID\"].map(item_original_ID_to_index)\n",
        "urm_all_df.head(n=10)"
      ]
    },
    {
      "cell_type": "code",
      "execution_count": 7,
      "metadata": {
        "colab": {
          "base_uri": "https://localhost:8080/"
        },
        "id": "mPQXwUWO0AuA",
        "outputId": "6a261c26-3d12-4cf7-c73c-b31d5623e9b8"
      },
      "outputs": [
        {
          "name": "stdout",
          "output_type": "stream",
          "text": [
            "Number of items\t 22222, Number of users\t 12638\n",
            "Max ID items\t 22221, Max Id users\t 12637\n",
            "\n",
            "Average interactions per user 37.88\n",
            "Average interactions per item 21.54\n",
            "\n",
            "Sparsity 99.83 %\n"
          ]
        }
      ],
      "source": [
        "userID_unique = urm_all_df[\"UserID\"].unique()\n",
        "itemID_unique = urm_all_df[\"ItemID\"].unique()\n",
        "\n",
        "n_users = len(userID_unique)\n",
        "n_items = len(itemID_unique)\n",
        "n_interactions = len(urm_all_df)\n",
        "\n",
        "print (\"Number of items\\t {}, Number of users\\t {}\".format(n_items, n_users))\n",
        "print (\"Max ID items\\t {}, Max Id users\\t {}\\n\".format(max(itemID_unique), max(userID_unique)))\n",
        "print (\"Average interactions per user {:.2f}\".format(n_interactions/n_users))\n",
        "print (\"Average interactions per item {:.2f}\\n\".format(n_interactions/n_items))\n",
        "\n",
        "print (\"Sparsity {:.2f} %\".format((1-float(n_interactions)/(n_items*n_users))*100))"
      ]
    },
    {
      "cell_type": "code",
      "execution_count": 88,
      "metadata": {
        "colab": {
          "base_uri": "https://localhost:8080/"
        },
        "id": "iDMkHTc0uNoe",
        "outputId": "d03fd4ed-d376-4410-edd7-67bb912c5be8"
      },
      "outputs": [
        {
          "data": {
            "text/plain": [
              "<13025x22348 sparse matrix of type '<class 'numpy.float64'>'\n",
              "\twith 478730 stored elements in COOrdinate format>"
            ]
          },
          "execution_count": 88,
          "metadata": {},
          "output_type": "execute_result"
        }
      ],
      "source": [
        "urm_all = sps.coo_matrix((urm_all_df[\"Interaction\"].values,\n",
        "                          (urm_all_df[\"UserID\"].values, urm_all_df[\"ItemID\"].values)))\n",
        "\n",
        "urm_all"
      ]
    },
    {
      "cell_type": "code",
      "execution_count": 89,
      "metadata": {
        "colab": {
          "base_uri": "https://localhost:8080/"
        },
        "id": "4HjbDoZeuSJw",
        "outputId": "0b80d672-9269-4c8c-ec4f-c0361d48b16d"
      },
      "outputs": [
        {
          "data": {
            "text/plain": [
              "<13025x22348 sparse matrix of type '<class 'numpy.float64'>'\n",
              "\twith 478730 stored elements in Compressed Sparse Row format>"
            ]
          },
          "execution_count": 89,
          "metadata": {},
          "output_type": "execute_result"
        }
      ],
      "source": [
        "urm_all = urm_all.tocsr()\n",
        "urm_all"
      ]
    },
    {
      "cell_type": "markdown",
      "metadata": {
        "id": "2GqW631hh8M7"
      },
      "source": [
        "# K-fold Cross-Validatoin\n"
      ]
    },
    {
      "cell_type": "markdown",
      "metadata": {
        "id": "ZVHeZuDRqECp"
      },
      "source": [
        "### Load the similarity matrices of models trained on different train folds"
      ]
    },
    {
      "cell_type": "code",
      "execution_count": 10,
      "metadata": {
        "id": "R7NxLto-mot_"
      },
      "outputs": [],
      "source": [
        "from scipy.sparse import save_npz, load_npz"
      ]
    },
    {
      "cell_type": "code",
      "execution_count": 11,
      "metadata": {
        "colab": {
          "base_uri": "https://localhost:8080/"
        },
        "id": "W8ClNc8IAWpv",
        "outputId": "d072344e-42f3-4b58-fd99-c30e891c450e"
      },
      "outputs": [
        {
          "name": "stdout",
          "output_type": "stream",
          "text": [
            "[{'train': <12638x22222 sparse matrix of type '<class 'numpy.float64'>'\n",
            "\twith 382984 stored elements in Compressed Sparse Row format>, 'val': <12638x22217 sparse matrix of type '<class 'numpy.float64'>'\n",
            "\twith 95746 stored elements in Compressed Sparse Row format>}, {'train': <12638x22221 sparse matrix of type '<class 'numpy.float64'>'\n",
            "\twith 382984 stored elements in Compressed Sparse Row format>, 'val': <12638x22222 sparse matrix of type '<class 'numpy.float64'>'\n",
            "\twith 95746 stored elements in Compressed Sparse Row format>}, {'train': <12638x22222 sparse matrix of type '<class 'numpy.float64'>'\n",
            "\twith 382984 stored elements in Compressed Sparse Row format>, 'val': <12638x22218 sparse matrix of type '<class 'numpy.float64'>'\n",
            "\twith 95746 stored elements in Compressed Sparse Row format>}, {'train': <12638x22222 sparse matrix of type '<class 'numpy.float64'>'\n",
            "\twith 382984 stored elements in Compressed Sparse Row format>, 'val': <12638x22220 sparse matrix of type '<class 'numpy.float64'>'\n",
            "\twith 95746 stored elements in Compressed Sparse Row format>}, {'train': <12638x22222 sparse matrix of type '<class 'numpy.float64'>'\n",
            "\twith 382984 stored elements in Compressed Sparse Row format>, 'val': <12638x22221 sparse matrix of type '<class 'numpy.float64'>'\n",
            "\twith 95746 stored elements in Compressed Sparse Row format>}]\n"
          ]
        }
      ],
      "source": [
        "data_folds = []\n",
        "\n",
        "for fold_n in range(5):\n",
        "  fold_urm_train = load_npz(f'./5-fold CV/Folds/train_noemptyprofiles_fold{fold_n}.npz')\n",
        "  fold_urm_val = load_npz(f'./5-fold CV/Folds/val_noemptyprofiles_fold{fold_n}.npz')\n",
        "  data_folds.append({\"train\":fold_urm_train,\"val\":fold_urm_val})\n",
        "\n",
        "print(data_folds)"
      ]
    },
    {
      "cell_type": "code",
      "execution_count": 12,
      "metadata": {
        "id": "eo_fstcwqfTe"
      },
      "outputs": [],
      "source": [
        "# SLIM elasticnet\n",
        "\n",
        "S_slim_fold0 = load_npz('./5-fold CV/SLIMelasticnet/ItItSimilarity_trained_fold0_noemptyprofiles_SLIMelasticnet_kaggleMAP0.13484.npz')\n",
        "\n",
        "S_slim_fold1 = load_npz('./5-fold CV/SLIMelasticnet/ItItSimilarity_trained_fold1_noemptyprofiles_SLIMelasticnet_kaggleMAP0.13484.npz')\n",
        "\n",
        "S_slim_fold2 = load_npz('./5-fold CV/SLIMelasticnet/ItItSimilarity_trained_fold2_noemptyprofiles_SLIMelasticnet_kaggleMAP0.13484.npz')\n",
        "\n",
        "S_slim_fold3 = load_npz('./5-fold CV/SLIMelasticnet/ItItSimilarity_trained_fold3_noemptyprofiles_SLIMelasticnet_kaggleMAP0.13484.npz')\n",
        "\n",
        "S_slim_fold4 = load_npz('./5-fold CV/SLIMelasticnet/ItItSimilarity_trained_fold4_noemptyprofiles_SLIMelasticnet_kaggleMAP0.13484.npz')"
      ]
    },
    {
      "cell_type": "code",
      "execution_count": 13,
      "metadata": {
        "colab": {
          "base_uri": "https://localhost:8080/"
        },
        "id": "_PoNnrsBZD_F",
        "outputId": "793d4e98-20d5-499f-c6df-e0b6c83df3cd"
      },
      "outputs": [
        {
          "data": {
            "text/plain": [
              "(2240133,)"
            ]
          },
          "execution_count": 13,
          "metadata": {},
          "output_type": "execute_result"
        }
      ],
      "source": [
        "S_slim_fold0.indices.shape"
      ]
    },
    {
      "cell_type": "code",
      "execution_count": 14,
      "metadata": {
        "colab": {
          "base_uri": "https://localhost:8080/"
        },
        "id": "GuhIm1w1ZjRS",
        "outputId": "99ae2b36-c269-4f8b-fb35-8a38fef0a3b6"
      },
      "outputs": [
        {
          "data": {
            "text/plain": [
              "(2240133,)"
            ]
          },
          "execution_count": 14,
          "metadata": {},
          "output_type": "execute_result"
        }
      ],
      "source": [
        "S_slim_fold0.data.shape"
      ]
    },
    {
      "cell_type": "code",
      "execution_count": 15,
      "metadata": {
        "id": "C7Z7jHgsrKz2"
      },
      "outputs": [],
      "source": [
        "# IBCF\n",
        "\n",
        "S_ibcf_fold0 = load_npz('./5-fold CV/IBCF/ItItSimilarity_trained_fold0_noemptyprofiles_IBCF_kaggleMAP0.11585.npz')\n",
        "\n",
        "S_ibcf_fold1 = load_npz('./5-fold CV/IBCF/ItItSimilarity_trained_fold1_noemptyprofiles_IBCF_kaggleMAP0.11585.npz')\n",
        "\n",
        "S_ibcf_fold2 = load_npz('./5-fold CV/IBCF/ItItSimilarity_trained_fold2_noemptyprofiles_IBCF_kaggleMAP0.11585.npz')\n",
        "\n",
        "S_ibcf_fold3 = load_npz('./5-fold CV/IBCF/ItItSimilarity_trained_fold3_noemptyprofiles_IBCF_kaggleMAP0.11585.npz')\n",
        "\n",
        "S_ibcf_fold4 = load_npz('./5-fold CV/IBCF/ItItSimilarity_trained_fold4_noemptyprofiles_IBCF_kaggleMAP0.11585.npz')"
      ]
    },
    {
      "cell_type": "code",
      "execution_count": 16,
      "metadata": {
        "colab": {
          "base_uri": "https://localhost:8080/"
        },
        "id": "4zQUV0wYZLOz",
        "outputId": "b1488704-d8f1-4bc7-e669-4e46e8e095fb"
      },
      "outputs": [
        {
          "data": {
            "text/plain": [
              "(308988,)"
            ]
          },
          "execution_count": 16,
          "metadata": {},
          "output_type": "execute_result"
        }
      ],
      "source": [
        "S_ibcf_fold0.indices.shape"
      ]
    },
    {
      "cell_type": "code",
      "execution_count": 17,
      "metadata": {
        "colab": {
          "base_uri": "https://localhost:8080/"
        },
        "id": "BM2N63LvZlgf",
        "outputId": "c9e8570a-d328-47b1-b99a-ceb0e3bb86ae"
      },
      "outputs": [
        {
          "data": {
            "text/plain": [
              "(308988,)"
            ]
          },
          "execution_count": 17,
          "metadata": {},
          "output_type": "execute_result"
        }
      ],
      "source": [
        "S_ibcf_fold0.data.shape"
      ]
    },
    {
      "cell_type": "code",
      "execution_count": 18,
      "metadata": {
        "id": "bqio5WVLreB5"
      },
      "outputs": [],
      "source": [
        "# RP3Beta\n",
        "\n",
        "S_rp3beta_fold0 = load_npz('./5-fold CV/RP3Beta/ItItSimilarity_trained_fold0_noemptyprofiles_RP3Beta_kaggleMAP0.09372.npz')\n",
        "\n",
        "S_rp3beta_fold1 = load_npz('./5-fold CV/RP3Beta/ItItSimilarity_trained_fold1_noemptyprofiles_RP3Beta_kaggleMAP0.09372.npz')\n",
        "\n",
        "S_rp3beta_fold2 = load_npz('./5-fold CV/RP3Beta/ItItSimilarity_trained_fold2_noemptyprofiles_RP3Beta_kaggleMAP0.09372.npz')\n",
        "\n",
        "S_rp3beta_fold3 = load_npz('./5-fold CV/RP3Beta/ItItSimilarity_trained_fold3_noemptyprofiles_RP3Beta_kaggleMAP0.09372.npz')\n",
        "\n",
        "S_rp3beta_fold4 = load_npz('./5-fold CV/RP3Beta/ItItSimilarity_trained_fold4_noemptyprofiles_RP3Beta_kaggleMAP0.09372.npz')"
      ]
    },
    {
      "cell_type": "code",
      "execution_count": 19,
      "metadata": {
        "colab": {
          "base_uri": "https://localhost:8080/"
        },
        "id": "CNut36UfZMIb",
        "outputId": "f0c823cc-8203-4c2b-8a80-cc561d220636"
      },
      "outputs": [
        {
          "data": {
            "text/plain": [
              "(3527025,)"
            ]
          },
          "execution_count": 19,
          "metadata": {},
          "output_type": "execute_result"
        }
      ],
      "source": [
        "S_rp3beta_fold0.indices.shape"
      ]
    },
    {
      "cell_type": "code",
      "execution_count": 20,
      "metadata": {
        "colab": {
          "base_uri": "https://localhost:8080/"
        },
        "id": "TBC3Ol7zZn-S",
        "outputId": "c21511e7-3820-4b7e-a88b-fe20468bef4c"
      },
      "outputs": [
        {
          "data": {
            "text/plain": [
              "(3527025,)"
            ]
          },
          "execution_count": 20,
          "metadata": {},
          "output_type": "execute_result"
        }
      ],
      "source": [
        "S_rp3beta_fold0.data.shape"
      ]
    },
    {
      "cell_type": "code",
      "execution_count": 21,
      "metadata": {
        "id": "RZYLIzLyxnDb"
      },
      "outputs": [],
      "source": [
        "# EASER\n",
        "\n",
        "S_easer_fold0 = load_npz('./5-fold CV/EASER/ItItSimilarity_trained_fold0_noemptyprofiles_EASER_kaggleMAP0.12504.npz')\n",
        "\n",
        "S_easer_fold1 = load_npz('./5-fold CV/EASER/ItItSimilarity_trained_fold1_noemptyprofiles_EASER_kaggleMAP0.12504.npz')\n",
        "\n",
        "S_easer_fold2 = load_npz('./5-fold CV/EASER/ItItSimilarity_trained_fold2_noemptyprofiles_EASER_kaggleMAP0.12504.npz')\n",
        "\n",
        "S_easer_fold3 = load_npz('./5-fold CV/EASER/ItItSimilarity_trained_fold3_noemptyprofiles_EASER_kaggleMAP0.12504.npz')\n",
        "\n",
        "S_easer_fold4 = load_npz('./5-fold CV/EASER/ItItSimilarity_trained_fold4_noemptyprofiles_EASER_kaggleMAP0.12504.npz')"
      ]
    },
    {
      "cell_type": "code",
      "execution_count": 22,
      "metadata": {
        "colab": {
          "base_uri": "https://localhost:8080/"
        },
        "id": "Kk2yf3etZMwo",
        "outputId": "64cf59d1-7e4d-47b7-d29b-3086592aff64"
      },
      "outputs": [
        {
          "data": {
            "text/plain": [
              "(5016019,)"
            ]
          },
          "execution_count": 22,
          "metadata": {},
          "output_type": "execute_result"
        }
      ],
      "source": [
        "S_easer_fold0.indices.shape"
      ]
    },
    {
      "cell_type": "code",
      "execution_count": 23,
      "metadata": {
        "colab": {
          "base_uri": "https://localhost:8080/"
        },
        "id": "p4u0xSIoZq4T",
        "outputId": "1ebb7cab-4880-4b3d-ef40-7a6e77e9f153"
      },
      "outputs": [
        {
          "data": {
            "text/plain": [
              "(5016019,)"
            ]
          },
          "execution_count": 23,
          "metadata": {},
          "output_type": "execute_result"
        }
      ],
      "source": [
        "S_easer_fold0.data.shape"
      ]
    },
    {
      "cell_type": "code",
      "execution_count": 24,
      "metadata": {
        "id": "labCLmVW1ZlT"
      },
      "outputs": [],
      "source": [
        "S_models_fold0 = {\n",
        "    \"SLIM\":S_slim_fold0, \"IBCF\":S_ibcf_fold0,\"rp3beta\":S_rp3beta_fold0,\"EASER\":S_easer_fold0\n",
        "}\n",
        "\n",
        "S_models_fold1 = {\n",
        "    \"SLIM\":S_slim_fold1, \"IBCF\":S_ibcf_fold1,\"rp3beta\":S_rp3beta_fold1,\"EASER\":S_easer_fold1\n",
        "}\n",
        "\n",
        "S_models_fold2 = {\n",
        "    \"SLIM\":S_slim_fold2, \"IBCF\":S_ibcf_fold2,\"rp3beta\":S_rp3beta_fold2,\"EASER\":S_easer_fold2\n",
        "}\n",
        "\n",
        "S_models_fold3 = {\n",
        "    \"SLIM\":S_slim_fold3, \"IBCF\":S_ibcf_fold3,\"rp3beta\":S_rp3beta_fold3,\"EASER\":S_easer_fold3\n",
        "}\n",
        "\n",
        "S_models_fold4 = {\n",
        "    \"SLIM\":S_slim_fold4, \"IBCF\":S_ibcf_fold4,\"rp3beta\":S_rp3beta_fold4,\"EASER\":S_easer_fold4\n",
        "}\n",
        "\n",
        "fold_models = [S_models_fold0,S_models_fold1,S_models_fold2,S_models_fold3,S_models_fold4]"
      ]
    },
    {
      "cell_type": "markdown",
      "metadata": {
        "id": "X3JDNz4wH_v8"
      },
      "source": [
        "### Load the data and similarity matrices of models trained on different RECOMMENDER Train XGboost subfolds"
      ]
    },
    {
      "cell_type": "code",
      "execution_count": 25,
      "metadata": {
        "colab": {
          "base_uri": "https://localhost:8080/"
        },
        "id": "deKd0s2cH_v-",
        "outputId": "af15d0cd-6bea-489d-e696-2d48eb8da7d3"
      },
      "outputs": [
        {
          "name": "stdout",
          "output_type": "stream",
          "text": [
            "[{'train_recommender': <12638x22222 sparse matrix of type '<class 'numpy.float64'>'\n",
            "\twith 306224 stored elements in Compressed Sparse Row format>, 'train_xgboost': <12638x22218 sparse matrix of type '<class 'numpy.float64'>'\n",
            "\twith 76760 stored elements in Compressed Sparse Row format>, 'val': <12638x22217 sparse matrix of type '<class 'numpy.float64'>'\n",
            "\twith 95746 stored elements in Compressed Sparse Row format>}, {'train_recommender': <12638x22221 sparse matrix of type '<class 'numpy.float64'>'\n",
            "\twith 306642 stored elements in Compressed Sparse Row format>, 'train_xgboost': <12638x22218 sparse matrix of type '<class 'numpy.float64'>'\n",
            "\twith 76342 stored elements in Compressed Sparse Row format>, 'val': <12638x22222 sparse matrix of type '<class 'numpy.float64'>'\n",
            "\twith 95746 stored elements in Compressed Sparse Row format>}, {'train_recommender': <12638x22221 sparse matrix of type '<class 'numpy.float64'>'\n",
            "\twith 306156 stored elements in Compressed Sparse Row format>, 'train_xgboost': <12638x22222 sparse matrix of type '<class 'numpy.float64'>'\n",
            "\twith 76828 stored elements in Compressed Sparse Row format>, 'val': <12638x22218 sparse matrix of type '<class 'numpy.float64'>'\n",
            "\twith 95746 stored elements in Compressed Sparse Row format>}, {'train_recommender': <12638x22222 sparse matrix of type '<class 'numpy.float64'>'\n",
            "\twith 306750 stored elements in Compressed Sparse Row format>, 'train_xgboost': <12638x22212 sparse matrix of type '<class 'numpy.float64'>'\n",
            "\twith 76234 stored elements in Compressed Sparse Row format>, 'val': <12638x22220 sparse matrix of type '<class 'numpy.float64'>'\n",
            "\twith 95746 stored elements in Compressed Sparse Row format>}, {'train_recommender': <12638x22222 sparse matrix of type '<class 'numpy.float64'>'\n",
            "\twith 306652 stored elements in Compressed Sparse Row format>, 'train_xgboost': <12638x22206 sparse matrix of type '<class 'numpy.float64'>'\n",
            "\twith 76332 stored elements in Compressed Sparse Row format>, 'val': <12638x22221 sparse matrix of type '<class 'numpy.float64'>'\n",
            "\twith 95746 stored elements in Compressed Sparse Row format>}]\n"
          ]
        }
      ],
      "source": [
        "data_xgboostfolds = []\n",
        "\n",
        "for fold_n in range(5):\n",
        "  fold_urm_train_recommender = load_npz(f'./5-fold CV/XGboost_folds/Folds/recommender_train_noemptyprofiles_fold{fold_n}.npz')\n",
        "  fold_urm_train_xgboost = load_npz(f'./5-fold CV/XGboost_folds/Folds/xgboost_train_noemptyprofiles_fold{fold_n}.npz')\n",
        "  fold_urm_val = load_npz(f'./5-fold CV/XGboost_folds/Folds/val_noemptyprofiles_fold{fold_n}.npz')\n",
        "  data_xgboostfolds.append({\"train_recommender\":fold_urm_train_recommender,\"train_xgboost\":fold_urm_train_xgboost,\"val\":fold_urm_val})\n",
        "\n",
        "print(data_xgboostfolds)"
      ]
    },
    {
      "cell_type": "code",
      "execution_count": 26,
      "metadata": {
        "id": "EMIQsq1_H_v_"
      },
      "outputs": [],
      "source": [
        "# SLIM elasticnet\n",
        "\n",
        "S_slim_xgboostfold0 = load_npz('./5-fold CV/XGboost_folds/SLIMelasticnet/ItItSimilarity_trained_RecommenderFold0_noemptyprofiles_SLIMelasticnet_kaggleMAP0.13484.npz')\n",
        "\n",
        "S_slim_xgboostfold1 = load_npz('./5-fold CV/XGboost_folds/SLIMelasticnet/ItItSimilarity_trained_RecommenderFold1_noemptyprofiles_SLIMelasticnet_kaggleMAP0.13484.npz')\n",
        "\n",
        "S_slim_xgboostfold2 = load_npz('./5-fold CV/XGboost_folds/SLIMelasticnet/ItItSimilarity_trained_RecommenderFold2_noemptyprofiles_SLIMelasticnet_kaggleMAP0.13484.npz')\n",
        "\n",
        "S_slim_xgboostfold3 = load_npz('./5-fold CV/XGboost_folds/SLIMelasticnet/ItItSimilarity_trained_RecommenderFold3_noemptyprofiles_SLIMelasticnet_kaggleMAP0.13484.npz')\n",
        "\n",
        "S_slim_xgboostfold4 = load_npz('./5-fold CV/XGboost_folds/SLIMelasticnet/ItItSimilarity_trained_RecommenderFold4_noemptyprofiles_SLIMelasticnet_kaggleMAP0.13484.npz')"
      ]
    },
    {
      "cell_type": "code",
      "execution_count": 27,
      "metadata": {
        "id": "aD38yQdJH_wA"
      },
      "outputs": [],
      "source": [
        "# IBCF\n",
        "\n",
        "S_ibcf_xgboostfold0 = load_npz('./5-fold CV/XGboost_folds/IBCF/ItItSimilarity_trained_RecommenderFold0_noemptyprofiles_IBCF_kaggleMAP0.11585.npz')\n",
        "\n",
        "S_ibcf_xgboostfold1 = load_npz('./5-fold CV/XGboost_folds/IBCF/ItItSimilarity_trained_RecommenderFold1_noemptyprofiles_IBCF_kaggleMAP0.11585.npz')\n",
        "\n",
        "S_ibcf_xgboostfold2 = load_npz('./5-fold CV/XGboost_folds/IBCF/ItItSimilarity_trained_RecommenderFold2_noemptyprofiles_IBCF_kaggleMAP0.11585.npz')\n",
        "\n",
        "S_ibcf_xgboostfold3 = load_npz('./5-fold CV/XGboost_folds/IBCF/ItItSimilarity_trained_RecommenderFold3_noemptyprofiles_IBCF_kaggleMAP0.11585.npz')\n",
        "\n",
        "S_ibcf_xgboostfold4 = load_npz('./5-fold CV/XGboost_folds/IBCF/ItItSimilarity_trained_RecommenderFold4_noemptyprofiles_IBCF_kaggleMAP0.11585.npz')"
      ]
    },
    {
      "cell_type": "code",
      "execution_count": 28,
      "metadata": {
        "id": "Su5ikEZWH_wB"
      },
      "outputs": [],
      "source": [
        "# RP3Beta\n",
        "\n",
        "S_rp3beta_xgboostfold0 = load_npz('./5-fold CV/XGboost_folds/RP3Beta/ItItSimilarity_trained_RecommenderFold0_noemptyprofiles_RP3Beta_kaggleMAP0.09372.npz')\n",
        "\n",
        "S_rp3beta_xgboostfold1 = load_npz('./5-fold CV/XGboost_folds/RP3Beta/ItItSimilarity_trained_RecommenderFold1_noemptyprofiles_RP3Beta_kaggleMAP0.09372.npz')\n",
        "\n",
        "S_rp3beta_xgboostfold2 = load_npz('./5-fold CV/XGboost_folds/RP3Beta/ItItSimilarity_trained_RecommenderFold2_noemptyprofiles_RP3Beta_kaggleMAP0.09372.npz')\n",
        "\n",
        "S_rp3beta_xgboostfold3 = load_npz('./5-fold CV/XGboost_folds/RP3Beta/ItItSimilarity_trained_RecommenderFold3_noemptyprofiles_RP3Beta_kaggleMAP0.09372.npz')\n",
        "\n",
        "S_rp3beta_xgboostfold4 = load_npz('./5-fold CV/XGboost_folds/RP3Beta/ItItSimilarity_trained_RecommenderFold4_noemptyprofiles_RP3Beta_kaggleMAP0.09372.npz')"
      ]
    },
    {
      "cell_type": "code",
      "execution_count": 29,
      "metadata": {
        "id": "HaF2qFauH_wC"
      },
      "outputs": [],
      "source": [
        "# EASER\n",
        "\n",
        "S_easer_xgboostfold0 = load_npz('./5-fold CV/XGboost_folds/EASER/ItItSimilarity_trained_RecommenderFold0_noemptyprofiles_EASER_kaggleMAP0.12504.npz')\n",
        "\n",
        "S_easer_xgboostfold1 = load_npz('./5-fold CV/XGboost_folds/EASER/ItItSimilarity_trained_RecommenderFold1_noemptyprofiles_EASER_kaggleMAP0.12504.npz')\n",
        "\n",
        "S_easer_xgboostfold2 = load_npz('./5-fold CV/XGboost_folds/EASER/ItItSimilarity_trained_RecommenderFold2_noemptyprofiles_EASER_kaggleMAP0.12504.npz')\n",
        "\n",
        "S_easer_xgboostfold3 = load_npz('./5-fold CV/XGboost_folds/EASER/ItItSimilarity_trained_RecommenderFold3_noemptyprofiles_EASER_kaggleMAP0.12504.npz')\n",
        "\n",
        "S_easer_xgboostfold4 = load_npz('./5-fold CV/XGboost_folds/EASER/ItItSimilarity_trained_RecommenderFold4_noemptyprofiles_EASER_kaggleMAP0.12504.npz')"
      ]
    },
    {
      "cell_type": "code",
      "execution_count": 30,
      "metadata": {
        "id": "2RmaOL0FH_wD"
      },
      "outputs": [],
      "source": [
        "S_models_xgboostfold0 = {\n",
        "    \"SLIM\":S_slim_xgboostfold0, \"IBCF\":S_ibcf_xgboostfold0,\"rp3beta\":S_rp3beta_xgboostfold0,\"EASER\":S_easer_xgboostfold0\n",
        "}\n",
        "\n",
        "S_models_xgboostfold1 = {\n",
        "    \"SLIM\":S_slim_xgboostfold1, \"IBCF\":S_ibcf_xgboostfold1,\"rp3beta\":S_rp3beta_xgboostfold1,\"EASER\":S_easer_xgboostfold1\n",
        "}\n",
        "\n",
        "S_models_xgboostfold2 = {\n",
        "    \"SLIM\":S_slim_xgboostfold2, \"IBCF\":S_ibcf_xgboostfold2,\"rp3beta\":S_rp3beta_xgboostfold2,\"EASER\":S_easer_xgboostfold2\n",
        "}\n",
        "\n",
        "S_models_xgboostfold3 = {\n",
        "    \"SLIM\":S_slim_xgboostfold3, \"IBCF\":S_ibcf_xgboostfold3,\"rp3beta\":S_rp3beta_xgboostfold3,\"EASER\":S_easer_xgboostfold3\n",
        "}\n",
        "\n",
        "S_models_xgboostfold4 = {\n",
        "    \"SLIM\":S_slim_xgboostfold4, \"IBCF\":S_ibcf_xgboostfold4,\"rp3beta\":S_rp3beta_xgboostfold4,\"EASER\":S_easer_xgboostfold4\n",
        "}\n",
        "\n",
        "xgboostfold_models = [S_models_xgboostfold0,S_models_xgboostfold1,S_models_xgboostfold2,S_models_xgboostfold3,S_models_xgboostfold4]"
      ]
    },
    {
      "cell_type": "code",
      "execution_count": 31,
      "metadata": {
        "id": "8esFRwZjBrKm"
      },
      "outputs": [],
      "source": [
        "import gc"
      ]
    },
    {
      "cell_type": "code",
      "execution_count": 32,
      "metadata": {
        "id": "CsNH2n-hKFfe"
      },
      "outputs": [],
      "source": [
        "from Recommenders.KNN.ItemKNNCustomSimilarityRecommender import ItemKNNCustomSimilarityRecommender"
      ]
    },
    {
      "cell_type": "code",
      "execution_count": 33,
      "metadata": {
        "id": "cIIVByka_bZ9"
      },
      "outputs": [],
      "source": [
        "def precision(recommended_items, relevant_items):\n",
        "\n",
        "    is_relevant = np.in1d(recommended_items, relevant_items, assume_unique=True)\n",
        "\n",
        "    precision_score = np.sum(is_relevant, dtype=np.float32) / len(is_relevant)\n",
        "\n",
        "    return precision_score\n",
        "\n",
        "def recall(recommended_items, relevant_items):\n",
        "\n",
        "    is_relevant = np.in1d(recommended_items, relevant_items, assume_unique=True)\n",
        "\n",
        "    recall_score = np.sum(is_relevant, dtype=np.float32) / relevant_items.shape[0]\n",
        "\n",
        "    return recall_score\n",
        "\n",
        "def AP(recommended_items, relevant_items):\n",
        "\n",
        "    is_relevant = np.in1d(recommended_items, relevant_items, assume_unique=True)\n",
        "\n",
        "    # Cumulative sum: precision at 1, at 2, at 3 ...\n",
        "    p_at_k = is_relevant * np.cumsum(is_relevant, dtype=np.float32) / (1 + np.arange(is_relevant.shape[0]))\n",
        "\n",
        "    ap_score = np.sum(p_at_k) / np.min([relevant_items.shape[0], is_relevant.shape[0]])\n",
        "\n",
        "    return ap_score\n",
        "\n",
        "def evaluate_algorithm(URM_test, recommender_object, at=10):\n",
        "\n",
        "    cumulative_precision = 0.0\n",
        "    cumulative_recall = 0.0\n",
        "    cumulative_AP = 0.0\n",
        "\n",
        "    num_eval = 0\n",
        "\n",
        "\n",
        "    for user_id in range(URM_test.shape[0]):\n",
        "\n",
        "        relevant_items = URM_test.indices[URM_test.indptr[user_id]:URM_test.indptr[user_id+1]]\n",
        "\n",
        "        if len(relevant_items)>0:\n",
        "\n",
        "            recommended_items = recommender_object.recommend(user_id, at=at,exclude_seen=True)\n",
        "            num_eval+=1\n",
        "\n",
        "            cumulative_precision += precision(recommended_items, relevant_items)\n",
        "            cumulative_recall += recall(recommended_items, relevant_items)\n",
        "            cumulative_AP += AP(recommended_items, relevant_items)\n",
        "\n",
        "    mean_precision = cumulative_precision / num_eval\n",
        "    mean_recall = cumulative_recall / num_eval\n",
        "    MAP = cumulative_AP / num_eval\n",
        "\n",
        "    print(\"Recommender results are: Precision = {:.10f}, Recall = {:.10f}, MAP = {:.10f}\".format(\n",
        "        cumulative_precision, cumulative_recall, MAP))\n",
        "    return MAP, mean_precision, mean_recall"
      ]
    },
    {
      "cell_type": "code",
      "execution_count": 34,
      "metadata": {
        "id": "l610j715KFff"
      },
      "outputs": [],
      "source": [
        "class Predictor(object):\n",
        "\n",
        "    def __init__(self, URM, model):\n",
        "        self.URM = URM\n",
        "        self.model = model\n",
        "\n",
        "    def recommend(self, user_id, at=10, exclude_seen=True):\n",
        "        # Check if user_id is a valid index\n",
        "        if user_id < 0 or user_id >= self.URM.shape[0]:\n",
        "            print(f\"Invalid user_id: {user_id}\")\n",
        "            return\n",
        "\n",
        "        # compute the scores using the fitted model\n",
        "        scores = self.model._compute_item_score(user_id)[0]\n",
        "\n",
        "        if exclude_seen:\n",
        "            scores = self.filter_seen(user_id, scores)\n",
        "\n",
        "        # rank items\n",
        "        ranking = scores.argsort()[::-1]\n",
        "\n",
        "        return ranking[:at]\n",
        "\n",
        "\n",
        "    def filter_seen(self, user_id, scores):\n",
        "\n",
        "        start_pos = self.URM.indptr[user_id]\n",
        "        end_pos = self.URM.indptr[user_id+1]\n",
        "\n",
        "        user_profile = self.URM.indices[start_pos:end_pos]\n",
        "\n",
        "        scores[user_profile] = -np.inf\n",
        "\n",
        "        return scores"
      ]
    },
    {
      "cell_type": "markdown",
      "metadata": {
        "id": "volza2kxMhJ9"
      },
      "source": [
        "## Train XGboost model"
      ]
    },
    {
      "cell_type": "markdown",
      "metadata": {
        "id": "8-ZWNCvf6vFT"
      },
      "source": [
        "**Define our best model i.e. NON-NORMALISED SIMILARITIES hybrid 0.685907*(0.88*SLIM elasticnet + 0.12*IBCF) + (1 - 0.685907)EASER**"
      ]
    },
    {
      "cell_type": "code",
      "execution_count": 35,
      "metadata": {
        "colab": {
          "base_uri": "https://localhost:8080/"
        },
        "id": "x92IDAQa5Zy3",
        "outputId": "9ef8d653-3233-49ab-cab9-594d31d97b85"
      },
      "outputs": [
        {
          "name": "stdout",
          "output_type": "stream",
          "text": [
            "ItemKNNCustomSimilarityRecommender: URM Detected 205 ( 1.6%) users with no interactions.\n",
            "ItemKNNCustomSimilarityRecommender: URM Detected 120 ( 0.5%) items with no interactions.\n"
          ]
        }
      ],
      "source": [
        "# Define our best submission model i.e. hybrid of NON-NORMALISED SIMILARITIES 0.685907*(0.88*SLIM elasticnet + 0.12*IBCF)+(1 - 0.685907)*EASER\n",
        "\n",
        "alpha = 0.88\n",
        "beta = 0.685907\n",
        "\n",
        "data_fold0 = data_folds[0]\n",
        "\n",
        "S_slim_elastic_f0 = S_models_fold0[\"SLIM\"]\n",
        "S_ibcf_f0 = S_models_fold0[\"IBCF\"]\n",
        "S_easer_f0 = S_models_fold0[\"EASER\"]\n",
        "hybrid_similarity = beta * ((1 - alpha) * S_ibcf_f0  + alpha * S_slim_elastic_f0) + (1 - beta) * S_easer_f0\n",
        "\n",
        "hybrid_recommender_object = ItemKNNCustomSimilarityRecommender(data_fold0['train'])\n",
        "hybrid_recommender_object.fit(hybrid_similarity)\n",
        "hybrid_3models = Predictor(URM=data_fold0['train'], model = hybrid_recommender_object)\n",
        "\n"
      ]
    },
    {
      "cell_type": "markdown",
      "metadata": {
        "id": "QhiOoYnp-iji"
      },
      "source": [
        "**Build the dataframe with the predictions**"
      ]
    },
    {
      "cell_type": "code",
      "execution_count": null,
      "metadata": {},
      "outputs": [],
      "source": [
        "#!pip install xgboost"
      ]
    },
    {
      "cell_type": "code",
      "execution_count": 36,
      "metadata": {
        "id": "h4N4wyaQSgKh"
      },
      "outputs": [],
      "source": [
        "import pandas as pd\n",
        "from tqdm import tqdm\n",
        "import scipy.sparse as sps\n",
        "import numpy as np\n",
        "from xgboost import XGBRanker\n",
        "\n",
        "n_users, n_items = data_fold0['train'].shape\n",
        "\n",
        "training_dataframe = pd.DataFrame(index=range(0,n_users), columns = [\"ItemID\"])\n",
        "training_dataframe.index.name='UserID'"
      ]
    },
    {
      "cell_type": "code",
      "execution_count": 37,
      "metadata": {
        "colab": {
          "base_uri": "https://localhost:8080/",
          "height": 455
        },
        "id": "5EcARmR_SgKi",
        "outputId": "580c3569-bde6-4a58-c05c-ea47d6c39941"
      },
      "outputs": [
        {
          "data": {
            "text/html": [
              "<div>\n",
              "<style scoped>\n",
              "    .dataframe tbody tr th:only-of-type {\n",
              "        vertical-align: middle;\n",
              "    }\n",
              "\n",
              "    .dataframe tbody tr th {\n",
              "        vertical-align: top;\n",
              "    }\n",
              "\n",
              "    .dataframe thead th {\n",
              "        text-align: right;\n",
              "    }\n",
              "</style>\n",
              "<table border=\"1\" class=\"dataframe\">\n",
              "  <thead>\n",
              "    <tr style=\"text-align: right;\">\n",
              "      <th></th>\n",
              "      <th>ItemID</th>\n",
              "    </tr>\n",
              "    <tr>\n",
              "      <th>UserID</th>\n",
              "      <th></th>\n",
              "    </tr>\n",
              "  </thead>\n",
              "  <tbody>\n",
              "    <tr>\n",
              "      <th>0</th>\n",
              "      <td>NaN</td>\n",
              "    </tr>\n",
              "    <tr>\n",
              "      <th>1</th>\n",
              "      <td>NaN</td>\n",
              "    </tr>\n",
              "    <tr>\n",
              "      <th>2</th>\n",
              "      <td>NaN</td>\n",
              "    </tr>\n",
              "    <tr>\n",
              "      <th>3</th>\n",
              "      <td>NaN</td>\n",
              "    </tr>\n",
              "    <tr>\n",
              "      <th>4</th>\n",
              "      <td>NaN</td>\n",
              "    </tr>\n",
              "    <tr>\n",
              "      <th>...</th>\n",
              "      <td>...</td>\n",
              "    </tr>\n",
              "    <tr>\n",
              "      <th>12633</th>\n",
              "      <td>NaN</td>\n",
              "    </tr>\n",
              "    <tr>\n",
              "      <th>12634</th>\n",
              "      <td>NaN</td>\n",
              "    </tr>\n",
              "    <tr>\n",
              "      <th>12635</th>\n",
              "      <td>NaN</td>\n",
              "    </tr>\n",
              "    <tr>\n",
              "      <th>12636</th>\n",
              "      <td>NaN</td>\n",
              "    </tr>\n",
              "    <tr>\n",
              "      <th>12637</th>\n",
              "      <td>NaN</td>\n",
              "    </tr>\n",
              "  </tbody>\n",
              "</table>\n",
              "<p>12638 rows × 1 columns</p>\n",
              "</div>"
            ],
            "text/plain": [
              "       ItemID\n",
              "UserID       \n",
              "0         NaN\n",
              "1         NaN\n",
              "2         NaN\n",
              "3         NaN\n",
              "4         NaN\n",
              "...       ...\n",
              "12633     NaN\n",
              "12634     NaN\n",
              "12635     NaN\n",
              "12636     NaN\n",
              "12637     NaN\n",
              "\n",
              "[12638 rows x 1 columns]"
            ]
          },
          "execution_count": 37,
          "metadata": {},
          "output_type": "execute_result"
        }
      ],
      "source": [
        "training_dataframe"
      ]
    },
    {
      "cell_type": "code",
      "execution_count": 38,
      "metadata": {
        "colab": {
          "base_uri": "https://localhost:8080/"
        },
        "id": "gFq_0gaySgKi",
        "outputId": "ca2477e3-d88d-445c-f187-1e9f727f8fe1"
      },
      "outputs": [
        {
          "name": "stderr",
          "output_type": "stream",
          "text": [
            "100%|██████████| 12638/12638 [00:24<00:00, 513.35it/s]\n"
          ]
        }
      ],
      "source": [
        "cutoff = 30\n",
        "\n",
        "for user_id in tqdm(range(n_users)):\n",
        "    recommendations = hybrid_3models.recommend(user_id, at = cutoff)\n",
        "    training_dataframe.loc[user_id, \"ItemID\"] = recommendations\n",
        "\n"
      ]
    },
    {
      "cell_type": "code",
      "execution_count": 39,
      "metadata": {
        "colab": {
          "base_uri": "https://localhost:8080/",
          "height": 455
        },
        "id": "Q0gbrcfVSgKj",
        "outputId": "edefe5d5-fa7b-430f-90cf-c06ee513dea5"
      },
      "outputs": [
        {
          "data": {
            "text/html": [
              "<div>\n",
              "<style scoped>\n",
              "    .dataframe tbody tr th:only-of-type {\n",
              "        vertical-align: middle;\n",
              "    }\n",
              "\n",
              "    .dataframe tbody tr th {\n",
              "        vertical-align: top;\n",
              "    }\n",
              "\n",
              "    .dataframe thead th {\n",
              "        text-align: right;\n",
              "    }\n",
              "</style>\n",
              "<table border=\"1\" class=\"dataframe\">\n",
              "  <thead>\n",
              "    <tr style=\"text-align: right;\">\n",
              "      <th></th>\n",
              "      <th>ItemID</th>\n",
              "    </tr>\n",
              "    <tr>\n",
              "      <th>UserID</th>\n",
              "      <th></th>\n",
              "    </tr>\n",
              "  </thead>\n",
              "  <tbody>\n",
              "    <tr>\n",
              "      <th>0</th>\n",
              "      <td>[587, 674, 1449, 4, 1167, 2755, 1089, 3186, 24...</td>\n",
              "    </tr>\n",
              "    <tr>\n",
              "      <th>1</th>\n",
              "      <td>[2548, 89, 227, 84, 1831, 812, 887, 83, 3119, ...</td>\n",
              "    </tr>\n",
              "    <tr>\n",
              "      <th>2</th>\n",
              "      <td>[7347, 5375, 8126, 8303, 189, 4809, 3612, 1073...</td>\n",
              "    </tr>\n",
              "    <tr>\n",
              "      <th>3</th>\n",
              "      <td>[589, 49, 83, 227, 812, 841, 815, 1425, 5279, ...</td>\n",
              "    </tr>\n",
              "    <tr>\n",
              "      <th>4</th>\n",
              "      <td>[323, 950, 559, 4316, 1239, 4709, 954, 955, 95...</td>\n",
              "    </tr>\n",
              "    <tr>\n",
              "      <th>...</th>\n",
              "      <td>...</td>\n",
              "    </tr>\n",
              "    <tr>\n",
              "      <th>12633</th>\n",
              "      <td>[2809, 2818, 2807, 2815, 2817, 2811, 4, 22, 30...</td>\n",
              "    </tr>\n",
              "    <tr>\n",
              "      <th>12634</th>\n",
              "      <td>[2810, 3958, 3943, 3328, 3950, 3955, 3949, 114...</td>\n",
              "    </tr>\n",
              "    <tr>\n",
              "      <th>12635</th>\n",
              "      <td>[257, 248, 474, 259, 472, 470, 4864, 15770, 83...</td>\n",
              "    </tr>\n",
              "    <tr>\n",
              "      <th>12636</th>\n",
              "      <td>[6209, 562, 6212, 2244, 600, 689, 4526, 2236, ...</td>\n",
              "    </tr>\n",
              "    <tr>\n",
              "      <th>12637</th>\n",
              "      <td>[10897, 9567, 16585, 564, 10902, 10908, 10904,...</td>\n",
              "    </tr>\n",
              "  </tbody>\n",
              "</table>\n",
              "<p>12638 rows × 1 columns</p>\n",
              "</div>"
            ],
            "text/plain": [
              "                                                   ItemID\n",
              "UserID                                                   \n",
              "0       [587, 674, 1449, 4, 1167, 2755, 1089, 3186, 24...\n",
              "1       [2548, 89, 227, 84, 1831, 812, 887, 83, 3119, ...\n",
              "2       [7347, 5375, 8126, 8303, 189, 4809, 3612, 1073...\n",
              "3       [589, 49, 83, 227, 812, 841, 815, 1425, 5279, ...\n",
              "4       [323, 950, 559, 4316, 1239, 4709, 954, 955, 95...\n",
              "...                                                   ...\n",
              "12633   [2809, 2818, 2807, 2815, 2817, 2811, 4, 22, 30...\n",
              "12634   [2810, 3958, 3943, 3328, 3950, 3955, 3949, 114...\n",
              "12635   [257, 248, 474, 259, 472, 470, 4864, 15770, 83...\n",
              "12636   [6209, 562, 6212, 2244, 600, 689, 4526, 2236, ...\n",
              "12637   [10897, 9567, 16585, 564, 10902, 10908, 10904,...\n",
              "\n",
              "[12638 rows x 1 columns]"
            ]
          },
          "execution_count": 39,
          "metadata": {},
          "output_type": "execute_result"
        }
      ],
      "source": [
        "training_dataframe"
      ]
    },
    {
      "cell_type": "markdown",
      "metadata": {
        "id": "axofh05-_TRF"
      },
      "source": [
        "**Let's transform the dataframe so that we have one recommendation per row**"
      ]
    },
    {
      "cell_type": "code",
      "execution_count": 40,
      "metadata": {
        "colab": {
          "base_uri": "https://localhost:8080/",
          "height": 455
        },
        "id": "5XurPRBSSgKl",
        "outputId": "403fce4d-b6aa-4a11-d2cb-e6fc0ca5c5b0"
      },
      "outputs": [
        {
          "data": {
            "text/html": [
              "<div>\n",
              "<style scoped>\n",
              "    .dataframe tbody tr th:only-of-type {\n",
              "        vertical-align: middle;\n",
              "    }\n",
              "\n",
              "    .dataframe tbody tr th {\n",
              "        vertical-align: top;\n",
              "    }\n",
              "\n",
              "    .dataframe thead th {\n",
              "        text-align: right;\n",
              "    }\n",
              "</style>\n",
              "<table border=\"1\" class=\"dataframe\">\n",
              "  <thead>\n",
              "    <tr style=\"text-align: right;\">\n",
              "      <th></th>\n",
              "      <th>ItemID</th>\n",
              "    </tr>\n",
              "    <tr>\n",
              "      <th>UserID</th>\n",
              "      <th></th>\n",
              "    </tr>\n",
              "  </thead>\n",
              "  <tbody>\n",
              "    <tr>\n",
              "      <th>0</th>\n",
              "      <td>587</td>\n",
              "    </tr>\n",
              "    <tr>\n",
              "      <th>0</th>\n",
              "      <td>674</td>\n",
              "    </tr>\n",
              "    <tr>\n",
              "      <th>0</th>\n",
              "      <td>1449</td>\n",
              "    </tr>\n",
              "    <tr>\n",
              "      <th>0</th>\n",
              "      <td>4</td>\n",
              "    </tr>\n",
              "    <tr>\n",
              "      <th>0</th>\n",
              "      <td>1167</td>\n",
              "    </tr>\n",
              "    <tr>\n",
              "      <th>...</th>\n",
              "      <td>...</td>\n",
              "    </tr>\n",
              "    <tr>\n",
              "      <th>12637</th>\n",
              "      <td>1487</td>\n",
              "    </tr>\n",
              "    <tr>\n",
              "      <th>12637</th>\n",
              "      <td>821</td>\n",
              "    </tr>\n",
              "    <tr>\n",
              "      <th>12637</th>\n",
              "      <td>371</td>\n",
              "    </tr>\n",
              "    <tr>\n",
              "      <th>12637</th>\n",
              "      <td>13255</td>\n",
              "    </tr>\n",
              "    <tr>\n",
              "      <th>12637</th>\n",
              "      <td>16588</td>\n",
              "    </tr>\n",
              "  </tbody>\n",
              "</table>\n",
              "<p>379140 rows × 1 columns</p>\n",
              "</div>"
            ],
            "text/plain": [
              "        ItemID\n",
              "UserID        \n",
              "0          587\n",
              "0          674\n",
              "0         1449\n",
              "0            4\n",
              "0         1167\n",
              "...        ...\n",
              "12637     1487\n",
              "12637      821\n",
              "12637      371\n",
              "12637    13255\n",
              "12637    16588\n",
              "\n",
              "[379140 rows x 1 columns]"
            ]
          },
          "execution_count": 40,
          "metadata": {},
          "output_type": "execute_result"
        }
      ],
      "source": [
        "training_dataframe = training_dataframe.explode(\"ItemID\")\n",
        "training_dataframe['ItemID'] = pd.to_numeric(training_dataframe['ItemID'])\n",
        "training_dataframe"
      ]
    },
    {
      "cell_type": "markdown",
      "metadata": {
        "id": "L_d2pK7g_bZ3"
      },
      "source": [
        "**We should add the target column, which is the correct recommendation as contained in the validation data**"
      ]
    },
    {
      "cell_type": "code",
      "execution_count": 41,
      "metadata": {
        "colab": {
          "base_uri": "https://localhost:8080/",
          "height": 423
        },
        "id": "Rc2DOP8SSgKq",
        "outputId": "9afb6526-2832-4e8b-b716-5f4f6fffeeb0"
      },
      "outputs": [
        {
          "data": {
            "text/html": [
              "<div>\n",
              "<style scoped>\n",
              "    .dataframe tbody tr th:only-of-type {\n",
              "        vertical-align: middle;\n",
              "    }\n",
              "\n",
              "    .dataframe tbody tr th {\n",
              "        vertical-align: top;\n",
              "    }\n",
              "\n",
              "    .dataframe thead th {\n",
              "        text-align: right;\n",
              "    }\n",
              "</style>\n",
              "<table border=\"1\" class=\"dataframe\">\n",
              "  <thead>\n",
              "    <tr style=\"text-align: right;\">\n",
              "      <th></th>\n",
              "      <th>UserID</th>\n",
              "      <th>ItemID</th>\n",
              "    </tr>\n",
              "  </thead>\n",
              "  <tbody>\n",
              "    <tr>\n",
              "      <th>0</th>\n",
              "      <td>0</td>\n",
              "      <td>3</td>\n",
              "    </tr>\n",
              "    <tr>\n",
              "      <th>1</th>\n",
              "      <td>0</td>\n",
              "      <td>4</td>\n",
              "    </tr>\n",
              "    <tr>\n",
              "      <th>2</th>\n",
              "      <td>0</td>\n",
              "      <td>7</td>\n",
              "    </tr>\n",
              "    <tr>\n",
              "      <th>3</th>\n",
              "      <td>0</td>\n",
              "      <td>16</td>\n",
              "    </tr>\n",
              "    <tr>\n",
              "      <th>4</th>\n",
              "      <td>0</td>\n",
              "      <td>17</td>\n",
              "    </tr>\n",
              "    <tr>\n",
              "      <th>...</th>\n",
              "      <td>...</td>\n",
              "      <td>...</td>\n",
              "    </tr>\n",
              "    <tr>\n",
              "      <th>95741</th>\n",
              "      <td>12637</td>\n",
              "      <td>11426</td>\n",
              "    </tr>\n",
              "    <tr>\n",
              "      <th>95742</th>\n",
              "      <td>12637</td>\n",
              "      <td>13248</td>\n",
              "    </tr>\n",
              "    <tr>\n",
              "      <th>95743</th>\n",
              "      <td>12637</td>\n",
              "      <td>16585</td>\n",
              "    </tr>\n",
              "    <tr>\n",
              "      <th>95744</th>\n",
              "      <td>12637</td>\n",
              "      <td>16594</td>\n",
              "    </tr>\n",
              "    <tr>\n",
              "      <th>95745</th>\n",
              "      <td>12637</td>\n",
              "      <td>17581</td>\n",
              "    </tr>\n",
              "  </tbody>\n",
              "</table>\n",
              "<p>95746 rows × 2 columns</p>\n",
              "</div>"
            ],
            "text/plain": [
              "       UserID  ItemID\n",
              "0           0       3\n",
              "1           0       4\n",
              "2           0       7\n",
              "3           0      16\n",
              "4           0      17\n",
              "...       ...     ...\n",
              "95741   12637   11426\n",
              "95742   12637   13248\n",
              "95743   12637   16585\n",
              "95744   12637   16594\n",
              "95745   12637   17581\n",
              "\n",
              "[95746 rows x 2 columns]"
            ]
          },
          "execution_count": 41,
          "metadata": {},
          "output_type": "execute_result"
        }
      ],
      "source": [
        "URM_validation_coo = sps.coo_matrix(data_fold0['val'])\n",
        "\n",
        "correct_recommendations = pd.DataFrame({\"UserID\": URM_validation_coo.row,\n",
        "                                        \"ItemID\": URM_validation_coo.col})\n",
        "correct_recommendations"
      ]
    },
    {
      "cell_type": "code",
      "execution_count": 42,
      "metadata": {
        "colab": {
          "base_uri": "https://localhost:8080/",
          "height": 423
        },
        "id": "SX3xJfubSgKu",
        "outputId": "8e2c56b1-f445-44d5-ff1f-b5ca15735996"
      },
      "outputs": [
        {
          "data": {
            "text/html": [
              "<div>\n",
              "<style scoped>\n",
              "    .dataframe tbody tr th:only-of-type {\n",
              "        vertical-align: middle;\n",
              "    }\n",
              "\n",
              "    .dataframe tbody tr th {\n",
              "        vertical-align: top;\n",
              "    }\n",
              "\n",
              "    .dataframe thead th {\n",
              "        text-align: right;\n",
              "    }\n",
              "</style>\n",
              "<table border=\"1\" class=\"dataframe\">\n",
              "  <thead>\n",
              "    <tr style=\"text-align: right;\">\n",
              "      <th></th>\n",
              "      <th>UserID</th>\n",
              "      <th>ItemID</th>\n",
              "      <th>Exist</th>\n",
              "    </tr>\n",
              "  </thead>\n",
              "  <tbody>\n",
              "    <tr>\n",
              "      <th>0</th>\n",
              "      <td>0</td>\n",
              "      <td>587</td>\n",
              "      <td>left_only</td>\n",
              "    </tr>\n",
              "    <tr>\n",
              "      <th>1</th>\n",
              "      <td>0</td>\n",
              "      <td>674</td>\n",
              "      <td>left_only</td>\n",
              "    </tr>\n",
              "    <tr>\n",
              "      <th>2</th>\n",
              "      <td>0</td>\n",
              "      <td>1449</td>\n",
              "      <td>left_only</td>\n",
              "    </tr>\n",
              "    <tr>\n",
              "      <th>3</th>\n",
              "      <td>0</td>\n",
              "      <td>4</td>\n",
              "      <td>both</td>\n",
              "    </tr>\n",
              "    <tr>\n",
              "      <th>4</th>\n",
              "      <td>0</td>\n",
              "      <td>1167</td>\n",
              "      <td>left_only</td>\n",
              "    </tr>\n",
              "    <tr>\n",
              "      <th>...</th>\n",
              "      <td>...</td>\n",
              "      <td>...</td>\n",
              "      <td>...</td>\n",
              "    </tr>\n",
              "    <tr>\n",
              "      <th>379135</th>\n",
              "      <td>12637</td>\n",
              "      <td>1487</td>\n",
              "      <td>both</td>\n",
              "    </tr>\n",
              "    <tr>\n",
              "      <th>379136</th>\n",
              "      <td>12637</td>\n",
              "      <td>821</td>\n",
              "      <td>left_only</td>\n",
              "    </tr>\n",
              "    <tr>\n",
              "      <th>379137</th>\n",
              "      <td>12637</td>\n",
              "      <td>371</td>\n",
              "      <td>left_only</td>\n",
              "    </tr>\n",
              "    <tr>\n",
              "      <th>379138</th>\n",
              "      <td>12637</td>\n",
              "      <td>13255</td>\n",
              "      <td>left_only</td>\n",
              "    </tr>\n",
              "    <tr>\n",
              "      <th>379139</th>\n",
              "      <td>12637</td>\n",
              "      <td>16588</td>\n",
              "      <td>left_only</td>\n",
              "    </tr>\n",
              "  </tbody>\n",
              "</table>\n",
              "<p>379140 rows × 3 columns</p>\n",
              "</div>"
            ],
            "text/plain": [
              "        UserID  ItemID      Exist\n",
              "0            0     587  left_only\n",
              "1            0     674  left_only\n",
              "2            0    1449  left_only\n",
              "3            0       4       both\n",
              "4            0    1167  left_only\n",
              "...        ...     ...        ...\n",
              "379135   12637    1487       both\n",
              "379136   12637     821  left_only\n",
              "379137   12637     371  left_only\n",
              "379138   12637   13255  left_only\n",
              "379139   12637   16588  left_only\n",
              "\n",
              "[379140 rows x 3 columns]"
            ]
          },
          "execution_count": 42,
          "metadata": {},
          "output_type": "execute_result"
        }
      ],
      "source": [
        "training_dataframe = pd.merge(training_dataframe, correct_recommendations, on=['UserID','ItemID'], how='left', indicator='Exist')\n",
        "training_dataframe"
      ]
    },
    {
      "cell_type": "code",
      "execution_count": 43,
      "metadata": {
        "colab": {
          "base_uri": "https://localhost:8080/",
          "height": 423
        },
        "id": "te9oJEG_SgKv",
        "outputId": "32508925-b664-4b53-ea12-fa4ff3d89f23"
      },
      "outputs": [
        {
          "data": {
            "text/html": [
              "<div>\n",
              "<style scoped>\n",
              "    .dataframe tbody tr th:only-of-type {\n",
              "        vertical-align: middle;\n",
              "    }\n",
              "\n",
              "    .dataframe tbody tr th {\n",
              "        vertical-align: top;\n",
              "    }\n",
              "\n",
              "    .dataframe thead th {\n",
              "        text-align: right;\n",
              "    }\n",
              "</style>\n",
              "<table border=\"1\" class=\"dataframe\">\n",
              "  <thead>\n",
              "    <tr style=\"text-align: right;\">\n",
              "      <th></th>\n",
              "      <th>UserID</th>\n",
              "      <th>ItemID</th>\n",
              "      <th>Label</th>\n",
              "    </tr>\n",
              "  </thead>\n",
              "  <tbody>\n",
              "    <tr>\n",
              "      <th>0</th>\n",
              "      <td>0</td>\n",
              "      <td>587</td>\n",
              "      <td>False</td>\n",
              "    </tr>\n",
              "    <tr>\n",
              "      <th>1</th>\n",
              "      <td>0</td>\n",
              "      <td>674</td>\n",
              "      <td>False</td>\n",
              "    </tr>\n",
              "    <tr>\n",
              "      <th>2</th>\n",
              "      <td>0</td>\n",
              "      <td>1449</td>\n",
              "      <td>False</td>\n",
              "    </tr>\n",
              "    <tr>\n",
              "      <th>3</th>\n",
              "      <td>0</td>\n",
              "      <td>4</td>\n",
              "      <td>True</td>\n",
              "    </tr>\n",
              "    <tr>\n",
              "      <th>4</th>\n",
              "      <td>0</td>\n",
              "      <td>1167</td>\n",
              "      <td>False</td>\n",
              "    </tr>\n",
              "    <tr>\n",
              "      <th>...</th>\n",
              "      <td>...</td>\n",
              "      <td>...</td>\n",
              "      <td>...</td>\n",
              "    </tr>\n",
              "    <tr>\n",
              "      <th>379135</th>\n",
              "      <td>12637</td>\n",
              "      <td>1487</td>\n",
              "      <td>True</td>\n",
              "    </tr>\n",
              "    <tr>\n",
              "      <th>379136</th>\n",
              "      <td>12637</td>\n",
              "      <td>821</td>\n",
              "      <td>False</td>\n",
              "    </tr>\n",
              "    <tr>\n",
              "      <th>379137</th>\n",
              "      <td>12637</td>\n",
              "      <td>371</td>\n",
              "      <td>False</td>\n",
              "    </tr>\n",
              "    <tr>\n",
              "      <th>379138</th>\n",
              "      <td>12637</td>\n",
              "      <td>13255</td>\n",
              "      <td>False</td>\n",
              "    </tr>\n",
              "    <tr>\n",
              "      <th>379139</th>\n",
              "      <td>12637</td>\n",
              "      <td>16588</td>\n",
              "      <td>False</td>\n",
              "    </tr>\n",
              "  </tbody>\n",
              "</table>\n",
              "<p>379140 rows × 3 columns</p>\n",
              "</div>"
            ],
            "text/plain": [
              "        UserID  ItemID  Label\n",
              "0            0     587  False\n",
              "1            0     674  False\n",
              "2            0    1449  False\n",
              "3            0       4   True\n",
              "4            0    1167  False\n",
              "...        ...     ...    ...\n",
              "379135   12637    1487   True\n",
              "379136   12637     821  False\n",
              "379137   12637     371  False\n",
              "379138   12637   13255  False\n",
              "379139   12637   16588  False\n",
              "\n",
              "[379140 rows x 3 columns]"
            ]
          },
          "execution_count": 43,
          "metadata": {},
          "output_type": "execute_result"
        }
      ],
      "source": [
        "training_dataframe[\"Label\"] = training_dataframe[\"Exist\"] == \"both\"\n",
        "training_dataframe.drop(columns = ['Exist'], inplace=True)\n",
        "training_dataframe"
      ]
    },
    {
      "cell_type": "markdown",
      "metadata": {
        "id": "KK243scjDAwt"
      },
      "source": [
        "**Now let's add features as the prediction of other algorithms**"
      ]
    },
    {
      "cell_type": "code",
      "execution_count": 44,
      "metadata": {
        "colab": {
          "base_uri": "https://localhost:8080/"
        },
        "id": "ZNFBj1TKSgKy",
        "outputId": "fed90edb-79b9-4548-c5ee-c596256b65fd"
      },
      "outputs": [
        {
          "name": "stdout",
          "output_type": "stream",
          "text": [
            "ItemKNNCustomSimilarityRecommender: URM Detected 205 ( 1.6%) users with no interactions.\n",
            "ItemKNNCustomSimilarityRecommender: URM Detected 120 ( 0.5%) items with no interactions.\n",
            "ItemKNNCustomSimilarityRecommender: URM Detected 205 ( 1.6%) users with no interactions.\n",
            "ItemKNNCustomSimilarityRecommender: URM Detected 120 ( 0.5%) items with no interactions.\n",
            "ItemKNNCustomSimilarityRecommender: URM Detected 205 ( 1.6%) users with no interactions.\n",
            "ItemKNNCustomSimilarityRecommender: URM Detected 120 ( 0.5%) items with no interactions.\n"
          ]
        }
      ],
      "source": [
        "S_rp3beta_elastic_f0 = S_models_fold0[\"rp3beta\"]\n",
        "rp3beta_recommender_object = ItemKNNCustomSimilarityRecommender(data_fold0['train'])\n",
        "rp3beta_recommender_object.fit(S_rp3beta_elastic_f0)\n",
        "\n",
        "S_ibcf_f0 = S_models_fold0[\"IBCF\"]\n",
        "ibcf_recommender_object = ItemKNNCustomSimilarityRecommender(data_fold0['train'])\n",
        "ibcf_recommender_object.fit(S_ibcf_f0)\n",
        "\n",
        "S_easer_f0 = S_models_fold0[\"EASER\"]\n",
        "easer_recommender_object = ItemKNNCustomSimilarityRecommender(data_fold0['train'])\n",
        "easer_recommender_object.fit(S_easer_f0)\n",
        "\n",
        "\n",
        "\n",
        "other_algorithms = {\n",
        "    \"rp3beta\": rp3beta_recommender_object,\n",
        "    \"EASER\": easer_recommender_object,\n",
        "    \"IBCF\":ibcf_recommender_object\n",
        "}\n"
      ]
    },
    {
      "cell_type": "code",
      "execution_count": 45,
      "metadata": {
        "colab": {
          "base_uri": "https://localhost:8080/",
          "height": 441
        },
        "id": "idfnC_2qSgKz",
        "outputId": "03f807fb-8396-4ec4-d974-1465392302e5"
      },
      "outputs": [
        {
          "name": "stderr",
          "output_type": "stream",
          "text": [
            "  0%|          | 0/12638 [00:00<?, ?it/s]"
          ]
        },
        {
          "name": "stderr",
          "output_type": "stream",
          "text": [
            "100%|██████████| 12638/12638 [00:41<00:00, 302.28it/s]\n"
          ]
        },
        {
          "data": {
            "text/html": [
              "<div>\n",
              "<style scoped>\n",
              "    .dataframe tbody tr th:only-of-type {\n",
              "        vertical-align: middle;\n",
              "    }\n",
              "\n",
              "    .dataframe tbody tr th {\n",
              "        vertical-align: top;\n",
              "    }\n",
              "\n",
              "    .dataframe thead th {\n",
              "        text-align: right;\n",
              "    }\n",
              "</style>\n",
              "<table border=\"1\" class=\"dataframe\">\n",
              "  <thead>\n",
              "    <tr style=\"text-align: right;\">\n",
              "      <th></th>\n",
              "      <th>UserID</th>\n",
              "      <th>ItemID</th>\n",
              "      <th>Label</th>\n",
              "      <th>rp3beta</th>\n",
              "      <th>EASER</th>\n",
              "      <th>IBCF</th>\n",
              "    </tr>\n",
              "  </thead>\n",
              "  <tbody>\n",
              "    <tr>\n",
              "      <th>0</th>\n",
              "      <td>0</td>\n",
              "      <td>587</td>\n",
              "      <td>False</td>\n",
              "      <td>1.756946</td>\n",
              "      <td>0.384206</td>\n",
              "      <td>0.885922</td>\n",
              "    </tr>\n",
              "    <tr>\n",
              "      <th>1</th>\n",
              "      <td>0</td>\n",
              "      <td>674</td>\n",
              "      <td>False</td>\n",
              "      <td>1.890487</td>\n",
              "      <td>0.325518</td>\n",
              "      <td>0.612876</td>\n",
              "    </tr>\n",
              "    <tr>\n",
              "      <th>2</th>\n",
              "      <td>0</td>\n",
              "      <td>1449</td>\n",
              "      <td>False</td>\n",
              "      <td>1.065335</td>\n",
              "      <td>0.203652</td>\n",
              "      <td>0.650260</td>\n",
              "    </tr>\n",
              "    <tr>\n",
              "      <th>3</th>\n",
              "      <td>0</td>\n",
              "      <td>4</td>\n",
              "      <td>True</td>\n",
              "      <td>1.535873</td>\n",
              "      <td>0.230577</td>\n",
              "      <td>0.489168</td>\n",
              "    </tr>\n",
              "    <tr>\n",
              "      <th>4</th>\n",
              "      <td>0</td>\n",
              "      <td>1167</td>\n",
              "      <td>False</td>\n",
              "      <td>1.207187</td>\n",
              "      <td>0.243150</td>\n",
              "      <td>0.380579</td>\n",
              "    </tr>\n",
              "    <tr>\n",
              "      <th>...</th>\n",
              "      <td>...</td>\n",
              "      <td>...</td>\n",
              "      <td>...</td>\n",
              "      <td>...</td>\n",
              "      <td>...</td>\n",
              "      <td>...</td>\n",
              "    </tr>\n",
              "    <tr>\n",
              "      <th>379135</th>\n",
              "      <td>12637</td>\n",
              "      <td>1487</td>\n",
              "      <td>True</td>\n",
              "      <td>1.885228</td>\n",
              "      <td>0.125901</td>\n",
              "      <td>0.877917</td>\n",
              "    </tr>\n",
              "    <tr>\n",
              "      <th>379136</th>\n",
              "      <td>12637</td>\n",
              "      <td>821</td>\n",
              "      <td>False</td>\n",
              "      <td>1.422612</td>\n",
              "      <td>0.190398</td>\n",
              "      <td>0.547981</td>\n",
              "    </tr>\n",
              "    <tr>\n",
              "      <th>379137</th>\n",
              "      <td>12637</td>\n",
              "      <td>371</td>\n",
              "      <td>False</td>\n",
              "      <td>1.501966</td>\n",
              "      <td>0.162347</td>\n",
              "      <td>0.767767</td>\n",
              "    </tr>\n",
              "    <tr>\n",
              "      <th>379138</th>\n",
              "      <td>12637</td>\n",
              "      <td>13255</td>\n",
              "      <td>False</td>\n",
              "      <td>1.306112</td>\n",
              "      <td>0.090506</td>\n",
              "      <td>1.258470</td>\n",
              "    </tr>\n",
              "    <tr>\n",
              "      <th>379139</th>\n",
              "      <td>12637</td>\n",
              "      <td>16588</td>\n",
              "      <td>False</td>\n",
              "      <td>1.868153</td>\n",
              "      <td>0.132354</td>\n",
              "      <td>0.857386</td>\n",
              "    </tr>\n",
              "  </tbody>\n",
              "</table>\n",
              "<p>379140 rows × 6 columns</p>\n",
              "</div>"
            ],
            "text/plain": [
              "        UserID  ItemID  Label   rp3beta     EASER      IBCF\n",
              "0            0     587  False  1.756946  0.384206  0.885922\n",
              "1            0     674  False  1.890487  0.325518  0.612876\n",
              "2            0    1449  False  1.065335  0.203652  0.650260\n",
              "3            0       4   True  1.535873  0.230577  0.489168\n",
              "4            0    1167  False  1.207187  0.243150  0.380579\n",
              "...        ...     ...    ...       ...       ...       ...\n",
              "379135   12637    1487   True  1.885228  0.125901  0.877917\n",
              "379136   12637     821  False  1.422612  0.190398  0.547981\n",
              "379137   12637     371  False  1.501966  0.162347  0.767767\n",
              "379138   12637   13255  False  1.306112  0.090506  1.258470\n",
              "379139   12637   16588  False  1.868153  0.132354  0.857386\n",
              "\n",
              "[379140 rows x 6 columns]"
            ]
          },
          "execution_count": 45,
          "metadata": {},
          "output_type": "execute_result"
        }
      ],
      "source": [
        "training_dataframe = training_dataframe.set_index('UserID')\n",
        "\n",
        "for user_id in tqdm(range(n_users)):\n",
        "    for rec_label, rec_instance in other_algorithms.items():\n",
        "\n",
        "        item_list = training_dataframe.loc[user_id, \"ItemID\"].values.tolist()\n",
        "\n",
        "        all_item_scores = rec_instance._compute_item_score([user_id], items_to_compute = item_list)\n",
        "\n",
        "        training_dataframe.loc[user_id, rec_label] = all_item_scores[0, item_list]\n",
        "\n",
        "training_dataframe = training_dataframe.reset_index()\n",
        "training_dataframe = training_dataframe.rename(columns = {\"index\": \"UserID\"})\n",
        "training_dataframe"
      ]
    },
    {
      "cell_type": "markdown",
      "metadata": {
        "id": "w3uGp06Siylk"
      },
      "source": [
        "**The popularity of the item, the user activity and etc. features**"
      ]
    },
    {
      "cell_type": "code",
      "execution_count": 46,
      "metadata": {
        "colab": {
          "base_uri": "https://localhost:8080/",
          "height": 423
        },
        "id": "mo33Afj2SgK5",
        "outputId": "edffeaec-3ebd-4618-8c1e-a52612531ea6"
      },
      "outputs": [
        {
          "data": {
            "text/html": [
              "<div>\n",
              "<style scoped>\n",
              "    .dataframe tbody tr th:only-of-type {\n",
              "        vertical-align: middle;\n",
              "    }\n",
              "\n",
              "    .dataframe tbody tr th {\n",
              "        vertical-align: top;\n",
              "    }\n",
              "\n",
              "    .dataframe thead th {\n",
              "        text-align: right;\n",
              "    }\n",
              "</style>\n",
              "<table border=\"1\" class=\"dataframe\">\n",
              "  <thead>\n",
              "    <tr style=\"text-align: right;\">\n",
              "      <th></th>\n",
              "      <th>UserID</th>\n",
              "      <th>ItemID</th>\n",
              "      <th>Label</th>\n",
              "      <th>rp3beta</th>\n",
              "      <th>EASER</th>\n",
              "      <th>IBCF</th>\n",
              "      <th>item_popularity</th>\n",
              "    </tr>\n",
              "  </thead>\n",
              "  <tbody>\n",
              "    <tr>\n",
              "      <th>0</th>\n",
              "      <td>0</td>\n",
              "      <td>587</td>\n",
              "      <td>False</td>\n",
              "      <td>1.756946</td>\n",
              "      <td>0.384206</td>\n",
              "      <td>0.885922</td>\n",
              "      <td>586</td>\n",
              "    </tr>\n",
              "    <tr>\n",
              "      <th>1</th>\n",
              "      <td>0</td>\n",
              "      <td>674</td>\n",
              "      <td>False</td>\n",
              "      <td>1.890487</td>\n",
              "      <td>0.325518</td>\n",
              "      <td>0.612876</td>\n",
              "      <td>342</td>\n",
              "    </tr>\n",
              "    <tr>\n",
              "      <th>2</th>\n",
              "      <td>0</td>\n",
              "      <td>1449</td>\n",
              "      <td>False</td>\n",
              "      <td>1.065335</td>\n",
              "      <td>0.203652</td>\n",
              "      <td>0.650260</td>\n",
              "      <td>97</td>\n",
              "    </tr>\n",
              "    <tr>\n",
              "      <th>3</th>\n",
              "      <td>0</td>\n",
              "      <td>4</td>\n",
              "      <td>True</td>\n",
              "      <td>1.535873</td>\n",
              "      <td>0.230577</td>\n",
              "      <td>0.489168</td>\n",
              "      <td>208</td>\n",
              "    </tr>\n",
              "    <tr>\n",
              "      <th>4</th>\n",
              "      <td>0</td>\n",
              "      <td>1167</td>\n",
              "      <td>False</td>\n",
              "      <td>1.207187</td>\n",
              "      <td>0.243150</td>\n",
              "      <td>0.380579</td>\n",
              "      <td>274</td>\n",
              "    </tr>\n",
              "    <tr>\n",
              "      <th>...</th>\n",
              "      <td>...</td>\n",
              "      <td>...</td>\n",
              "      <td>...</td>\n",
              "      <td>...</td>\n",
              "      <td>...</td>\n",
              "      <td>...</td>\n",
              "      <td>...</td>\n",
              "    </tr>\n",
              "    <tr>\n",
              "      <th>379135</th>\n",
              "      <td>12637</td>\n",
              "      <td>1487</td>\n",
              "      <td>True</td>\n",
              "      <td>1.885228</td>\n",
              "      <td>0.125901</td>\n",
              "      <td>0.877917</td>\n",
              "      <td>64</td>\n",
              "    </tr>\n",
              "    <tr>\n",
              "      <th>379136</th>\n",
              "      <td>12637</td>\n",
              "      <td>821</td>\n",
              "      <td>False</td>\n",
              "      <td>1.422612</td>\n",
              "      <td>0.190398</td>\n",
              "      <td>0.547981</td>\n",
              "      <td>147</td>\n",
              "    </tr>\n",
              "    <tr>\n",
              "      <th>379137</th>\n",
              "      <td>12637</td>\n",
              "      <td>371</td>\n",
              "      <td>False</td>\n",
              "      <td>1.501966</td>\n",
              "      <td>0.162347</td>\n",
              "      <td>0.767767</td>\n",
              "      <td>36</td>\n",
              "    </tr>\n",
              "    <tr>\n",
              "      <th>379138</th>\n",
              "      <td>12637</td>\n",
              "      <td>13255</td>\n",
              "      <td>False</td>\n",
              "      <td>1.306112</td>\n",
              "      <td>0.090506</td>\n",
              "      <td>1.258470</td>\n",
              "      <td>6</td>\n",
              "    </tr>\n",
              "    <tr>\n",
              "      <th>379139</th>\n",
              "      <td>12637</td>\n",
              "      <td>16588</td>\n",
              "      <td>False</td>\n",
              "      <td>1.868153</td>\n",
              "      <td>0.132354</td>\n",
              "      <td>0.857386</td>\n",
              "      <td>10</td>\n",
              "    </tr>\n",
              "  </tbody>\n",
              "</table>\n",
              "<p>379140 rows × 7 columns</p>\n",
              "</div>"
            ],
            "text/plain": [
              "        UserID  ItemID  Label   rp3beta     EASER      IBCF  item_popularity\n",
              "0            0     587  False  1.756946  0.384206  0.885922              586\n",
              "1            0     674  False  1.890487  0.325518  0.612876              342\n",
              "2            0    1449  False  1.065335  0.203652  0.650260               97\n",
              "3            0       4   True  1.535873  0.230577  0.489168              208\n",
              "4            0    1167  False  1.207187  0.243150  0.380579              274\n",
              "...        ...     ...    ...       ...       ...       ...              ...\n",
              "379135   12637    1487   True  1.885228  0.125901  0.877917               64\n",
              "379136   12637     821  False  1.422612  0.190398  0.547981              147\n",
              "379137   12637     371  False  1.501966  0.162347  0.767767               36\n",
              "379138   12637   13255  False  1.306112  0.090506  1.258470                6\n",
              "379139   12637   16588  False  1.868153  0.132354  0.857386               10\n",
              "\n",
              "[379140 rows x 7 columns]"
            ]
          },
          "execution_count": 46,
          "metadata": {},
          "output_type": "execute_result"
        }
      ],
      "source": [
        "item_popularity = np.ediff1d(sps.csc_matrix(data_fold0['train']).indptr)\n",
        "\n",
        "training_dataframe['item_popularity'] = item_popularity[training_dataframe[\"ItemID\"].values.astype(int)]\n",
        "training_dataframe"
      ]
    },
    {
      "cell_type": "markdown",
      "metadata": {
        "id": "xhwgoQtzSgK6"
      },
      "source": [
        "**The profile length**"
      ]
    },
    {
      "cell_type": "code",
      "execution_count": 47,
      "metadata": {
        "colab": {
          "base_uri": "https://localhost:8080/",
          "height": 423
        },
        "id": "HXV-EKeUSgK7",
        "outputId": "57ae0621-e9d2-4b9a-b7b1-f177e4b1e665"
      },
      "outputs": [
        {
          "data": {
            "text/html": [
              "<div>\n",
              "<style scoped>\n",
              "    .dataframe tbody tr th:only-of-type {\n",
              "        vertical-align: middle;\n",
              "    }\n",
              "\n",
              "    .dataframe tbody tr th {\n",
              "        vertical-align: top;\n",
              "    }\n",
              "\n",
              "    .dataframe thead th {\n",
              "        text-align: right;\n",
              "    }\n",
              "</style>\n",
              "<table border=\"1\" class=\"dataframe\">\n",
              "  <thead>\n",
              "    <tr style=\"text-align: right;\">\n",
              "      <th></th>\n",
              "      <th>UserID</th>\n",
              "      <th>ItemID</th>\n",
              "      <th>Label</th>\n",
              "      <th>rp3beta</th>\n",
              "      <th>EASER</th>\n",
              "      <th>IBCF</th>\n",
              "      <th>item_popularity</th>\n",
              "      <th>user_profile_len</th>\n",
              "    </tr>\n",
              "  </thead>\n",
              "  <tbody>\n",
              "    <tr>\n",
              "      <th>0</th>\n",
              "      <td>0</td>\n",
              "      <td>587</td>\n",
              "      <td>False</td>\n",
              "      <td>1.756946</td>\n",
              "      <td>0.384206</td>\n",
              "      <td>0.885922</td>\n",
              "      <td>586</td>\n",
              "      <td>36</td>\n",
              "    </tr>\n",
              "    <tr>\n",
              "      <th>1</th>\n",
              "      <td>0</td>\n",
              "      <td>674</td>\n",
              "      <td>False</td>\n",
              "      <td>1.890487</td>\n",
              "      <td>0.325518</td>\n",
              "      <td>0.612876</td>\n",
              "      <td>342</td>\n",
              "      <td>36</td>\n",
              "    </tr>\n",
              "    <tr>\n",
              "      <th>2</th>\n",
              "      <td>0</td>\n",
              "      <td>1449</td>\n",
              "      <td>False</td>\n",
              "      <td>1.065335</td>\n",
              "      <td>0.203652</td>\n",
              "      <td>0.650260</td>\n",
              "      <td>97</td>\n",
              "      <td>36</td>\n",
              "    </tr>\n",
              "    <tr>\n",
              "      <th>3</th>\n",
              "      <td>0</td>\n",
              "      <td>4</td>\n",
              "      <td>True</td>\n",
              "      <td>1.535873</td>\n",
              "      <td>0.230577</td>\n",
              "      <td>0.489168</td>\n",
              "      <td>208</td>\n",
              "      <td>36</td>\n",
              "    </tr>\n",
              "    <tr>\n",
              "      <th>4</th>\n",
              "      <td>0</td>\n",
              "      <td>1167</td>\n",
              "      <td>False</td>\n",
              "      <td>1.207187</td>\n",
              "      <td>0.243150</td>\n",
              "      <td>0.380579</td>\n",
              "      <td>274</td>\n",
              "      <td>36</td>\n",
              "    </tr>\n",
              "    <tr>\n",
              "      <th>...</th>\n",
              "      <td>...</td>\n",
              "      <td>...</td>\n",
              "      <td>...</td>\n",
              "      <td>...</td>\n",
              "      <td>...</td>\n",
              "      <td>...</td>\n",
              "      <td>...</td>\n",
              "      <td>...</td>\n",
              "    </tr>\n",
              "    <tr>\n",
              "      <th>379135</th>\n",
              "      <td>12637</td>\n",
              "      <td>1487</td>\n",
              "      <td>True</td>\n",
              "      <td>1.885228</td>\n",
              "      <td>0.125901</td>\n",
              "      <td>0.877917</td>\n",
              "      <td>64</td>\n",
              "      <td>52</td>\n",
              "    </tr>\n",
              "    <tr>\n",
              "      <th>379136</th>\n",
              "      <td>12637</td>\n",
              "      <td>821</td>\n",
              "      <td>False</td>\n",
              "      <td>1.422612</td>\n",
              "      <td>0.190398</td>\n",
              "      <td>0.547981</td>\n",
              "      <td>147</td>\n",
              "      <td>52</td>\n",
              "    </tr>\n",
              "    <tr>\n",
              "      <th>379137</th>\n",
              "      <td>12637</td>\n",
              "      <td>371</td>\n",
              "      <td>False</td>\n",
              "      <td>1.501966</td>\n",
              "      <td>0.162347</td>\n",
              "      <td>0.767767</td>\n",
              "      <td>36</td>\n",
              "      <td>52</td>\n",
              "    </tr>\n",
              "    <tr>\n",
              "      <th>379138</th>\n",
              "      <td>12637</td>\n",
              "      <td>13255</td>\n",
              "      <td>False</td>\n",
              "      <td>1.306112</td>\n",
              "      <td>0.090506</td>\n",
              "      <td>1.258470</td>\n",
              "      <td>6</td>\n",
              "      <td>52</td>\n",
              "    </tr>\n",
              "    <tr>\n",
              "      <th>379139</th>\n",
              "      <td>12637</td>\n",
              "      <td>16588</td>\n",
              "      <td>False</td>\n",
              "      <td>1.868153</td>\n",
              "      <td>0.132354</td>\n",
              "      <td>0.857386</td>\n",
              "      <td>10</td>\n",
              "      <td>52</td>\n",
              "    </tr>\n",
              "  </tbody>\n",
              "</table>\n",
              "<p>379140 rows × 8 columns</p>\n",
              "</div>"
            ],
            "text/plain": [
              "        UserID  ItemID  Label   rp3beta     EASER      IBCF  item_popularity  \\\n",
              "0            0     587  False  1.756946  0.384206  0.885922              586   \n",
              "1            0     674  False  1.890487  0.325518  0.612876              342   \n",
              "2            0    1449  False  1.065335  0.203652  0.650260               97   \n",
              "3            0       4   True  1.535873  0.230577  0.489168              208   \n",
              "4            0    1167  False  1.207187  0.243150  0.380579              274   \n",
              "...        ...     ...    ...       ...       ...       ...              ...   \n",
              "379135   12637    1487   True  1.885228  0.125901  0.877917               64   \n",
              "379136   12637     821  False  1.422612  0.190398  0.547981              147   \n",
              "379137   12637     371  False  1.501966  0.162347  0.767767               36   \n",
              "379138   12637   13255  False  1.306112  0.090506  1.258470                6   \n",
              "379139   12637   16588  False  1.868153  0.132354  0.857386               10   \n",
              "\n",
              "        user_profile_len  \n",
              "0                     36  \n",
              "1                     36  \n",
              "2                     36  \n",
              "3                     36  \n",
              "4                     36  \n",
              "...                  ...  \n",
              "379135                52  \n",
              "379136                52  \n",
              "379137                52  \n",
              "379138                52  \n",
              "379139                52  \n",
              "\n",
              "[379140 rows x 8 columns]"
            ]
          },
          "execution_count": 47,
          "metadata": {},
          "output_type": "execute_result"
        }
      ],
      "source": [
        "user_popularity = np.ediff1d(sps.csr_matrix(data_fold0['train']).indptr)\n",
        "\n",
        "training_dataframe['user_profile_len'] = user_popularity[training_dataframe[\"UserID\"].values.astype(int)]\n",
        "training_dataframe"
      ]
    },
    {
      "cell_type": "markdown",
      "metadata": {
        "id": "Oi5rOcfkSgK-"
      },
      "source": [
        "**Then we train XGBoost to rerank those prediction using as lable whether they should be recommended or not**"
      ]
    },
    {
      "cell_type": "code",
      "execution_count": 48,
      "metadata": {
        "colab": {
          "base_uri": "https://localhost:8080/",
          "height": 423
        },
        "id": "dq--gz5OSgK_",
        "outputId": "ffc35295-b1f6-4263-8c2e-018ccb8a0b92"
      },
      "outputs": [
        {
          "data": {
            "text/html": [
              "<div>\n",
              "<style scoped>\n",
              "    .dataframe tbody tr th:only-of-type {\n",
              "        vertical-align: middle;\n",
              "    }\n",
              "\n",
              "    .dataframe tbody tr th {\n",
              "        vertical-align: top;\n",
              "    }\n",
              "\n",
              "    .dataframe thead th {\n",
              "        text-align: right;\n",
              "    }\n",
              "</style>\n",
              "<table border=\"1\" class=\"dataframe\">\n",
              "  <thead>\n",
              "    <tr style=\"text-align: right;\">\n",
              "      <th></th>\n",
              "      <th>UserID</th>\n",
              "      <th>ItemID</th>\n",
              "      <th>Label</th>\n",
              "      <th>rp3beta</th>\n",
              "      <th>EASER</th>\n",
              "      <th>IBCF</th>\n",
              "      <th>item_popularity</th>\n",
              "      <th>user_profile_len</th>\n",
              "    </tr>\n",
              "  </thead>\n",
              "  <tbody>\n",
              "    <tr>\n",
              "      <th>0</th>\n",
              "      <td>0</td>\n",
              "      <td>587</td>\n",
              "      <td>False</td>\n",
              "      <td>1.756946</td>\n",
              "      <td>0.384206</td>\n",
              "      <td>0.885922</td>\n",
              "      <td>586</td>\n",
              "      <td>36</td>\n",
              "    </tr>\n",
              "    <tr>\n",
              "      <th>1</th>\n",
              "      <td>0</td>\n",
              "      <td>2441</td>\n",
              "      <td>False</td>\n",
              "      <td>0.224008</td>\n",
              "      <td>0.081729</td>\n",
              "      <td>0.139770</td>\n",
              "      <td>148</td>\n",
              "      <td>36</td>\n",
              "    </tr>\n",
              "    <tr>\n",
              "      <th>2</th>\n",
              "      <td>0</td>\n",
              "      <td>353</td>\n",
              "      <td>False</td>\n",
              "      <td>0.323550</td>\n",
              "      <td>0.097789</td>\n",
              "      <td>0.307937</td>\n",
              "      <td>71</td>\n",
              "      <td>36</td>\n",
              "    </tr>\n",
              "    <tr>\n",
              "      <th>3</th>\n",
              "      <td>0</td>\n",
              "      <td>818</td>\n",
              "      <td>False</td>\n",
              "      <td>0.355252</td>\n",
              "      <td>0.075370</td>\n",
              "      <td>0.206294</td>\n",
              "      <td>227</td>\n",
              "      <td>36</td>\n",
              "    </tr>\n",
              "    <tr>\n",
              "      <th>4</th>\n",
              "      <td>0</td>\n",
              "      <td>4512</td>\n",
              "      <td>False</td>\n",
              "      <td>0.726684</td>\n",
              "      <td>0.076388</td>\n",
              "      <td>0.393346</td>\n",
              "      <td>56</td>\n",
              "      <td>36</td>\n",
              "    </tr>\n",
              "    <tr>\n",
              "      <th>...</th>\n",
              "      <td>...</td>\n",
              "      <td>...</td>\n",
              "      <td>...</td>\n",
              "      <td>...</td>\n",
              "      <td>...</td>\n",
              "      <td>...</td>\n",
              "      <td>...</td>\n",
              "      <td>...</td>\n",
              "    </tr>\n",
              "    <tr>\n",
              "      <th>379135</th>\n",
              "      <td>12637</td>\n",
              "      <td>9567</td>\n",
              "      <td>False</td>\n",
              "      <td>2.224067</td>\n",
              "      <td>0.254522</td>\n",
              "      <td>1.413900</td>\n",
              "      <td>37</td>\n",
              "      <td>52</td>\n",
              "    </tr>\n",
              "    <tr>\n",
              "      <th>379136</th>\n",
              "      <td>12637</td>\n",
              "      <td>10897</td>\n",
              "      <td>True</td>\n",
              "      <td>2.262047</td>\n",
              "      <td>0.280913</td>\n",
              "      <td>1.609995</td>\n",
              "      <td>37</td>\n",
              "      <td>52</td>\n",
              "    </tr>\n",
              "    <tr>\n",
              "      <th>379137</th>\n",
              "      <td>12637</td>\n",
              "      <td>13255</td>\n",
              "      <td>False</td>\n",
              "      <td>1.306112</td>\n",
              "      <td>0.090506</td>\n",
              "      <td>1.258470</td>\n",
              "      <td>6</td>\n",
              "      <td>52</td>\n",
              "    </tr>\n",
              "    <tr>\n",
              "      <th>379138</th>\n",
              "      <td>12637</td>\n",
              "      <td>17581</td>\n",
              "      <td>True</td>\n",
              "      <td>2.187028</td>\n",
              "      <td>0.160564</td>\n",
              "      <td>1.387581</td>\n",
              "      <td>16</td>\n",
              "      <td>52</td>\n",
              "    </tr>\n",
              "    <tr>\n",
              "      <th>379139</th>\n",
              "      <td>12637</td>\n",
              "      <td>16588</td>\n",
              "      <td>False</td>\n",
              "      <td>1.868153</td>\n",
              "      <td>0.132354</td>\n",
              "      <td>0.857386</td>\n",
              "      <td>10</td>\n",
              "      <td>52</td>\n",
              "    </tr>\n",
              "  </tbody>\n",
              "</table>\n",
              "<p>379140 rows × 8 columns</p>\n",
              "</div>"
            ],
            "text/plain": [
              "        UserID  ItemID  Label   rp3beta     EASER      IBCF  item_popularity  \\\n",
              "0            0     587  False  1.756946  0.384206  0.885922              586   \n",
              "1            0    2441  False  0.224008  0.081729  0.139770              148   \n",
              "2            0     353  False  0.323550  0.097789  0.307937               71   \n",
              "3            0     818  False  0.355252  0.075370  0.206294              227   \n",
              "4            0    4512  False  0.726684  0.076388  0.393346               56   \n",
              "...        ...     ...    ...       ...       ...       ...              ...   \n",
              "379135   12637    9567  False  2.224067  0.254522  1.413900               37   \n",
              "379136   12637   10897   True  2.262047  0.280913  1.609995               37   \n",
              "379137   12637   13255  False  1.306112  0.090506  1.258470                6   \n",
              "379138   12637   17581   True  2.187028  0.160564  1.387581               16   \n",
              "379139   12637   16588  False  1.868153  0.132354  0.857386               10   \n",
              "\n",
              "        user_profile_len  \n",
              "0                     36  \n",
              "1                     36  \n",
              "2                     36  \n",
              "3                     36  \n",
              "4                     36  \n",
              "...                  ...  \n",
              "379135                52  \n",
              "379136                52  \n",
              "379137                52  \n",
              "379138                52  \n",
              "379139                52  \n",
              "\n",
              "[379140 rows x 8 columns]"
            ]
          },
          "execution_count": 48,
          "metadata": {},
          "output_type": "execute_result"
        }
      ],
      "source": [
        "training_dataframe = training_dataframe.sort_values(\"UserID\").reset_index()\n",
        "training_dataframe.drop(columns = ['index'], inplace=True)\n",
        "training_dataframe"
      ]
    },
    {
      "cell_type": "markdown",
      "metadata": {
        "id": "B7Hg7PinSgLA"
      },
      "source": [
        "**To use the ranker one first needs to specify the size of the groups, a group is the dimension you rank on, in this case each group corresponds to a user. Since we have generated a fixed number of candidate items for each user all groups have the same length.**"
      ]
    },
    {
      "cell_type": "code",
      "execution_count": 49,
      "metadata": {
        "colab": {
          "base_uri": "https://localhost:8080/"
        },
        "id": "8JmPPcR6SgLB",
        "outputId": "e3ccfcb0-7fae-4c54-d7c1-62d420bf3df7"
      },
      "outputs": [
        {
          "data": {
            "text/plain": [
              "array([30, 30, 30, ..., 30, 30, 30], dtype=int64)"
            ]
          },
          "execution_count": 49,
          "metadata": {},
          "output_type": "execute_result"
        }
      ],
      "source": [
        "groups = training_dataframe.groupby(\"UserID\").size().values\n",
        "groups"
      ]
    },
    {
      "cell_type": "code",
      "execution_count": 50,
      "metadata": {
        "id": "RqGgPmIeSgLC"
      },
      "outputs": [],
      "source": [
        "from xgboost import XGBRanker"
      ]
    },
    {
      "cell_type": "code",
      "execution_count": 51,
      "metadata": {
        "id": "IB9VZ8f9SgLD"
      },
      "outputs": [],
      "source": [
        "n_estimators = 50\n",
        "learning_rate = 1e-1\n",
        "reg_alpha = 1e-1\n",
        "reg_lambda = 1e-1\n",
        "max_depth = 5\n",
        "max_leaves = 0\n",
        "grow_policy = \"depthwise\"\n",
        "objective = \"pairwise\"\n",
        "booster = \"gbtree\"\n",
        "use_user_profile = False\n",
        "random_seed = None\n",
        "\n",
        "XGB_model = XGBRanker(objective='rank:{}'.format(objective),\n",
        "                      n_estimators = int(n_estimators),\n",
        "                      random_state = random_seed,\n",
        "                      learning_rate = learning_rate,\n",
        "                      reg_alpha = reg_alpha,\n",
        "                      reg_lambda = reg_lambda,\n",
        "                      max_depth = int(max_depth),\n",
        "                      max_leaves = int(max_leaves),\n",
        "                      grow_policy = grow_policy,\n",
        "                      verbosity = 0, # 2 if self.verbose else 0,\n",
        "                      booster = booster,\n",
        "                      )"
      ]
    },
    {
      "cell_type": "code",
      "execution_count": 52,
      "metadata": {
        "colab": {
          "base_uri": "https://localhost:8080/",
          "height": 230
        },
        "id": "Uw5cMrAiSgLE",
        "outputId": "fd211d13-f773-4ed3-8194-919929910961"
      },
      "outputs": [
        {
          "data": {
            "text/html": [
              "<style>#sk-container-id-1 {color: black;}#sk-container-id-1 pre{padding: 0;}#sk-container-id-1 div.sk-toggleable {background-color: white;}#sk-container-id-1 label.sk-toggleable__label {cursor: pointer;display: block;width: 100%;margin-bottom: 0;padding: 0.3em;box-sizing: border-box;text-align: center;}#sk-container-id-1 label.sk-toggleable__label-arrow:before {content: \"▸\";float: left;margin-right: 0.25em;color: #696969;}#sk-container-id-1 label.sk-toggleable__label-arrow:hover:before {color: black;}#sk-container-id-1 div.sk-estimator:hover label.sk-toggleable__label-arrow:before {color: black;}#sk-container-id-1 div.sk-toggleable__content {max-height: 0;max-width: 0;overflow: hidden;text-align: left;background-color: #f0f8ff;}#sk-container-id-1 div.sk-toggleable__content pre {margin: 0.2em;color: black;border-radius: 0.25em;background-color: #f0f8ff;}#sk-container-id-1 input.sk-toggleable__control:checked~div.sk-toggleable__content {max-height: 200px;max-width: 100%;overflow: auto;}#sk-container-id-1 input.sk-toggleable__control:checked~label.sk-toggleable__label-arrow:before {content: \"▾\";}#sk-container-id-1 div.sk-estimator input.sk-toggleable__control:checked~label.sk-toggleable__label {background-color: #d4ebff;}#sk-container-id-1 div.sk-label input.sk-toggleable__control:checked~label.sk-toggleable__label {background-color: #d4ebff;}#sk-container-id-1 input.sk-hidden--visually {border: 0;clip: rect(1px 1px 1px 1px);clip: rect(1px, 1px, 1px, 1px);height: 1px;margin: -1px;overflow: hidden;padding: 0;position: absolute;width: 1px;}#sk-container-id-1 div.sk-estimator {font-family: monospace;background-color: #f0f8ff;border: 1px dotted black;border-radius: 0.25em;box-sizing: border-box;margin-bottom: 0.5em;}#sk-container-id-1 div.sk-estimator:hover {background-color: #d4ebff;}#sk-container-id-1 div.sk-parallel-item::after {content: \"\";width: 100%;border-bottom: 1px solid gray;flex-grow: 1;}#sk-container-id-1 div.sk-label:hover label.sk-toggleable__label {background-color: #d4ebff;}#sk-container-id-1 div.sk-serial::before {content: \"\";position: absolute;border-left: 1px solid gray;box-sizing: border-box;top: 0;bottom: 0;left: 50%;z-index: 0;}#sk-container-id-1 div.sk-serial {display: flex;flex-direction: column;align-items: center;background-color: white;padding-right: 0.2em;padding-left: 0.2em;position: relative;}#sk-container-id-1 div.sk-item {position: relative;z-index: 1;}#sk-container-id-1 div.sk-parallel {display: flex;align-items: stretch;justify-content: center;background-color: white;position: relative;}#sk-container-id-1 div.sk-item::before, #sk-container-id-1 div.sk-parallel-item::before {content: \"\";position: absolute;border-left: 1px solid gray;box-sizing: border-box;top: 0;bottom: 0;left: 50%;z-index: -1;}#sk-container-id-1 div.sk-parallel-item {display: flex;flex-direction: column;z-index: 1;position: relative;background-color: white;}#sk-container-id-1 div.sk-parallel-item:first-child::after {align-self: flex-end;width: 50%;}#sk-container-id-1 div.sk-parallel-item:last-child::after {align-self: flex-start;width: 50%;}#sk-container-id-1 div.sk-parallel-item:only-child::after {width: 0;}#sk-container-id-1 div.sk-dashed-wrapped {border: 1px dashed gray;margin: 0 0.4em 0.5em 0.4em;box-sizing: border-box;padding-bottom: 0.4em;background-color: white;}#sk-container-id-1 div.sk-label label {font-family: monospace;font-weight: bold;display: inline-block;line-height: 1.2em;}#sk-container-id-1 div.sk-label-container {text-align: center;}#sk-container-id-1 div.sk-container {/* jupyter's `normalize.less` sets `[hidden] { display: none; }` but bootstrap.min.css set `[hidden] { display: none !important; }` so we also need the `!important` here to be able to override the default hidden behavior on the sphinx rendered scikit-learn.org. See: https://github.com/scikit-learn/scikit-learn/issues/21755 */display: inline-block !important;position: relative;}#sk-container-id-1 div.sk-text-repr-fallback {display: none;}</style><div id=\"sk-container-id-1\" class=\"sk-top-container\"><div class=\"sk-text-repr-fallback\"><pre>XGBRanker(base_score=None, booster=&#x27;gbtree&#x27;, callbacks=None,\n",
              "          colsample_bylevel=None, colsample_bynode=None, colsample_bytree=None,\n",
              "          device=None, early_stopping_rounds=None, enable_categorical=False,\n",
              "          eval_metric=None, feature_types=None, gamma=None,\n",
              "          grow_policy=&#x27;depthwise&#x27;, importance_type=None,\n",
              "          interaction_constraints=None, learning_rate=0.1, max_bin=None,\n",
              "          max_cat_threshold=None, max_cat_to_onehot=None, max_delta_step=None,\n",
              "          max_depth=5, max_leaves=0, min_child_weight=None, missing=nan,\n",
              "          monotone_constraints=None, multi_strategy=None, n_estimators=50,\n",
              "          n_jobs=None, num_parallel_tree=None, objective=&#x27;rank:pairwise&#x27;, ...)</pre><b>In a Jupyter environment, please rerun this cell to show the HTML representation or trust the notebook. <br />On GitHub, the HTML representation is unable to render, please try loading this page with nbviewer.org.</b></div><div class=\"sk-container\" hidden><div class=\"sk-item\"><div class=\"sk-estimator sk-toggleable\"><input class=\"sk-toggleable__control sk-hidden--visually\" id=\"sk-estimator-id-1\" type=\"checkbox\" checked><label for=\"sk-estimator-id-1\" class=\"sk-toggleable__label sk-toggleable__label-arrow\">XGBRanker</label><div class=\"sk-toggleable__content\"><pre>XGBRanker(base_score=None, booster=&#x27;gbtree&#x27;, callbacks=None,\n",
              "          colsample_bylevel=None, colsample_bynode=None, colsample_bytree=None,\n",
              "          device=None, early_stopping_rounds=None, enable_categorical=False,\n",
              "          eval_metric=None, feature_types=None, gamma=None,\n",
              "          grow_policy=&#x27;depthwise&#x27;, importance_type=None,\n",
              "          interaction_constraints=None, learning_rate=0.1, max_bin=None,\n",
              "          max_cat_threshold=None, max_cat_to_onehot=None, max_delta_step=None,\n",
              "          max_depth=5, max_leaves=0, min_child_weight=None, missing=nan,\n",
              "          monotone_constraints=None, multi_strategy=None, n_estimators=50,\n",
              "          n_jobs=None, num_parallel_tree=None, objective=&#x27;rank:pairwise&#x27;, ...)</pre></div></div></div></div></div>"
            ],
            "text/plain": [
              "XGBRanker(base_score=None, booster='gbtree', callbacks=None,\n",
              "          colsample_bylevel=None, colsample_bynode=None, colsample_bytree=None,\n",
              "          device=None, early_stopping_rounds=None, enable_categorical=False,\n",
              "          eval_metric=None, feature_types=None, gamma=None,\n",
              "          grow_policy='depthwise', importance_type=None,\n",
              "          interaction_constraints=None, learning_rate=0.1, max_bin=None,\n",
              "          max_cat_threshold=None, max_cat_to_onehot=None, max_delta_step=None,\n",
              "          max_depth=5, max_leaves=0, min_child_weight=None, missing=nan,\n",
              "          monotone_constraints=None, multi_strategy=None, n_estimators=50,\n",
              "          n_jobs=None, num_parallel_tree=None, objective='rank:pairwise', ...)"
            ]
          },
          "execution_count": 52,
          "metadata": {},
          "output_type": "execute_result"
        }
      ],
      "source": [
        "y_train = training_dataframe[\"Label\"]\n",
        "X_train = training_dataframe.drop(columns=[\"Label\"])\n",
        "\n",
        "XGB_model.fit(X_train,\n",
        "          y_train,\n",
        "          group=groups,\n",
        "          verbose=True)"
      ]
    },
    {
      "cell_type": "code",
      "execution_count": 53,
      "metadata": {
        "id": "tqmfxxV1SgLT"
      },
      "outputs": [],
      "source": [
        "X_train[\"UserID\"] = X_train[\"UserID\"].astype(\"category\")\n",
        "X_train[\"ItemID\"] = X_train[\"ItemID\"].astype(\"category\")"
      ]
    },
    {
      "cell_type": "code",
      "execution_count": 54,
      "metadata": {
        "colab": {
          "base_uri": "https://localhost:8080/",
          "height": 230
        },
        "id": "yDRTcTECSgLU",
        "outputId": "d8a79f65-1118-4bba-980e-bb926d7693c0"
      },
      "outputs": [
        {
          "data": {
            "text/html": [
              "<style>#sk-container-id-2 {color: black;}#sk-container-id-2 pre{padding: 0;}#sk-container-id-2 div.sk-toggleable {background-color: white;}#sk-container-id-2 label.sk-toggleable__label {cursor: pointer;display: block;width: 100%;margin-bottom: 0;padding: 0.3em;box-sizing: border-box;text-align: center;}#sk-container-id-2 label.sk-toggleable__label-arrow:before {content: \"▸\";float: left;margin-right: 0.25em;color: #696969;}#sk-container-id-2 label.sk-toggleable__label-arrow:hover:before {color: black;}#sk-container-id-2 div.sk-estimator:hover label.sk-toggleable__label-arrow:before {color: black;}#sk-container-id-2 div.sk-toggleable__content {max-height: 0;max-width: 0;overflow: hidden;text-align: left;background-color: #f0f8ff;}#sk-container-id-2 div.sk-toggleable__content pre {margin: 0.2em;color: black;border-radius: 0.25em;background-color: #f0f8ff;}#sk-container-id-2 input.sk-toggleable__control:checked~div.sk-toggleable__content {max-height: 200px;max-width: 100%;overflow: auto;}#sk-container-id-2 input.sk-toggleable__control:checked~label.sk-toggleable__label-arrow:before {content: \"▾\";}#sk-container-id-2 div.sk-estimator input.sk-toggleable__control:checked~label.sk-toggleable__label {background-color: #d4ebff;}#sk-container-id-2 div.sk-label input.sk-toggleable__control:checked~label.sk-toggleable__label {background-color: #d4ebff;}#sk-container-id-2 input.sk-hidden--visually {border: 0;clip: rect(1px 1px 1px 1px);clip: rect(1px, 1px, 1px, 1px);height: 1px;margin: -1px;overflow: hidden;padding: 0;position: absolute;width: 1px;}#sk-container-id-2 div.sk-estimator {font-family: monospace;background-color: #f0f8ff;border: 1px dotted black;border-radius: 0.25em;box-sizing: border-box;margin-bottom: 0.5em;}#sk-container-id-2 div.sk-estimator:hover {background-color: #d4ebff;}#sk-container-id-2 div.sk-parallel-item::after {content: \"\";width: 100%;border-bottom: 1px solid gray;flex-grow: 1;}#sk-container-id-2 div.sk-label:hover label.sk-toggleable__label {background-color: #d4ebff;}#sk-container-id-2 div.sk-serial::before {content: \"\";position: absolute;border-left: 1px solid gray;box-sizing: border-box;top: 0;bottom: 0;left: 50%;z-index: 0;}#sk-container-id-2 div.sk-serial {display: flex;flex-direction: column;align-items: center;background-color: white;padding-right: 0.2em;padding-left: 0.2em;position: relative;}#sk-container-id-2 div.sk-item {position: relative;z-index: 1;}#sk-container-id-2 div.sk-parallel {display: flex;align-items: stretch;justify-content: center;background-color: white;position: relative;}#sk-container-id-2 div.sk-item::before, #sk-container-id-2 div.sk-parallel-item::before {content: \"\";position: absolute;border-left: 1px solid gray;box-sizing: border-box;top: 0;bottom: 0;left: 50%;z-index: -1;}#sk-container-id-2 div.sk-parallel-item {display: flex;flex-direction: column;z-index: 1;position: relative;background-color: white;}#sk-container-id-2 div.sk-parallel-item:first-child::after {align-self: flex-end;width: 50%;}#sk-container-id-2 div.sk-parallel-item:last-child::after {align-self: flex-start;width: 50%;}#sk-container-id-2 div.sk-parallel-item:only-child::after {width: 0;}#sk-container-id-2 div.sk-dashed-wrapped {border: 1px dashed gray;margin: 0 0.4em 0.5em 0.4em;box-sizing: border-box;padding-bottom: 0.4em;background-color: white;}#sk-container-id-2 div.sk-label label {font-family: monospace;font-weight: bold;display: inline-block;line-height: 1.2em;}#sk-container-id-2 div.sk-label-container {text-align: center;}#sk-container-id-2 div.sk-container {/* jupyter's `normalize.less` sets `[hidden] { display: none; }` but bootstrap.min.css set `[hidden] { display: none !important; }` so we also need the `!important` here to be able to override the default hidden behavior on the sphinx rendered scikit-learn.org. See: https://github.com/scikit-learn/scikit-learn/issues/21755 */display: inline-block !important;position: relative;}#sk-container-id-2 div.sk-text-repr-fallback {display: none;}</style><div id=\"sk-container-id-2\" class=\"sk-top-container\"><div class=\"sk-text-repr-fallback\"><pre>XGBRanker(base_score=None, booster=&#x27;gbtree&#x27;, callbacks=None,\n",
              "          colsample_bylevel=None, colsample_bynode=None, colsample_bytree=None,\n",
              "          device=None, early_stopping_rounds=None, enable_categorical=True,\n",
              "          eval_metric=None, feature_types=None, gamma=None,\n",
              "          grow_policy=&#x27;depthwise&#x27;, importance_type=None,\n",
              "          interaction_constraints=None, learning_rate=0.1, max_bin=None,\n",
              "          max_cat_threshold=None, max_cat_to_onehot=None, max_delta_step=None,\n",
              "          max_depth=5, max_leaves=0, min_child_weight=None, missing=nan,\n",
              "          monotone_constraints=None, multi_strategy=None, n_estimators=50,\n",
              "          n_jobs=None, num_parallel_tree=None, objective=&#x27;rank:pairwise&#x27;, ...)</pre><b>In a Jupyter environment, please rerun this cell to show the HTML representation or trust the notebook. <br />On GitHub, the HTML representation is unable to render, please try loading this page with nbviewer.org.</b></div><div class=\"sk-container\" hidden><div class=\"sk-item\"><div class=\"sk-estimator sk-toggleable\"><input class=\"sk-toggleable__control sk-hidden--visually\" id=\"sk-estimator-id-2\" type=\"checkbox\" checked><label for=\"sk-estimator-id-2\" class=\"sk-toggleable__label sk-toggleable__label-arrow\">XGBRanker</label><div class=\"sk-toggleable__content\"><pre>XGBRanker(base_score=None, booster=&#x27;gbtree&#x27;, callbacks=None,\n",
              "          colsample_bylevel=None, colsample_bynode=None, colsample_bytree=None,\n",
              "          device=None, early_stopping_rounds=None, enable_categorical=True,\n",
              "          eval_metric=None, feature_types=None, gamma=None,\n",
              "          grow_policy=&#x27;depthwise&#x27;, importance_type=None,\n",
              "          interaction_constraints=None, learning_rate=0.1, max_bin=None,\n",
              "          max_cat_threshold=None, max_cat_to_onehot=None, max_delta_step=None,\n",
              "          max_depth=5, max_leaves=0, min_child_weight=None, missing=nan,\n",
              "          monotone_constraints=None, multi_strategy=None, n_estimators=50,\n",
              "          n_jobs=None, num_parallel_tree=None, objective=&#x27;rank:pairwise&#x27;, ...)</pre></div></div></div></div></div>"
            ],
            "text/plain": [
              "XGBRanker(base_score=None, booster='gbtree', callbacks=None,\n",
              "          colsample_bylevel=None, colsample_bynode=None, colsample_bytree=None,\n",
              "          device=None, early_stopping_rounds=None, enable_categorical=True,\n",
              "          eval_metric=None, feature_types=None, gamma=None,\n",
              "          grow_policy='depthwise', importance_type=None,\n",
              "          interaction_constraints=None, learning_rate=0.1, max_bin=None,\n",
              "          max_cat_threshold=None, max_cat_to_onehot=None, max_delta_step=None,\n",
              "          max_depth=5, max_leaves=0, min_child_weight=None, missing=nan,\n",
              "          monotone_constraints=None, multi_strategy=None, n_estimators=50,\n",
              "          n_jobs=None, num_parallel_tree=None, objective='rank:pairwise', ...)"
            ]
          },
          "execution_count": 54,
          "metadata": {},
          "output_type": "execute_result"
        }
      ],
      "source": [
        "XGB_model = XGBRanker(objective='rank:{}'.format(objective),\n",
        "                      n_estimators = int(n_estimators),\n",
        "                      random_state = random_seed,\n",
        "                      learning_rate = learning_rate,\n",
        "                      reg_alpha = reg_alpha,\n",
        "                      reg_lambda = reg_lambda,\n",
        "                      max_depth = int(max_depth),\n",
        "                      max_leaves = int(max_leaves),\n",
        "                      grow_policy = grow_policy,\n",
        "                      verbosity = 0, # 2 if self.verbose else 0,\n",
        "                      booster = booster,\n",
        "                      enable_categorical = True,\n",
        "                      tree_method = \"hist\",  # Supported tree methods are `gpu_hist`, `approx`, and `hist`.\n",
        "                      )\n",
        "\n",
        "XGB_model.fit(X_train,\n",
        "          y_train,\n",
        "          group=groups,\n",
        "          verbose=True)"
      ]
    },
    {
      "cell_type": "markdown",
      "metadata": {
        "id": "TlZpp9NH_VKu"
      },
      "source": [
        "## Evaluate the XGboost model"
      ]
    },
    {
      "cell_type": "code",
      "execution_count": 55,
      "metadata": {
        "id": "CXyIo48UX2L8"
      },
      "outputs": [],
      "source": [
        "def evaluate_xgboost(URM_test,feature_dataframe, xgboost_model, at=10):\n",
        "\n",
        "    cumulative_precision = 0.0\n",
        "    cumulative_recall = 0.0\n",
        "    cumulative_AP = 0.0\n",
        "\n",
        "    num_eval = 0\n",
        "\n",
        "    for user_id in range(URM_test.shape[0]):\n",
        "\n",
        "        relevant_items = URM_test.indices[URM_test.indptr[user_id]:URM_test.indptr[user_id+1]]\n",
        "\n",
        "        if len(relevant_items)>0:\n",
        "\n",
        "          # Extract the predictions and features for the user\n",
        "          X_to_predict = feature_dataframe[feature_dataframe[\"UserID\"] == user_id]\n",
        "          # Do the reranking prediction\n",
        "          item_reranking_scores = xgboost_model.predict(X_to_predict)\n",
        "          if len(item_reranking_scores) == 0:\n",
        "            print(f'Lenght of reranking for user {usr_idx} is 0')\n",
        "          # Rerank the items according to the reranking scores\n",
        "          initial_recommendations = X_to_predict.ItemID.to_list()\n",
        "          reranked_recommendations = np.array(initial_recommendations)[np.argsort(item_reranking_scores)[::-1]]\n",
        "\n",
        "          num_eval+=1\n",
        "\n",
        "          cumulative_precision += precision(reranked_recommendations, relevant_items)\n",
        "          cumulative_recall += recall(reranked_recommendations, relevant_items)\n",
        "          cumulative_AP += AP(reranked_recommendations, relevant_items)\n",
        "\n",
        "    mean_precision = cumulative_precision / num_eval\n",
        "    mean_recall = cumulative_recall / num_eval\n",
        "    MAP = cumulative_AP / num_eval\n",
        "\n",
        "    print(\"Recommender results are: Precision = {:.10f}, Recall = {:.10f}, MAP = {:.10f}\".format(\n",
        "        cumulative_precision, cumulative_recall, MAP))\n",
        "\n",
        "    return MAP, mean_precision, mean_recall"
      ]
    },
    {
      "cell_type": "code",
      "execution_count": 56,
      "metadata": {
        "id": "hnrSEMQV8-VH"
      },
      "outputs": [],
      "source": [
        "# Define the function for training XGboost model\n",
        "from xgboost import XGBRanker\n",
        "from tqdm import tqdm\n",
        "\n",
        "def prepare_training_df(urm_train_recommender,urm_train_xgboost,initial_recommender,initial_recommendations_cutoff,other_algorithms):\n",
        "  # Build the dataframe with the predictions\n",
        "  n_users, n_items = urm_train_recommender.shape\n",
        "  training_dataframe = pd.DataFrame(index=range(0,n_users), columns = [\"ItemID\"])\n",
        "  training_dataframe.index.name='UserID'\n",
        "\n",
        "  for user_id in tqdm(range(n_users)):\n",
        "    recommendations = initial_recommender.recommend(user_id, at = initial_recommendations_cutoff)\n",
        "    training_dataframe.loc[user_id, \"ItemID\"] = recommendations\n",
        "\n",
        "  # Let's transform the dataframe so that we have one recommendation per row\n",
        "  training_dataframe = training_dataframe.explode(\"ItemID\")\n",
        "  training_dataframe['ItemID'] = pd.to_numeric(training_dataframe['ItemID'])\n",
        "\n",
        "  # We should add the target column, which is the correct recommendation as contained in the validation data\n",
        "  URM_train_xgboost_coo = sps.coo_matrix(urm_train_xgboost)\n",
        "  correct_recommendations = pd.DataFrame({\"UserID\": URM_train_xgboost_coo.row,\n",
        "                                        \"ItemID\": URM_train_xgboost_coo.col})\n",
        "\n",
        "  training_dataframe = pd.merge(training_dataframe, correct_recommendations, on=['UserID','ItemID'], how='left', indicator='Exist')\n",
        "  training_dataframe[\"Label\"] = training_dataframe[\"Exist\"] == \"both\"\n",
        "  training_dataframe.drop(columns = ['Exist'], inplace=True)\n",
        "\n",
        "  # Now let's add features as the prediction of other algorithms\n",
        "\n",
        "  training_dataframe = training_dataframe.set_index('UserID')\n",
        "\n",
        "  for user_id in tqdm(range(n_users)):\n",
        "    for rec_label, rec_instance in other_algorithms.items():\n",
        "      item_list = training_dataframe.loc[user_id, \"ItemID\"].values.tolist()\n",
        "\n",
        "      all_item_scores = rec_instance._compute_item_score([user_id], items_to_compute = item_list)\n",
        "\n",
        "      training_dataframe.loc[user_id, rec_label] = all_item_scores[0, item_list]\n",
        "\n",
        "  training_dataframe = training_dataframe.reset_index()\n",
        "  training_dataframe = training_dataframe.rename(columns = {\"index\": \"UserID\"})\n",
        "\n",
        "  # The popularity of the item, the user activity and other features\n",
        "  item_popularity = np.ediff1d(sps.csc_matrix(urm_train_recommender).indptr)\n",
        "  training_dataframe['item_popularity'] = item_popularity[training_dataframe[\"ItemID\"].values.astype(int)]\n",
        "\n",
        "  # The profile length\n",
        "  user_popularity = np.ediff1d(sps.csr_matrix(urm_train_recommender).indptr)\n",
        "  training_dataframe['user_profile_len'] = user_popularity[training_dataframe[\"UserID\"].values.astype(int)]\n",
        "\n",
        "  # Then we train XGBoost to rerank those prediction using as label whether they should be recommended or not\n",
        "  training_dataframe = training_dataframe.sort_values(\"UserID\").reset_index()\n",
        "  training_dataframe.drop(columns = ['index'], inplace=True)\n",
        "\n",
        "  return training_dataframe\n",
        "\n",
        "\n",
        "def train_xgboost(urm_train_recommender, urm_train_xgboost,initial_recommender, initial_recommendations_cutoff, other_algorithms,\n",
        "                  xgboost_hyperparams):\n",
        "\n",
        "  training_dataframe = prepare_training_df(urm_train_recommender, urm_train_xgboost,initial_recommender, initial_recommendations_cutoff, other_algorithms)\n",
        "  y_train = training_dataframe[\"Label\"]\n",
        "  X_train = training_dataframe.drop(columns=[\"Label\"])\n",
        "\n",
        "  # To use the ranker one first needs to specify the size of the groups, a group is the dimension you rank on.\n",
        "  # In this case each group corresponds to a user. Since we have generated a fixed number of candidate items for each user all groups have the same length.\n",
        "  groups = training_dataframe.groupby(\"UserID\").size().values\n",
        "\n",
        "\n",
        "  use_user_profile = xgboost_hyperparams['use_user_profile']\n",
        "  random_seed = xgboost_hyperparams['random_seed']\n",
        "\n",
        "  XGB_model = XGBRanker(objective='rank:{}'.format(xgboost_hyperparams['objective']),\n",
        "                      n_estimators = int(xgboost_hyperparams['n_estimators']),\n",
        "                      random_state = random_seed,\n",
        "                      learning_rate = xgboost_hyperparams['learning_rate'],\n",
        "                      reg_alpha = xgboost_hyperparams['reg_alpha'],\n",
        "                      reg_lambda = xgboost_hyperparams['reg_lambda'],\n",
        "                      max_depth = int(xgboost_hyperparams['max_depth']),\n",
        "                      max_leaves = int(xgboost_hyperparams['max_leaves']),\n",
        "                      grow_policy = xgboost_hyperparams['grow_policy'],\n",
        "                      verbosity = 0, # 2 if self.verbose else 0,\n",
        "                      booster = xgboost_hyperparams['booster'],\n",
        "                      )\n",
        "\n",
        "\n",
        "  XGB_model.fit(X_train,\n",
        "          y_train,\n",
        "          group=groups,\n",
        "          verbose=True)\n",
        "\n",
        "  return XGB_model"
      ]
    },
    {
      "cell_type": "code",
      "execution_count": 57,
      "metadata": {
        "colab": {
          "base_uri": "https://localhost:8080/"
        },
        "id": "NFnfCeT_9vyy",
        "outputId": "ec73b0f0-e35d-49e5-8144-bb05c5c1a2dc"
      },
      "outputs": [
        {
          "name": "stdout",
          "output_type": "stream",
          "text": [
            "Fold 0 evaluations started\n",
            "ItemKNNCustomSimilarityRecommender: URM Detected 424 ( 3.4%) users with no interactions.\n",
            "ItemKNNCustomSimilarityRecommender: URM Detected 334 ( 1.5%) items with no interactions.\n",
            "ItemKNNCustomSimilarityRecommender: URM Detected 424 ( 3.4%) users with no interactions.\n",
            "ItemKNNCustomSimilarityRecommender: URM Detected 334 ( 1.5%) items with no interactions.\n",
            "ItemKNNCustomSimilarityRecommender: URM Detected 424 ( 3.4%) users with no interactions.\n",
            "ItemKNNCustomSimilarityRecommender: URM Detected 334 ( 1.5%) items with no interactions.\n",
            "ItemKNNCustomSimilarityRecommender: URM Detected 424 ( 3.4%) users with no interactions.\n",
            "ItemKNNCustomSimilarityRecommender: URM Detected 334 ( 1.5%) items with no interactions.\n"
          ]
        },
        {
          "name": "stderr",
          "output_type": "stream",
          "text": [
            "100%|██████████| 12638/12638 [00:24<00:00, 509.05it/s]\n",
            "100%|██████████| 12638/12638 [00:42<00:00, 299.96it/s]\n"
          ]
        },
        {
          "name": "stdout",
          "output_type": "stream",
          "text": [
            "ItemKNNCustomSimilarityRecommender: URM Detected 205 ( 1.6%) users with no interactions.\n",
            "ItemKNNCustomSimilarityRecommender: URM Detected 120 ( 0.5%) items with no interactions.\n",
            "ItemKNNCustomSimilarityRecommender: URM Detected 205 ( 1.6%) users with no interactions.\n",
            "ItemKNNCustomSimilarityRecommender: URM Detected 120 ( 0.5%) items with no interactions.\n",
            "ItemKNNCustomSimilarityRecommender: URM Detected 205 ( 1.6%) users with no interactions.\n",
            "ItemKNNCustomSimilarityRecommender: URM Detected 120 ( 0.5%) items with no interactions.\n",
            "ItemKNNCustomSimilarityRecommender: URM Detected 205 ( 1.6%) users with no interactions.\n",
            "ItemKNNCustomSimilarityRecommender: URM Detected 120 ( 0.5%) items with no interactions.\n"
          ]
        },
        {
          "name": "stderr",
          "output_type": "stream",
          "text": [
            "100%|██████████| 12638/12638 [00:23<00:00, 542.84it/s]\n",
            "100%|██████████| 12638/12638 [00:38<00:00, 327.34it/s]\n"
          ]
        },
        {
          "name": "stdout",
          "output_type": "stream",
          "text": [
            "Recommender results are: Precision = 308.1200000000, Recall = 3372.4768959413, MAP = 0.0876053711\n",
            "Fold 1 evaluations started\n",
            "ItemKNNCustomSimilarityRecommender: URM Detected 464 ( 3.7%) users with no interactions.\n",
            "ItemKNNCustomSimilarityRecommender: URM Detected 345 ( 1.6%) items with no interactions.\n",
            "ItemKNNCustomSimilarityRecommender: URM Detected 464 ( 3.7%) users with no interactions.\n",
            "ItemKNNCustomSimilarityRecommender: URM Detected 345 ( 1.6%) items with no interactions.\n",
            "ItemKNNCustomSimilarityRecommender: URM Detected 464 ( 3.7%) users with no interactions.\n",
            "ItemKNNCustomSimilarityRecommender: URM Detected 345 ( 1.6%) items with no interactions.\n",
            "ItemKNNCustomSimilarityRecommender: URM Detected 464 ( 3.7%) users with no interactions.\n",
            "ItemKNNCustomSimilarityRecommender: URM Detected 345 ( 1.6%) items with no interactions.\n"
          ]
        },
        {
          "name": "stderr",
          "output_type": "stream",
          "text": [
            "100%|██████████| 12638/12638 [00:24<00:00, 522.47it/s]\n",
            "100%|██████████| 12638/12638 [00:40<00:00, 313.52it/s]\n"
          ]
        },
        {
          "name": "stdout",
          "output_type": "stream",
          "text": [
            "ItemKNNCustomSimilarityRecommender: URM Detected 221 ( 1.7%) users with no interactions.\n",
            "ItemKNNCustomSimilarityRecommender: URM Detected 113 ( 0.5%) items with no interactions.\n",
            "ItemKNNCustomSimilarityRecommender: URM Detected 221 ( 1.7%) users with no interactions.\n",
            "ItemKNNCustomSimilarityRecommender: URM Detected 113 ( 0.5%) items with no interactions.\n",
            "ItemKNNCustomSimilarityRecommender: URM Detected 221 ( 1.7%) users with no interactions.\n",
            "ItemKNNCustomSimilarityRecommender: URM Detected 113 ( 0.5%) items with no interactions.\n",
            "ItemKNNCustomSimilarityRecommender: URM Detected 221 ( 1.7%) users with no interactions.\n",
            "ItemKNNCustomSimilarityRecommender: URM Detected 113 ( 0.5%) items with no interactions.\n"
          ]
        },
        {
          "name": "stderr",
          "output_type": "stream",
          "text": [
            "100%|██████████| 12638/12638 [00:22<00:00, 551.00it/s]\n",
            "100%|██████████| 12638/12638 [00:38<00:00, 330.64it/s]\n"
          ]
        },
        {
          "name": "stdout",
          "output_type": "stream",
          "text": [
            "Recommender results are: Precision = 307.4300000000, Recall = 3378.6521160578, MAP = 0.0878538904\n",
            "Fold 2 evaluations started\n",
            "ItemKNNCustomSimilarityRecommender: URM Detected 474 ( 3.8%) users with no interactions.\n",
            "ItemKNNCustomSimilarityRecommender: URM Detected 337 ( 1.5%) items with no interactions.\n",
            "ItemKNNCustomSimilarityRecommender: URM Detected 474 ( 3.8%) users with no interactions.\n",
            "ItemKNNCustomSimilarityRecommender: URM Detected 337 ( 1.5%) items with no interactions.\n",
            "ItemKNNCustomSimilarityRecommender: URM Detected 474 ( 3.8%) users with no interactions.\n",
            "ItemKNNCustomSimilarityRecommender: URM Detected 337 ( 1.5%) items with no interactions.\n",
            "ItemKNNCustomSimilarityRecommender: URM Detected 474 ( 3.8%) users with no interactions.\n",
            "ItemKNNCustomSimilarityRecommender: URM Detected 337 ( 1.5%) items with no interactions.\n"
          ]
        },
        {
          "name": "stderr",
          "output_type": "stream",
          "text": [
            "100%|██████████| 12638/12638 [00:23<00:00, 538.51it/s]\n",
            "100%|██████████| 12638/12638 [00:38<00:00, 332.56it/s]\n"
          ]
        },
        {
          "name": "stdout",
          "output_type": "stream",
          "text": [
            "ItemKNNCustomSimilarityRecommender: URM Detected 196 ( 1.6%) users with no interactions.\n",
            "ItemKNNCustomSimilarityRecommender: URM Detected 119 ( 0.5%) items with no interactions.\n",
            "ItemKNNCustomSimilarityRecommender: URM Detected 196 ( 1.6%) users with no interactions.\n",
            "ItemKNNCustomSimilarityRecommender: URM Detected 119 ( 0.5%) items with no interactions.\n",
            "ItemKNNCustomSimilarityRecommender: URM Detected 196 ( 1.6%) users with no interactions.\n",
            "ItemKNNCustomSimilarityRecommender: URM Detected 119 ( 0.5%) items with no interactions.\n",
            "ItemKNNCustomSimilarityRecommender: URM Detected 196 ( 1.6%) users with no interactions.\n",
            "ItemKNNCustomSimilarityRecommender: URM Detected 119 ( 0.5%) items with no interactions.\n"
          ]
        },
        {
          "name": "stderr",
          "output_type": "stream",
          "text": [
            "100%|██████████| 12638/12638 [00:22<00:00, 555.71it/s]\n",
            "100%|██████████| 12638/12638 [00:40<00:00, 309.16it/s]\n"
          ]
        },
        {
          "name": "stdout",
          "output_type": "stream",
          "text": [
            "Recommender results are: Precision = 305.3000000000, Recall = 3348.5346117165, MAP = 0.0849304589\n",
            "Fold 3 evaluations started\n",
            "ItemKNNCustomSimilarityRecommender: URM Detected 497 ( 3.9%) users with no interactions.\n",
            "ItemKNNCustomSimilarityRecommender: URM Detected 335 ( 1.5%) items with no interactions.\n",
            "ItemKNNCustomSimilarityRecommender: URM Detected 497 ( 3.9%) users with no interactions.\n",
            "ItemKNNCustomSimilarityRecommender: URM Detected 335 ( 1.5%) items with no interactions.\n",
            "ItemKNNCustomSimilarityRecommender: URM Detected 497 ( 3.9%) users with no interactions.\n",
            "ItemKNNCustomSimilarityRecommender: URM Detected 335 ( 1.5%) items with no interactions.\n",
            "ItemKNNCustomSimilarityRecommender: URM Detected 497 ( 3.9%) users with no interactions.\n",
            "ItemKNNCustomSimilarityRecommender: URM Detected 335 ( 1.5%) items with no interactions.\n"
          ]
        },
        {
          "name": "stderr",
          "output_type": "stream",
          "text": [
            "100%|██████████| 12638/12638 [00:26<00:00, 480.96it/s]\n",
            "100%|██████████| 12638/12638 [00:42<00:00, 297.89it/s]\n"
          ]
        },
        {
          "name": "stdout",
          "output_type": "stream",
          "text": [
            "ItemKNNCustomSimilarityRecommender: URM Detected 254 ( 2.0%) users with no interactions.\n",
            "ItemKNNCustomSimilarityRecommender: URM Detected 96 ( 0.4%) items with no interactions.\n",
            "ItemKNNCustomSimilarityRecommender: URM Detected 254 ( 2.0%) users with no interactions.\n",
            "ItemKNNCustomSimilarityRecommender: URM Detected 96 ( 0.4%) items with no interactions.\n",
            "ItemKNNCustomSimilarityRecommender: URM Detected 254 ( 2.0%) users with no interactions.\n",
            "ItemKNNCustomSimilarityRecommender: URM Detected 96 ( 0.4%) items with no interactions.\n",
            "ItemKNNCustomSimilarityRecommender: URM Detected 254 ( 2.0%) users with no interactions.\n",
            "ItemKNNCustomSimilarityRecommender: URM Detected 96 ( 0.4%) items with no interactions.\n"
          ]
        },
        {
          "name": "stderr",
          "output_type": "stream",
          "text": [
            "100%|██████████| 12638/12638 [00:26<00:00, 471.18it/s]\n",
            "100%|██████████| 12638/12638 [00:45<00:00, 275.09it/s]\n"
          ]
        },
        {
          "name": "stdout",
          "output_type": "stream",
          "text": [
            "Recommender results are: Precision = 308.7400000000, Recall = 3423.4580844912, MAP = 0.0875540715\n",
            "Fold 4 evaluations started\n",
            "ItemKNNCustomSimilarityRecommender: URM Detected 478 ( 3.8%) users with no interactions.\n",
            "ItemKNNCustomSimilarityRecommender: URM Detected 337 ( 1.5%) items with no interactions.\n",
            "ItemKNNCustomSimilarityRecommender: URM Detected 478 ( 3.8%) users with no interactions.\n",
            "ItemKNNCustomSimilarityRecommender: URM Detected 337 ( 1.5%) items with no interactions.\n",
            "ItemKNNCustomSimilarityRecommender: URM Detected 478 ( 3.8%) users with no interactions.\n",
            "ItemKNNCustomSimilarityRecommender: URM Detected 337 ( 1.5%) items with no interactions.\n",
            "ItemKNNCustomSimilarityRecommender: URM Detected 478 ( 3.8%) users with no interactions.\n",
            "ItemKNNCustomSimilarityRecommender: URM Detected 337 ( 1.5%) items with no interactions.\n"
          ]
        },
        {
          "name": "stderr",
          "output_type": "stream",
          "text": [
            "100%|██████████| 12638/12638 [00:25<00:00, 495.64it/s]\n",
            "100%|██████████| 12638/12638 [00:44<00:00, 281.68it/s]\n"
          ]
        },
        {
          "name": "stdout",
          "output_type": "stream",
          "text": [
            "ItemKNNCustomSimilarityRecommender: URM Detected 239 ( 1.9%) users with no interactions.\n",
            "ItemKNNCustomSimilarityRecommender: URM Detected 124 ( 0.6%) items with no interactions.\n",
            "ItemKNNCustomSimilarityRecommender: URM Detected 239 ( 1.9%) users with no interactions.\n",
            "ItemKNNCustomSimilarityRecommender: URM Detected 124 ( 0.6%) items with no interactions.\n",
            "ItemKNNCustomSimilarityRecommender: URM Detected 239 ( 1.9%) users with no interactions.\n",
            "ItemKNNCustomSimilarityRecommender: URM Detected 124 ( 0.6%) items with no interactions.\n",
            "ItemKNNCustomSimilarityRecommender: URM Detected 239 ( 1.9%) users with no interactions.\n",
            "ItemKNNCustomSimilarityRecommender: URM Detected 124 ( 0.6%) items with no interactions.\n"
          ]
        },
        {
          "name": "stderr",
          "output_type": "stream",
          "text": [
            "100%|██████████| 12638/12638 [00:24<00:00, 510.20it/s]\n",
            "100%|██████████| 12638/12638 [00:43<00:00, 292.18it/s]\n"
          ]
        },
        {
          "name": "stdout",
          "output_type": "stream",
          "text": [
            "Recommender results are: Precision = 306.5000000000, Recall = 3388.8115602459, MAP = 0.0886982569\n",
            "The crossvalidation MAP for list combination of Noramalised IBCF and SLIM elasticnet is 0.0873284097545886\n"
          ]
        }
      ],
      "source": [
        "# Evaluate model recommendations with 5-fold CV\n",
        "# NON-Normalised SIMILARITIES\n",
        "# USING SPECIFIED VALUES (MAX ONE'S)\n",
        "alpha = 0.88\n",
        "beta = 0.685907\n",
        "\n",
        "init_rec_cutoff = 100\n",
        "\n",
        "xgboost_model_hyperparams = {'n_estimators':50,\n",
        "                             'learning_rate':1e-1,'reg_alpha':1e-1,'reg_lambda':1e-1,'max_depth':5,'max_leaves':0,\n",
        "                             'grow_policy':\"depthwise\",'objective':\"pairwise\",'booster':\"gbtree\",\n",
        "                             'use_user_profile':False,'random_seed':None\n",
        "                             }\n",
        "\n",
        "folds_map = []\n",
        "for k,fold in enumerate(data_folds):\n",
        "  print(f'Fold {k} evaluations started')\n",
        "\n",
        "  # Define the recommender models trained on RecommenderFold of the current fold to prepare for XGboost training\n",
        "  initial_S_slim_elastic = xgboostfold_models[k][\"SLIM\"]\n",
        "  initial_S_ibcf = xgboostfold_models[k][\"IBCF\"]\n",
        "  initial_S_easer = xgboostfold_models[k][\"EASER\"]\n",
        "  initial_hybrid3models_similarity = beta * ((1 - alpha) * initial_S_ibcf  + alpha * initial_S_slim_elastic) + (1 - beta) * initial_S_easer\n",
        "\n",
        "\n",
        "  # Models for features generation\n",
        "  initial_hybrid3models_object = ItemKNNCustomSimilarityRecommender(data_xgboostfolds[k]['train_recommender'])\n",
        "  initial_hybrid3models_object.fit(initial_hybrid3models_similarity)\n",
        "  initial_hybrid3models = Predictor(URM=data_xgboostfolds[k]['train_recommender'], model = initial_hybrid3models_object)\n",
        "\n",
        "  initial_S_rp3beta = xgboostfold_models[k][\"rp3beta\"]\n",
        "  initial_rp3beta_object = ItemKNNCustomSimilarityRecommender(data_xgboostfolds[k]['train_recommender'])\n",
        "  initial_rp3beta_object.fit(initial_S_rp3beta)\n",
        "\n",
        "  initial_S_easer = xgboostfold_models[k][\"EASER\"]\n",
        "  initial_easer_object = ItemKNNCustomSimilarityRecommender(data_xgboostfolds[k]['train_recommender'])\n",
        "  initial_easer_object.fit(initial_S_easer)\n",
        "\n",
        "  initial_S_ibcf = xgboostfold_models[k][\"IBCF\"]\n",
        "  initial_ibcf_object = ItemKNNCustomSimilarityRecommender(data_xgboostfolds[k]['train_recommender'])\n",
        "  initial_ibcf_object.fit(initial_S_ibcf)\n",
        "\n",
        "  init_other_algorithms = {\n",
        "    \"rp3beta\": initial_rp3beta_object,\n",
        "    \"EASER\": initial_easer_object,\n",
        "    \"IBCF\":initial_ibcf_object}\n",
        "\n",
        "  # Get XGboost trained\n",
        "  xgboost_trained = train_xgboost(data_xgboostfolds[k]['train_recommender'],data_xgboostfolds[k]['train_xgboost'],\n",
        "                                  initial_hybrid3models,initial_recommendations_cutoff = init_rec_cutoff, other_algorithms = init_other_algorithms,\n",
        "                                  xgboost_hyperparams = xgboost_model_hyperparams)\n",
        "\n",
        "\n",
        "  # Define the recommender models trained on the whole current fold to prepare for the evaluation\n",
        "  S_slim_elastic = fold_models[k][\"SLIM\"]\n",
        "  S_ibcf = fold_models[k][\"IBCF\"]\n",
        "  S_easer = fold_models[k][\"EASER\"]\n",
        "  hybrid3models_similarity = beta * ((1 - alpha) * S_ibcf  + alpha * S_slim_elastic) + (1 - beta) * S_easer\n",
        "\n",
        "  hybrid3models_object = ItemKNNCustomSimilarityRecommender(fold['train'])\n",
        "  hybrid3models_object.fit(hybrid3models_similarity)\n",
        "  hybrid3models = Predictor(URM=fold['train'], model = hybrid3models_object)\n",
        "\n",
        "  # Models for features generation\n",
        "  S_rp3beta = fold_models[k][\"rp3beta\"]\n",
        "  rp3beta_object = ItemKNNCustomSimilarityRecommender(fold['train'])\n",
        "  rp3beta_object.fit(S_rp3beta)\n",
        "\n",
        "  S_easer = fold_models[k][\"EASER\"]\n",
        "  easer_object = ItemKNNCustomSimilarityRecommender(fold['train'])\n",
        "  easer_object.fit(S_easer)\n",
        "\n",
        "  S_ibcf = fold_models[k][\"IBCF\"]\n",
        "  ibcf_object = ItemKNNCustomSimilarityRecommender(fold['train'])\n",
        "  ibcf_object.fit(S_ibcf)\n",
        "\n",
        "  other_algorithms = {\n",
        "    \"rp3beta\": rp3beta_object,\n",
        "    \"EASER\": easer_object,\n",
        "    \"IBCF\":ibcf_object}\n",
        "\n",
        "  features_df = prepare_training_df(fold['train'],fold['train'],hybrid3models,init_rec_cutoff,other_algorithms)\n",
        "  features_df = features_df.drop(columns=[\"Label\"])\n",
        "\n",
        "\n",
        "  map, mp,mr = evaluate_xgboost(fold['val'],features_df,xgboost_trained)\n",
        "  folds_map.append(map)\n",
        "\n",
        "\n",
        "cv_map = np.array(folds_map).sum()/len(data_folds)\n",
        "print(f'The crossvalidation MAP for list combination of Noramalised IBCF and SLIM elasticnet is {cv_map}')"
      ]
    },
    {
      "cell_type": "code",
      "execution_count": 58,
      "metadata": {
        "id": "icBtOujeEueV"
      },
      "outputs": [],
      "source": [
        "from scipy.stats import loguniform\n",
        "from scipy.stats import uniform"
      ]
    },
    {
      "cell_type": "code",
      "execution_count": 59,
      "metadata": {
        "colab": {
          "base_uri": "https://localhost:8080/"
        },
        "id": "yS32TeJuU5-q",
        "outputId": "37d63f21-8738-40d1-d3ff-d52dd5b6aa01"
      },
      "outputs": [
        {
          "name": "stdout",
          "output_type": "stream",
          "text": [
            "Init_rec_cutoff:[200, 600]\n"
          ]
        }
      ],
      "source": [
        "rnd_init_rec_cutoff = np.array(list(set(uniform.rvs(100,200, size=3).astype(int))))\n",
        "rnd_init_rec_cutoff = [200, 600]\n",
        "print(f\"Init_rec_cutoff:{rnd_init_rec_cutoff}\")"
      ]
    },
    {
      "cell_type": "code",
      "execution_count": 61,
      "metadata": {},
      "outputs": [
        {
          "name": "stdout",
          "output_type": "stream",
          "text": [
            "Init_rec_reg_alpha:[0.1, 0.3, 0.001]\n",
            "Init_rec_reg_beta:[0.1, 0.3, 0.001]\n"
          ]
        }
      ],
      "source": [
        "rnd_init_rec_reg_alpha = [0.1, 0.3, 0.001]\n",
        "rnd_init_rec_reg_beta = [0.1, 0.3, 0.001]\n",
        "print(f\"Init_rec_reg_alpha:{rnd_init_rec_reg_alpha}\")\n",
        "print(f\"Init_rec_reg_beta:{rnd_init_rec_reg_beta}\")"
      ]
    },
    {
      "cell_type": "code",
      "execution_count": 62,
      "metadata": {},
      "outputs": [],
      "source": [
        "results_list = []"
      ]
    },
    {
      "cell_type": "code",
      "execution_count": 69,
      "metadata": {},
      "outputs": [
        {
          "name": "stdout",
          "output_type": "stream",
          "text": [
            "Fold 0 evaluations started\n",
            "ItemKNNCustomSimilarityRecommender: URM Detected 424 ( 3.4%) users with no interactions.\n",
            "ItemKNNCustomSimilarityRecommender: URM Detected 334 ( 1.5%) items with no interactions.\n",
            "ItemKNNCustomSimilarityRecommender: URM Detected 424 ( 3.4%) users with no interactions.\n",
            "ItemKNNCustomSimilarityRecommender: URM Detected 334 ( 1.5%) items with no interactions.\n",
            "ItemKNNCustomSimilarityRecommender: URM Detected 424 ( 3.4%) users with no interactions.\n",
            "ItemKNNCustomSimilarityRecommender: URM Detected 334 ( 1.5%) items with no interactions.\n",
            "ItemKNNCustomSimilarityRecommender: URM Detected 424 ( 3.4%) users with no interactions.\n",
            "ItemKNNCustomSimilarityRecommender: URM Detected 334 ( 1.5%) items with no interactions.\n"
          ]
        },
        {
          "name": "stderr",
          "output_type": "stream",
          "text": [
            "100%|██████████| 12638/12638 [00:24<00:00, 505.76it/s]\n",
            "100%|██████████| 12638/12638 [00:41<00:00, 302.15it/s]\n"
          ]
        },
        {
          "name": "stdout",
          "output_type": "stream",
          "text": [
            "ItemKNNCustomSimilarityRecommender: URM Detected 205 ( 1.6%) users with no interactions.\n",
            "ItemKNNCustomSimilarityRecommender: URM Detected 120 ( 0.5%) items with no interactions.\n",
            "ItemKNNCustomSimilarityRecommender: URM Detected 205 ( 1.6%) users with no interactions.\n",
            "ItemKNNCustomSimilarityRecommender: URM Detected 120 ( 0.5%) items with no interactions.\n",
            "ItemKNNCustomSimilarityRecommender: URM Detected 205 ( 1.6%) users with no interactions.\n",
            "ItemKNNCustomSimilarityRecommender: URM Detected 120 ( 0.5%) items with no interactions.\n",
            "ItemKNNCustomSimilarityRecommender: URM Detected 205 ( 1.6%) users with no interactions.\n",
            "ItemKNNCustomSimilarityRecommender: URM Detected 120 ( 0.5%) items with no interactions.\n"
          ]
        },
        {
          "name": "stderr",
          "output_type": "stream",
          "text": [
            "100%|██████████| 12638/12638 [00:23<00:00, 528.73it/s]\n",
            "100%|██████████| 12638/12638 [00:41<00:00, 302.99it/s]\n"
          ]
        },
        {
          "name": "stdout",
          "output_type": "stream",
          "text": [
            "Recommender results are: Precision = 189.6750000000, Recall = 3949.2728899652, MAP = 0.0880983728\n",
            "The crossvalidation MAP for 200 is 0.017619674551043064\n",
            "Fold 0 evaluations started\n",
            "ItemKNNCustomSimilarityRecommender: URM Detected 424 ( 3.4%) users with no interactions.\n",
            "ItemKNNCustomSimilarityRecommender: URM Detected 334 ( 1.5%) items with no interactions.\n",
            "ItemKNNCustomSimilarityRecommender: URM Detected 424 ( 3.4%) users with no interactions.\n",
            "ItemKNNCustomSimilarityRecommender: URM Detected 334 ( 1.5%) items with no interactions.\n",
            "ItemKNNCustomSimilarityRecommender: URM Detected 424 ( 3.4%) users with no interactions.\n",
            "ItemKNNCustomSimilarityRecommender: URM Detected 334 ( 1.5%) items with no interactions.\n",
            "ItemKNNCustomSimilarityRecommender: URM Detected 424 ( 3.4%) users with no interactions.\n",
            "ItemKNNCustomSimilarityRecommender: URM Detected 334 ( 1.5%) items with no interactions.\n"
          ]
        },
        {
          "name": "stderr",
          "output_type": "stream",
          "text": [
            "100%|██████████| 12638/12638 [00:23<00:00, 531.40it/s]\n",
            "100%|██████████| 12638/12638 [00:40<00:00, 313.50it/s]\n"
          ]
        },
        {
          "name": "stdout",
          "output_type": "stream",
          "text": [
            "ItemKNNCustomSimilarityRecommender: URM Detected 205 ( 1.6%) users with no interactions.\n",
            "ItemKNNCustomSimilarityRecommender: URM Detected 120 ( 0.5%) items with no interactions.\n",
            "ItemKNNCustomSimilarityRecommender: URM Detected 205 ( 1.6%) users with no interactions.\n",
            "ItemKNNCustomSimilarityRecommender: URM Detected 120 ( 0.5%) items with no interactions.\n",
            "ItemKNNCustomSimilarityRecommender: URM Detected 205 ( 1.6%) users with no interactions.\n",
            "ItemKNNCustomSimilarityRecommender: URM Detected 120 ( 0.5%) items with no interactions.\n",
            "ItemKNNCustomSimilarityRecommender: URM Detected 205 ( 1.6%) users with no interactions.\n",
            "ItemKNNCustomSimilarityRecommender: URM Detected 120 ( 0.5%) items with no interactions.\n"
          ]
        },
        {
          "name": "stderr",
          "output_type": "stream",
          "text": [
            "100%|██████████| 12638/12638 [00:24<00:00, 517.04it/s]\n",
            "100%|██████████| 12638/12638 [00:39<00:00, 318.12it/s]\n"
          ]
        },
        {
          "name": "stdout",
          "output_type": "stream",
          "text": [
            "Recommender results are: Precision = 189.6750000000, Recall = 3949.2728899652, MAP = 0.0891543091\n",
            "The crossvalidation MAP for 200 is 0.01783086181264452\n",
            "Fold 0 evaluations started\n",
            "ItemKNNCustomSimilarityRecommender: URM Detected 424 ( 3.4%) users with no interactions.\n",
            "ItemKNNCustomSimilarityRecommender: URM Detected 334 ( 1.5%) items with no interactions.\n",
            "ItemKNNCustomSimilarityRecommender: URM Detected 424 ( 3.4%) users with no interactions.\n",
            "ItemKNNCustomSimilarityRecommender: URM Detected 334 ( 1.5%) items with no interactions.\n",
            "ItemKNNCustomSimilarityRecommender: URM Detected 424 ( 3.4%) users with no interactions.\n",
            "ItemKNNCustomSimilarityRecommender: URM Detected 334 ( 1.5%) items with no interactions.\n",
            "ItemKNNCustomSimilarityRecommender: URM Detected 424 ( 3.4%) users with no interactions.\n",
            "ItemKNNCustomSimilarityRecommender: URM Detected 334 ( 1.5%) items with no interactions.\n"
          ]
        },
        {
          "name": "stderr",
          "output_type": "stream",
          "text": [
            "100%|██████████| 12638/12638 [00:23<00:00, 536.26it/s]\n",
            "100%|██████████| 12638/12638 [00:39<00:00, 317.39it/s]\n"
          ]
        },
        {
          "name": "stdout",
          "output_type": "stream",
          "text": [
            "ItemKNNCustomSimilarityRecommender: URM Detected 205 ( 1.6%) users with no interactions.\n",
            "ItemKNNCustomSimilarityRecommender: URM Detected 120 ( 0.5%) items with no interactions.\n",
            "ItemKNNCustomSimilarityRecommender: URM Detected 205 ( 1.6%) users with no interactions.\n",
            "ItemKNNCustomSimilarityRecommender: URM Detected 120 ( 0.5%) items with no interactions.\n",
            "ItemKNNCustomSimilarityRecommender: URM Detected 205 ( 1.6%) users with no interactions.\n",
            "ItemKNNCustomSimilarityRecommender: URM Detected 120 ( 0.5%) items with no interactions.\n",
            "ItemKNNCustomSimilarityRecommender: URM Detected 205 ( 1.6%) users with no interactions.\n",
            "ItemKNNCustomSimilarityRecommender: URM Detected 120 ( 0.5%) items with no interactions.\n"
          ]
        },
        {
          "name": "stderr",
          "output_type": "stream",
          "text": [
            "100%|██████████| 12638/12638 [00:23<00:00, 540.62it/s]\n",
            "100%|██████████| 12638/12638 [00:40<00:00, 310.77it/s]\n"
          ]
        },
        {
          "name": "stdout",
          "output_type": "stream",
          "text": [
            "Recommender results are: Precision = 189.6750000000, Recall = 3949.2728899652, MAP = 0.0887454018\n",
            "The crossvalidation MAP for 200 is 0.01774908035994817\n",
            "Fold 0 evaluations started\n",
            "ItemKNNCustomSimilarityRecommender: URM Detected 424 ( 3.4%) users with no interactions.\n",
            "ItemKNNCustomSimilarityRecommender: URM Detected 334 ( 1.5%) items with no interactions.\n",
            "ItemKNNCustomSimilarityRecommender: URM Detected 424 ( 3.4%) users with no interactions.\n",
            "ItemKNNCustomSimilarityRecommender: URM Detected 334 ( 1.5%) items with no interactions.\n",
            "ItemKNNCustomSimilarityRecommender: URM Detected 424 ( 3.4%) users with no interactions.\n",
            "ItemKNNCustomSimilarityRecommender: URM Detected 334 ( 1.5%) items with no interactions.\n",
            "ItemKNNCustomSimilarityRecommender: URM Detected 424 ( 3.4%) users with no interactions.\n",
            "ItemKNNCustomSimilarityRecommender: URM Detected 334 ( 1.5%) items with no interactions.\n"
          ]
        },
        {
          "name": "stderr",
          "output_type": "stream",
          "text": [
            "100%|██████████| 12638/12638 [00:23<00:00, 541.68it/s]\n",
            "100%|██████████| 12638/12638 [00:39<00:00, 318.41it/s]\n"
          ]
        },
        {
          "name": "stdout",
          "output_type": "stream",
          "text": [
            "ItemKNNCustomSimilarityRecommender: URM Detected 205 ( 1.6%) users with no interactions.\n",
            "ItemKNNCustomSimilarityRecommender: URM Detected 120 ( 0.5%) items with no interactions.\n",
            "ItemKNNCustomSimilarityRecommender: URM Detected 205 ( 1.6%) users with no interactions.\n",
            "ItemKNNCustomSimilarityRecommender: URM Detected 120 ( 0.5%) items with no interactions.\n",
            "ItemKNNCustomSimilarityRecommender: URM Detected 205 ( 1.6%) users with no interactions.\n",
            "ItemKNNCustomSimilarityRecommender: URM Detected 120 ( 0.5%) items with no interactions.\n",
            "ItemKNNCustomSimilarityRecommender: URM Detected 205 ( 1.6%) users with no interactions.\n",
            "ItemKNNCustomSimilarityRecommender: URM Detected 120 ( 0.5%) items with no interactions.\n"
          ]
        },
        {
          "name": "stderr",
          "output_type": "stream",
          "text": [
            "100%|██████████| 12638/12638 [00:23<00:00, 536.41it/s]\n",
            "100%|██████████| 12638/12638 [00:40<00:00, 315.55it/s]\n"
          ]
        },
        {
          "name": "stdout",
          "output_type": "stream",
          "text": [
            "Recommender results are: Precision = 189.6750000000, Recall = 3949.2728899652, MAP = 0.0883799712\n",
            "The crossvalidation MAP for 200 is 0.017675994230983382\n",
            "Fold 0 evaluations started\n",
            "ItemKNNCustomSimilarityRecommender: URM Detected 424 ( 3.4%) users with no interactions.\n",
            "ItemKNNCustomSimilarityRecommender: URM Detected 334 ( 1.5%) items with no interactions.\n",
            "ItemKNNCustomSimilarityRecommender: URM Detected 424 ( 3.4%) users with no interactions.\n",
            "ItemKNNCustomSimilarityRecommender: URM Detected 334 ( 1.5%) items with no interactions.\n",
            "ItemKNNCustomSimilarityRecommender: URM Detected 424 ( 3.4%) users with no interactions.\n",
            "ItemKNNCustomSimilarityRecommender: URM Detected 334 ( 1.5%) items with no interactions.\n",
            "ItemKNNCustomSimilarityRecommender: URM Detected 424 ( 3.4%) users with no interactions.\n",
            "ItemKNNCustomSimilarityRecommender: URM Detected 334 ( 1.5%) items with no interactions.\n"
          ]
        },
        {
          "name": "stderr",
          "output_type": "stream",
          "text": [
            "100%|██████████| 12638/12638 [00:24<00:00, 526.43it/s]\n",
            "100%|██████████| 12638/12638 [00:39<00:00, 316.77it/s]\n"
          ]
        },
        {
          "name": "stdout",
          "output_type": "stream",
          "text": [
            "ItemKNNCustomSimilarityRecommender: URM Detected 205 ( 1.6%) users with no interactions.\n",
            "ItemKNNCustomSimilarityRecommender: URM Detected 120 ( 0.5%) items with no interactions.\n",
            "ItemKNNCustomSimilarityRecommender: URM Detected 205 ( 1.6%) users with no interactions.\n",
            "ItemKNNCustomSimilarityRecommender: URM Detected 120 ( 0.5%) items with no interactions.\n",
            "ItemKNNCustomSimilarityRecommender: URM Detected 205 ( 1.6%) users with no interactions.\n",
            "ItemKNNCustomSimilarityRecommender: URM Detected 120 ( 0.5%) items with no interactions.\n",
            "ItemKNNCustomSimilarityRecommender: URM Detected 205 ( 1.6%) users with no interactions.\n",
            "ItemKNNCustomSimilarityRecommender: URM Detected 120 ( 0.5%) items with no interactions.\n"
          ]
        },
        {
          "name": "stderr",
          "output_type": "stream",
          "text": [
            "100%|██████████| 12638/12638 [00:23<00:00, 543.03it/s]\n",
            "100%|██████████| 12638/12638 [00:40<00:00, 315.92it/s]\n"
          ]
        },
        {
          "name": "stdout",
          "output_type": "stream",
          "text": [
            "Recommender results are: Precision = 189.6750000000, Recall = 3949.2728899652, MAP = 0.0890542247\n",
            "The crossvalidation MAP for 200 is 0.01781084494677826\n",
            "Fold 0 evaluations started\n",
            "ItemKNNCustomSimilarityRecommender: URM Detected 424 ( 3.4%) users with no interactions.\n",
            "ItemKNNCustomSimilarityRecommender: URM Detected 334 ( 1.5%) items with no interactions.\n",
            "ItemKNNCustomSimilarityRecommender: URM Detected 424 ( 3.4%) users with no interactions.\n",
            "ItemKNNCustomSimilarityRecommender: URM Detected 334 ( 1.5%) items with no interactions.\n",
            "ItemKNNCustomSimilarityRecommender: URM Detected 424 ( 3.4%) users with no interactions.\n",
            "ItemKNNCustomSimilarityRecommender: URM Detected 334 ( 1.5%) items with no interactions.\n",
            "ItemKNNCustomSimilarityRecommender: URM Detected 424 ( 3.4%) users with no interactions.\n",
            "ItemKNNCustomSimilarityRecommender: URM Detected 334 ( 1.5%) items with no interactions.\n"
          ]
        },
        {
          "name": "stderr",
          "output_type": "stream",
          "text": [
            "100%|██████████| 12638/12638 [00:23<00:00, 543.19it/s]\n",
            "100%|██████████| 12638/12638 [00:39<00:00, 321.31it/s]\n"
          ]
        },
        {
          "name": "stdout",
          "output_type": "stream",
          "text": [
            "ItemKNNCustomSimilarityRecommender: URM Detected 205 ( 1.6%) users with no interactions.\n",
            "ItemKNNCustomSimilarityRecommender: URM Detected 120 ( 0.5%) items with no interactions.\n",
            "ItemKNNCustomSimilarityRecommender: URM Detected 205 ( 1.6%) users with no interactions.\n",
            "ItemKNNCustomSimilarityRecommender: URM Detected 120 ( 0.5%) items with no interactions.\n",
            "ItemKNNCustomSimilarityRecommender: URM Detected 205 ( 1.6%) users with no interactions.\n",
            "ItemKNNCustomSimilarityRecommender: URM Detected 120 ( 0.5%) items with no interactions.\n",
            "ItemKNNCustomSimilarityRecommender: URM Detected 205 ( 1.6%) users with no interactions.\n",
            "ItemKNNCustomSimilarityRecommender: URM Detected 120 ( 0.5%) items with no interactions.\n"
          ]
        },
        {
          "name": "stderr",
          "output_type": "stream",
          "text": [
            "100%|██████████| 12638/12638 [00:23<00:00, 530.97it/s]\n",
            "100%|██████████| 12638/12638 [00:40<00:00, 312.74it/s]\n"
          ]
        },
        {
          "name": "stdout",
          "output_type": "stream",
          "text": [
            "Recommender results are: Precision = 189.6750000000, Recall = 3949.2728899652, MAP = 0.0889940182\n",
            "The crossvalidation MAP for 200 is 0.017798803642620868\n",
            "Fold 0 evaluations started\n",
            "ItemKNNCustomSimilarityRecommender: URM Detected 424 ( 3.4%) users with no interactions.\n",
            "ItemKNNCustomSimilarityRecommender: URM Detected 334 ( 1.5%) items with no interactions.\n",
            "ItemKNNCustomSimilarityRecommender: URM Detected 424 ( 3.4%) users with no interactions.\n",
            "ItemKNNCustomSimilarityRecommender: URM Detected 334 ( 1.5%) items with no interactions.\n",
            "ItemKNNCustomSimilarityRecommender: URM Detected 424 ( 3.4%) users with no interactions.\n",
            "ItemKNNCustomSimilarityRecommender: URM Detected 334 ( 1.5%) items with no interactions.\n",
            "ItemKNNCustomSimilarityRecommender: URM Detected 424 ( 3.4%) users with no interactions.\n",
            "ItemKNNCustomSimilarityRecommender: URM Detected 334 ( 1.5%) items with no interactions.\n"
          ]
        },
        {
          "name": "stderr",
          "output_type": "stream",
          "text": [
            "100%|██████████| 12638/12638 [00:23<00:00, 546.23it/s]\n",
            "100%|██████████| 12638/12638 [00:39<00:00, 320.73it/s]\n"
          ]
        },
        {
          "name": "stdout",
          "output_type": "stream",
          "text": [
            "ItemKNNCustomSimilarityRecommender: URM Detected 205 ( 1.6%) users with no interactions.\n",
            "ItemKNNCustomSimilarityRecommender: URM Detected 120 ( 0.5%) items with no interactions.\n",
            "ItemKNNCustomSimilarityRecommender: URM Detected 205 ( 1.6%) users with no interactions.\n",
            "ItemKNNCustomSimilarityRecommender: URM Detected 120 ( 0.5%) items with no interactions.\n",
            "ItemKNNCustomSimilarityRecommender: URM Detected 205 ( 1.6%) users with no interactions.\n",
            "ItemKNNCustomSimilarityRecommender: URM Detected 120 ( 0.5%) items with no interactions.\n",
            "ItemKNNCustomSimilarityRecommender: URM Detected 205 ( 1.6%) users with no interactions.\n",
            "ItemKNNCustomSimilarityRecommender: URM Detected 120 ( 0.5%) items with no interactions.\n"
          ]
        },
        {
          "name": "stderr",
          "output_type": "stream",
          "text": [
            "100%|██████████| 12638/12638 [00:23<00:00, 537.82it/s]\n",
            "100%|██████████| 12638/12638 [00:39<00:00, 321.31it/s]\n"
          ]
        },
        {
          "name": "stdout",
          "output_type": "stream",
          "text": [
            "Recommender results are: Precision = 189.6750000000, Recall = 3949.2728899652, MAP = 0.0887139130\n",
            "The crossvalidation MAP for 200 is 0.017742782604935427\n",
            "Fold 0 evaluations started\n",
            "ItemKNNCustomSimilarityRecommender: URM Detected 424 ( 3.4%) users with no interactions.\n",
            "ItemKNNCustomSimilarityRecommender: URM Detected 334 ( 1.5%) items with no interactions.\n",
            "ItemKNNCustomSimilarityRecommender: URM Detected 424 ( 3.4%) users with no interactions.\n",
            "ItemKNNCustomSimilarityRecommender: URM Detected 334 ( 1.5%) items with no interactions.\n",
            "ItemKNNCustomSimilarityRecommender: URM Detected 424 ( 3.4%) users with no interactions.\n",
            "ItemKNNCustomSimilarityRecommender: URM Detected 334 ( 1.5%) items with no interactions.\n",
            "ItemKNNCustomSimilarityRecommender: URM Detected 424 ( 3.4%) users with no interactions.\n",
            "ItemKNNCustomSimilarityRecommender: URM Detected 334 ( 1.5%) items with no interactions.\n"
          ]
        },
        {
          "name": "stderr",
          "output_type": "stream",
          "text": [
            "100%|██████████| 12638/12638 [00:23<00:00, 539.82it/s]\n",
            "100%|██████████| 12638/12638 [00:39<00:00, 319.95it/s]\n"
          ]
        },
        {
          "name": "stdout",
          "output_type": "stream",
          "text": [
            "ItemKNNCustomSimilarityRecommender: URM Detected 205 ( 1.6%) users with no interactions.\n",
            "ItemKNNCustomSimilarityRecommender: URM Detected 120 ( 0.5%) items with no interactions.\n",
            "ItemKNNCustomSimilarityRecommender: URM Detected 205 ( 1.6%) users with no interactions.\n",
            "ItemKNNCustomSimilarityRecommender: URM Detected 120 ( 0.5%) items with no interactions.\n",
            "ItemKNNCustomSimilarityRecommender: URM Detected 205 ( 1.6%) users with no interactions.\n",
            "ItemKNNCustomSimilarityRecommender: URM Detected 120 ( 0.5%) items with no interactions.\n",
            "ItemKNNCustomSimilarityRecommender: URM Detected 205 ( 1.6%) users with no interactions.\n",
            "ItemKNNCustomSimilarityRecommender: URM Detected 120 ( 0.5%) items with no interactions.\n"
          ]
        },
        {
          "name": "stderr",
          "output_type": "stream",
          "text": [
            "100%|██████████| 12638/12638 [00:22<00:00, 551.54it/s]\n",
            "100%|██████████| 12638/12638 [00:39<00:00, 317.93it/s]\n"
          ]
        },
        {
          "name": "stdout",
          "output_type": "stream",
          "text": [
            "Recommender results are: Precision = 189.6750000000, Recall = 3949.2728899652, MAP = 0.0881796030\n",
            "The crossvalidation MAP for 200 is 0.017635920595068202\n",
            "Fold 0 evaluations started\n",
            "ItemKNNCustomSimilarityRecommender: URM Detected 424 ( 3.4%) users with no interactions.\n",
            "ItemKNNCustomSimilarityRecommender: URM Detected 334 ( 1.5%) items with no interactions.\n",
            "ItemKNNCustomSimilarityRecommender: URM Detected 424 ( 3.4%) users with no interactions.\n",
            "ItemKNNCustomSimilarityRecommender: URM Detected 334 ( 1.5%) items with no interactions.\n",
            "ItemKNNCustomSimilarityRecommender: URM Detected 424 ( 3.4%) users with no interactions.\n",
            "ItemKNNCustomSimilarityRecommender: URM Detected 334 ( 1.5%) items with no interactions.\n",
            "ItemKNNCustomSimilarityRecommender: URM Detected 424 ( 3.4%) users with no interactions.\n",
            "ItemKNNCustomSimilarityRecommender: URM Detected 334 ( 1.5%) items with no interactions.\n"
          ]
        },
        {
          "name": "stderr",
          "output_type": "stream",
          "text": [
            "100%|██████████| 12638/12638 [00:23<00:00, 540.82it/s]\n",
            "100%|██████████| 12638/12638 [00:39<00:00, 322.18it/s]\n"
          ]
        },
        {
          "name": "stdout",
          "output_type": "stream",
          "text": [
            "ItemKNNCustomSimilarityRecommender: URM Detected 205 ( 1.6%) users with no interactions.\n",
            "ItemKNNCustomSimilarityRecommender: URM Detected 120 ( 0.5%) items with no interactions.\n",
            "ItemKNNCustomSimilarityRecommender: URM Detected 205 ( 1.6%) users with no interactions.\n",
            "ItemKNNCustomSimilarityRecommender: URM Detected 120 ( 0.5%) items with no interactions.\n",
            "ItemKNNCustomSimilarityRecommender: URM Detected 205 ( 1.6%) users with no interactions.\n",
            "ItemKNNCustomSimilarityRecommender: URM Detected 120 ( 0.5%) items with no interactions.\n",
            "ItemKNNCustomSimilarityRecommender: URM Detected 205 ( 1.6%) users with no interactions.\n",
            "ItemKNNCustomSimilarityRecommender: URM Detected 120 ( 0.5%) items with no interactions.\n"
          ]
        },
        {
          "name": "stderr",
          "output_type": "stream",
          "text": [
            "100%|██████████| 12638/12638 [00:23<00:00, 541.74it/s]\n",
            "100%|██████████| 12638/12638 [00:40<00:00, 315.51it/s]\n"
          ]
        },
        {
          "name": "stdout",
          "output_type": "stream",
          "text": [
            "Recommender results are: Precision = 189.6750000000, Recall = 3949.2728899652, MAP = 0.0888874217\n",
            "The crossvalidation MAP for 200 is 0.01777748434562958\n",
            "Fold 0 evaluations started\n",
            "ItemKNNCustomSimilarityRecommender: URM Detected 424 ( 3.4%) users with no interactions.\n",
            "ItemKNNCustomSimilarityRecommender: URM Detected 334 ( 1.5%) items with no interactions.\n",
            "ItemKNNCustomSimilarityRecommender: URM Detected 424 ( 3.4%) users with no interactions.\n",
            "ItemKNNCustomSimilarityRecommender: URM Detected 334 ( 1.5%) items with no interactions.\n",
            "ItemKNNCustomSimilarityRecommender: URM Detected 424 ( 3.4%) users with no interactions.\n",
            "ItemKNNCustomSimilarityRecommender: URM Detected 334 ( 1.5%) items with no interactions.\n",
            "ItemKNNCustomSimilarityRecommender: URM Detected 424 ( 3.4%) users with no interactions.\n",
            "ItemKNNCustomSimilarityRecommender: URM Detected 334 ( 1.5%) items with no interactions.\n"
          ]
        },
        {
          "name": "stderr",
          "output_type": "stream",
          "text": [
            "100%|██████████| 12638/12638 [00:23<00:00, 534.83it/s]\n",
            "100%|██████████| 12638/12638 [00:46<00:00, 274.58it/s]\n"
          ]
        },
        {
          "name": "stdout",
          "output_type": "stream",
          "text": [
            "ItemKNNCustomSimilarityRecommender: URM Detected 205 ( 1.6%) users with no interactions.\n",
            "ItemKNNCustomSimilarityRecommender: URM Detected 120 ( 0.5%) items with no interactions.\n",
            "ItemKNNCustomSimilarityRecommender: URM Detected 205 ( 1.6%) users with no interactions.\n",
            "ItemKNNCustomSimilarityRecommender: URM Detected 120 ( 0.5%) items with no interactions.\n",
            "ItemKNNCustomSimilarityRecommender: URM Detected 205 ( 1.6%) users with no interactions.\n",
            "ItemKNNCustomSimilarityRecommender: URM Detected 120 ( 0.5%) items with no interactions.\n",
            "ItemKNNCustomSimilarityRecommender: URM Detected 205 ( 1.6%) users with no interactions.\n",
            "ItemKNNCustomSimilarityRecommender: URM Detected 120 ( 0.5%) items with no interactions.\n"
          ]
        },
        {
          "name": "stderr",
          "output_type": "stream",
          "text": [
            "100%|██████████| 12638/12638 [00:23<00:00, 538.17it/s]\n",
            "100%|██████████| 12638/12638 [00:46<00:00, 272.84it/s]\n"
          ]
        },
        {
          "name": "stdout",
          "output_type": "stream",
          "text": [
            "Recommender results are: Precision = 81.2283333333, Recall = 4817.3488569762, MAP = 0.0902636282\n",
            "The crossvalidation MAP for 600 is 0.01805272564342635\n",
            "Fold 0 evaluations started\n",
            "ItemKNNCustomSimilarityRecommender: URM Detected 424 ( 3.4%) users with no interactions.\n",
            "ItemKNNCustomSimilarityRecommender: URM Detected 334 ( 1.5%) items with no interactions.\n",
            "ItemKNNCustomSimilarityRecommender: URM Detected 424 ( 3.4%) users with no interactions.\n",
            "ItemKNNCustomSimilarityRecommender: URM Detected 334 ( 1.5%) items with no interactions.\n",
            "ItemKNNCustomSimilarityRecommender: URM Detected 424 ( 3.4%) users with no interactions.\n",
            "ItemKNNCustomSimilarityRecommender: URM Detected 334 ( 1.5%) items with no interactions.\n",
            "ItemKNNCustomSimilarityRecommender: URM Detected 424 ( 3.4%) users with no interactions.\n",
            "ItemKNNCustomSimilarityRecommender: URM Detected 334 ( 1.5%) items with no interactions.\n"
          ]
        },
        {
          "name": "stderr",
          "output_type": "stream",
          "text": [
            "100%|██████████| 12638/12638 [00:23<00:00, 541.57it/s]\n",
            "100%|██████████| 12638/12638 [00:46<00:00, 274.65it/s]\n"
          ]
        },
        {
          "name": "stdout",
          "output_type": "stream",
          "text": [
            "ItemKNNCustomSimilarityRecommender: URM Detected 205 ( 1.6%) users with no interactions.\n",
            "ItemKNNCustomSimilarityRecommender: URM Detected 120 ( 0.5%) items with no interactions.\n",
            "ItemKNNCustomSimilarityRecommender: URM Detected 205 ( 1.6%) users with no interactions.\n",
            "ItemKNNCustomSimilarityRecommender: URM Detected 120 ( 0.5%) items with no interactions.\n",
            "ItemKNNCustomSimilarityRecommender: URM Detected 205 ( 1.6%) users with no interactions.\n",
            "ItemKNNCustomSimilarityRecommender: URM Detected 120 ( 0.5%) items with no interactions.\n",
            "ItemKNNCustomSimilarityRecommender: URM Detected 205 ( 1.6%) users with no interactions.\n",
            "ItemKNNCustomSimilarityRecommender: URM Detected 120 ( 0.5%) items with no interactions.\n"
          ]
        },
        {
          "name": "stderr",
          "output_type": "stream",
          "text": [
            "100%|██████████| 12638/12638 [00:23<00:00, 537.94it/s]\n",
            "100%|██████████| 12638/12638 [00:48<00:00, 262.55it/s]\n"
          ]
        },
        {
          "name": "stdout",
          "output_type": "stream",
          "text": [
            "Recommender results are: Precision = 81.2283333333, Recall = 4817.3488569762, MAP = 0.0913059283\n",
            "The crossvalidation MAP for 600 is 0.01826118566973465\n",
            "Fold 0 evaluations started\n",
            "ItemKNNCustomSimilarityRecommender: URM Detected 424 ( 3.4%) users with no interactions.\n",
            "ItemKNNCustomSimilarityRecommender: URM Detected 334 ( 1.5%) items with no interactions.\n",
            "ItemKNNCustomSimilarityRecommender: URM Detected 424 ( 3.4%) users with no interactions.\n",
            "ItemKNNCustomSimilarityRecommender: URM Detected 334 ( 1.5%) items with no interactions.\n",
            "ItemKNNCustomSimilarityRecommender: URM Detected 424 ( 3.4%) users with no interactions.\n",
            "ItemKNNCustomSimilarityRecommender: URM Detected 334 ( 1.5%) items with no interactions.\n",
            "ItemKNNCustomSimilarityRecommender: URM Detected 424 ( 3.4%) users with no interactions.\n",
            "ItemKNNCustomSimilarityRecommender: URM Detected 334 ( 1.5%) items with no interactions.\n"
          ]
        },
        {
          "name": "stderr",
          "output_type": "stream",
          "text": [
            "100%|██████████| 12638/12638 [00:23<00:00, 535.73it/s]\n",
            "100%|██████████| 12638/12638 [00:46<00:00, 274.61it/s]\n"
          ]
        },
        {
          "name": "stdout",
          "output_type": "stream",
          "text": [
            "ItemKNNCustomSimilarityRecommender: URM Detected 205 ( 1.6%) users with no interactions.\n",
            "ItemKNNCustomSimilarityRecommender: URM Detected 120 ( 0.5%) items with no interactions.\n",
            "ItemKNNCustomSimilarityRecommender: URM Detected 205 ( 1.6%) users with no interactions.\n",
            "ItemKNNCustomSimilarityRecommender: URM Detected 120 ( 0.5%) items with no interactions.\n",
            "ItemKNNCustomSimilarityRecommender: URM Detected 205 ( 1.6%) users with no interactions.\n",
            "ItemKNNCustomSimilarityRecommender: URM Detected 120 ( 0.5%) items with no interactions.\n",
            "ItemKNNCustomSimilarityRecommender: URM Detected 205 ( 1.6%) users with no interactions.\n",
            "ItemKNNCustomSimilarityRecommender: URM Detected 120 ( 0.5%) items with no interactions.\n"
          ]
        },
        {
          "name": "stderr",
          "output_type": "stream",
          "text": [
            "100%|██████████| 12638/12638 [00:23<00:00, 530.31it/s]\n",
            "100%|██████████| 12638/12638 [00:48<00:00, 262.94it/s]\n"
          ]
        },
        {
          "name": "stdout",
          "output_type": "stream",
          "text": [
            "Recommender results are: Precision = 81.2283333333, Recall = 4817.3488569762, MAP = 0.0903887712\n",
            "The crossvalidation MAP for 600 is 0.01807775423249039\n",
            "Fold 0 evaluations started\n",
            "ItemKNNCustomSimilarityRecommender: URM Detected 424 ( 3.4%) users with no interactions.\n",
            "ItemKNNCustomSimilarityRecommender: URM Detected 334 ( 1.5%) items with no interactions.\n",
            "ItemKNNCustomSimilarityRecommender: URM Detected 424 ( 3.4%) users with no interactions.\n",
            "ItemKNNCustomSimilarityRecommender: URM Detected 334 ( 1.5%) items with no interactions.\n",
            "ItemKNNCustomSimilarityRecommender: URM Detected 424 ( 3.4%) users with no interactions.\n",
            "ItemKNNCustomSimilarityRecommender: URM Detected 334 ( 1.5%) items with no interactions.\n",
            "ItemKNNCustomSimilarityRecommender: URM Detected 424 ( 3.4%) users with no interactions.\n",
            "ItemKNNCustomSimilarityRecommender: URM Detected 334 ( 1.5%) items with no interactions.\n"
          ]
        },
        {
          "name": "stderr",
          "output_type": "stream",
          "text": [
            "100%|██████████| 12638/12638 [00:23<00:00, 530.74it/s]\n",
            "100%|██████████| 12638/12638 [00:46<00:00, 273.93it/s]\n"
          ]
        },
        {
          "name": "stdout",
          "output_type": "stream",
          "text": [
            "ItemKNNCustomSimilarityRecommender: URM Detected 205 ( 1.6%) users with no interactions.\n",
            "ItemKNNCustomSimilarityRecommender: URM Detected 120 ( 0.5%) items with no interactions.\n",
            "ItemKNNCustomSimilarityRecommender: URM Detected 205 ( 1.6%) users with no interactions.\n",
            "ItemKNNCustomSimilarityRecommender: URM Detected 120 ( 0.5%) items with no interactions.\n",
            "ItemKNNCustomSimilarityRecommender: URM Detected 205 ( 1.6%) users with no interactions.\n",
            "ItemKNNCustomSimilarityRecommender: URM Detected 120 ( 0.5%) items with no interactions.\n",
            "ItemKNNCustomSimilarityRecommender: URM Detected 205 ( 1.6%) users with no interactions.\n",
            "ItemKNNCustomSimilarityRecommender: URM Detected 120 ( 0.5%) items with no interactions.\n"
          ]
        },
        {
          "name": "stderr",
          "output_type": "stream",
          "text": [
            "100%|██████████| 12638/12638 [00:23<00:00, 531.57it/s]\n",
            "100%|██████████| 12638/12638 [00:47<00:00, 265.56it/s]\n"
          ]
        },
        {
          "name": "stdout",
          "output_type": "stream",
          "text": [
            "Recommender results are: Precision = 81.2283333333, Recall = 4817.3488569762, MAP = 0.0903592988\n",
            "The crossvalidation MAP for 600 is 0.018071859758179213\n",
            "Fold 0 evaluations started\n",
            "ItemKNNCustomSimilarityRecommender: URM Detected 424 ( 3.4%) users with no interactions.\n",
            "ItemKNNCustomSimilarityRecommender: URM Detected 334 ( 1.5%) items with no interactions.\n",
            "ItemKNNCustomSimilarityRecommender: URM Detected 424 ( 3.4%) users with no interactions.\n",
            "ItemKNNCustomSimilarityRecommender: URM Detected 334 ( 1.5%) items with no interactions.\n",
            "ItemKNNCustomSimilarityRecommender: URM Detected 424 ( 3.4%) users with no interactions.\n",
            "ItemKNNCustomSimilarityRecommender: URM Detected 334 ( 1.5%) items with no interactions.\n",
            "ItemKNNCustomSimilarityRecommender: URM Detected 424 ( 3.4%) users with no interactions.\n",
            "ItemKNNCustomSimilarityRecommender: URM Detected 334 ( 1.5%) items with no interactions.\n"
          ]
        },
        {
          "name": "stderr",
          "output_type": "stream",
          "text": [
            "100%|██████████| 12638/12638 [00:24<00:00, 526.23it/s]\n",
            "100%|██████████| 12638/12638 [00:46<00:00, 274.20it/s]\n"
          ]
        },
        {
          "name": "stdout",
          "output_type": "stream",
          "text": [
            "ItemKNNCustomSimilarityRecommender: URM Detected 205 ( 1.6%) users with no interactions.\n",
            "ItemKNNCustomSimilarityRecommender: URM Detected 120 ( 0.5%) items with no interactions.\n",
            "ItemKNNCustomSimilarityRecommender: URM Detected 205 ( 1.6%) users with no interactions.\n",
            "ItemKNNCustomSimilarityRecommender: URM Detected 120 ( 0.5%) items with no interactions.\n",
            "ItemKNNCustomSimilarityRecommender: URM Detected 205 ( 1.6%) users with no interactions.\n",
            "ItemKNNCustomSimilarityRecommender: URM Detected 120 ( 0.5%) items with no interactions.\n",
            "ItemKNNCustomSimilarityRecommender: URM Detected 205 ( 1.6%) users with no interactions.\n",
            "ItemKNNCustomSimilarityRecommender: URM Detected 120 ( 0.5%) items with no interactions.\n"
          ]
        },
        {
          "name": "stderr",
          "output_type": "stream",
          "text": [
            "100%|██████████| 12638/12638 [00:23<00:00, 535.58it/s]\n",
            "100%|██████████| 12638/12638 [00:46<00:00, 269.17it/s]\n"
          ]
        },
        {
          "name": "stdout",
          "output_type": "stream",
          "text": [
            "Recommender results are: Precision = 81.2283333333, Recall = 4817.3488569762, MAP = 0.0909330697\n",
            "The crossvalidation MAP for 600 is 0.01818661393662858\n",
            "Fold 0 evaluations started\n",
            "ItemKNNCustomSimilarityRecommender: URM Detected 424 ( 3.4%) users with no interactions.\n",
            "ItemKNNCustomSimilarityRecommender: URM Detected 334 ( 1.5%) items with no interactions.\n",
            "ItemKNNCustomSimilarityRecommender: URM Detected 424 ( 3.4%) users with no interactions.\n",
            "ItemKNNCustomSimilarityRecommender: URM Detected 334 ( 1.5%) items with no interactions.\n",
            "ItemKNNCustomSimilarityRecommender: URM Detected 424 ( 3.4%) users with no interactions.\n",
            "ItemKNNCustomSimilarityRecommender: URM Detected 334 ( 1.5%) items with no interactions.\n",
            "ItemKNNCustomSimilarityRecommender: URM Detected 424 ( 3.4%) users with no interactions.\n",
            "ItemKNNCustomSimilarityRecommender: URM Detected 334 ( 1.5%) items with no interactions.\n"
          ]
        },
        {
          "name": "stderr",
          "output_type": "stream",
          "text": [
            "100%|██████████| 12638/12638 [00:23<00:00, 528.53it/s]\n",
            "100%|██████████| 12638/12638 [00:47<00:00, 265.61it/s]\n"
          ]
        },
        {
          "name": "stdout",
          "output_type": "stream",
          "text": [
            "ItemKNNCustomSimilarityRecommender: URM Detected 205 ( 1.6%) users with no interactions.\n",
            "ItemKNNCustomSimilarityRecommender: URM Detected 120 ( 0.5%) items with no interactions.\n",
            "ItemKNNCustomSimilarityRecommender: URM Detected 205 ( 1.6%) users with no interactions.\n",
            "ItemKNNCustomSimilarityRecommender: URM Detected 120 ( 0.5%) items with no interactions.\n",
            "ItemKNNCustomSimilarityRecommender: URM Detected 205 ( 1.6%) users with no interactions.\n",
            "ItemKNNCustomSimilarityRecommender: URM Detected 120 ( 0.5%) items with no interactions.\n",
            "ItemKNNCustomSimilarityRecommender: URM Detected 205 ( 1.6%) users with no interactions.\n",
            "ItemKNNCustomSimilarityRecommender: URM Detected 120 ( 0.5%) items with no interactions.\n"
          ]
        },
        {
          "name": "stderr",
          "output_type": "stream",
          "text": [
            "100%|██████████| 12638/12638 [00:25<00:00, 494.68it/s]\n",
            "100%|██████████| 12638/12638 [00:49<00:00, 255.49it/s]\n"
          ]
        },
        {
          "name": "stdout",
          "output_type": "stream",
          "text": [
            "Recommender results are: Precision = 81.2283333333, Recall = 4817.3488569762, MAP = 0.0905757296\n",
            "The crossvalidation MAP for 600 is 0.01811514592562962\n",
            "Fold 0 evaluations started\n",
            "ItemKNNCustomSimilarityRecommender: URM Detected 424 ( 3.4%) users with no interactions.\n",
            "ItemKNNCustomSimilarityRecommender: URM Detected 334 ( 1.5%) items with no interactions.\n",
            "ItemKNNCustomSimilarityRecommender: URM Detected 424 ( 3.4%) users with no interactions.\n",
            "ItemKNNCustomSimilarityRecommender: URM Detected 334 ( 1.5%) items with no interactions.\n",
            "ItemKNNCustomSimilarityRecommender: URM Detected 424 ( 3.4%) users with no interactions.\n",
            "ItemKNNCustomSimilarityRecommender: URM Detected 334 ( 1.5%) items with no interactions.\n",
            "ItemKNNCustomSimilarityRecommender: URM Detected 424 ( 3.4%) users with no interactions.\n",
            "ItemKNNCustomSimilarityRecommender: URM Detected 334 ( 1.5%) items with no interactions.\n"
          ]
        },
        {
          "name": "stderr",
          "output_type": "stream",
          "text": [
            "100%|██████████| 12638/12638 [00:24<00:00, 525.60it/s]\n",
            "100%|██████████| 12638/12638 [00:47<00:00, 267.38it/s]\n"
          ]
        },
        {
          "name": "stdout",
          "output_type": "stream",
          "text": [
            "ItemKNNCustomSimilarityRecommender: URM Detected 205 ( 1.6%) users with no interactions.\n",
            "ItemKNNCustomSimilarityRecommender: URM Detected 120 ( 0.5%) items with no interactions.\n",
            "ItemKNNCustomSimilarityRecommender: URM Detected 205 ( 1.6%) users with no interactions.\n",
            "ItemKNNCustomSimilarityRecommender: URM Detected 120 ( 0.5%) items with no interactions.\n",
            "ItemKNNCustomSimilarityRecommender: URM Detected 205 ( 1.6%) users with no interactions.\n",
            "ItemKNNCustomSimilarityRecommender: URM Detected 120 ( 0.5%) items with no interactions.\n",
            "ItemKNNCustomSimilarityRecommender: URM Detected 205 ( 1.6%) users with no interactions.\n",
            "ItemKNNCustomSimilarityRecommender: URM Detected 120 ( 0.5%) items with no interactions.\n"
          ]
        },
        {
          "name": "stderr",
          "output_type": "stream",
          "text": [
            "100%|██████████| 12638/12638 [00:23<00:00, 531.95it/s]\n",
            "100%|██████████| 12638/12638 [00:47<00:00, 266.48it/s]\n"
          ]
        },
        {
          "name": "stdout",
          "output_type": "stream",
          "text": [
            "Recommender results are: Precision = 81.2283333333, Recall = 4817.3488569762, MAP = 0.0905053046\n",
            "The crossvalidation MAP for 600 is 0.01810106091587491\n",
            "Fold 0 evaluations started\n",
            "ItemKNNCustomSimilarityRecommender: URM Detected 424 ( 3.4%) users with no interactions.\n",
            "ItemKNNCustomSimilarityRecommender: URM Detected 334 ( 1.5%) items with no interactions.\n",
            "ItemKNNCustomSimilarityRecommender: URM Detected 424 ( 3.4%) users with no interactions.\n",
            "ItemKNNCustomSimilarityRecommender: URM Detected 334 ( 1.5%) items with no interactions.\n",
            "ItemKNNCustomSimilarityRecommender: URM Detected 424 ( 3.4%) users with no interactions.\n",
            "ItemKNNCustomSimilarityRecommender: URM Detected 334 ( 1.5%) items with no interactions.\n",
            "ItemKNNCustomSimilarityRecommender: URM Detected 424 ( 3.4%) users with no interactions.\n",
            "ItemKNNCustomSimilarityRecommender: URM Detected 334 ( 1.5%) items with no interactions.\n"
          ]
        },
        {
          "name": "stderr",
          "output_type": "stream",
          "text": [
            "100%|██████████| 12638/12638 [00:24<00:00, 522.35it/s]\n",
            "100%|██████████| 12638/12638 [00:47<00:00, 266.20it/s]\n"
          ]
        },
        {
          "name": "stdout",
          "output_type": "stream",
          "text": [
            "ItemKNNCustomSimilarityRecommender: URM Detected 205 ( 1.6%) users with no interactions.\n",
            "ItemKNNCustomSimilarityRecommender: URM Detected 120 ( 0.5%) items with no interactions.\n",
            "ItemKNNCustomSimilarityRecommender: URM Detected 205 ( 1.6%) users with no interactions.\n",
            "ItemKNNCustomSimilarityRecommender: URM Detected 120 ( 0.5%) items with no interactions.\n",
            "ItemKNNCustomSimilarityRecommender: URM Detected 205 ( 1.6%) users with no interactions.\n",
            "ItemKNNCustomSimilarityRecommender: URM Detected 120 ( 0.5%) items with no interactions.\n",
            "ItemKNNCustomSimilarityRecommender: URM Detected 205 ( 1.6%) users with no interactions.\n",
            "ItemKNNCustomSimilarityRecommender: URM Detected 120 ( 0.5%) items with no interactions.\n"
          ]
        },
        {
          "name": "stderr",
          "output_type": "stream",
          "text": [
            "100%|██████████| 12638/12638 [00:24<00:00, 526.43it/s]\n",
            "100%|██████████| 12638/12638 [00:46<00:00, 270.51it/s]\n"
          ]
        },
        {
          "name": "stdout",
          "output_type": "stream",
          "text": [
            "Recommender results are: Precision = 81.2283333333, Recall = 4817.3488569762, MAP = 0.0900725162\n",
            "The crossvalidation MAP for 600 is 0.018014503238560305\n",
            "Fold 0 evaluations started\n",
            "ItemKNNCustomSimilarityRecommender: URM Detected 424 ( 3.4%) users with no interactions.\n",
            "ItemKNNCustomSimilarityRecommender: URM Detected 334 ( 1.5%) items with no interactions.\n",
            "ItemKNNCustomSimilarityRecommender: URM Detected 424 ( 3.4%) users with no interactions.\n",
            "ItemKNNCustomSimilarityRecommender: URM Detected 334 ( 1.5%) items with no interactions.\n",
            "ItemKNNCustomSimilarityRecommender: URM Detected 424 ( 3.4%) users with no interactions.\n",
            "ItemKNNCustomSimilarityRecommender: URM Detected 334 ( 1.5%) items with no interactions.\n",
            "ItemKNNCustomSimilarityRecommender: URM Detected 424 ( 3.4%) users with no interactions.\n",
            "ItemKNNCustomSimilarityRecommender: URM Detected 334 ( 1.5%) items with no interactions.\n"
          ]
        },
        {
          "name": "stderr",
          "output_type": "stream",
          "text": [
            "100%|██████████| 12638/12638 [00:24<00:00, 510.23it/s]\n",
            "100%|██████████| 12638/12638 [00:47<00:00, 264.88it/s]\n"
          ]
        },
        {
          "name": "stdout",
          "output_type": "stream",
          "text": [
            "ItemKNNCustomSimilarityRecommender: URM Detected 205 ( 1.6%) users with no interactions.\n",
            "ItemKNNCustomSimilarityRecommender: URM Detected 120 ( 0.5%) items with no interactions.\n",
            "ItemKNNCustomSimilarityRecommender: URM Detected 205 ( 1.6%) users with no interactions.\n",
            "ItemKNNCustomSimilarityRecommender: URM Detected 120 ( 0.5%) items with no interactions.\n",
            "ItemKNNCustomSimilarityRecommender: URM Detected 205 ( 1.6%) users with no interactions.\n",
            "ItemKNNCustomSimilarityRecommender: URM Detected 120 ( 0.5%) items with no interactions.\n",
            "ItemKNNCustomSimilarityRecommender: URM Detected 205 ( 1.6%) users with no interactions.\n",
            "ItemKNNCustomSimilarityRecommender: URM Detected 120 ( 0.5%) items with no interactions.\n"
          ]
        },
        {
          "name": "stderr",
          "output_type": "stream",
          "text": [
            "100%|██████████| 12638/12638 [00:23<00:00, 528.84it/s]\n",
            "100%|██████████| 12638/12638 [00:47<00:00, 264.96it/s]\n"
          ]
        },
        {
          "name": "stdout",
          "output_type": "stream",
          "text": [
            "Recommender results are: Precision = 81.2283333333, Recall = 4817.3488569762, MAP = 0.0904468444\n",
            "The crossvalidation MAP for 600 is 0.018089368884681947\n"
          ]
        }
      ],
      "source": [
        "for init_rec_cutoff in rnd_init_rec_cutoff:\n",
        "  for init_rec_reg_alpha in rnd_init_rec_reg_alpha:\n",
        "    for init_rec_reg_beta in rnd_init_rec_reg_beta:\n",
        "      xgboost_model_hyperparams = {'n_estimators':50,\n",
        "                             'learning_rate':1e-1,'reg_alpha':init_rec_reg_alpha,'reg_lambda':init_rec_reg_beta,'max_depth':5,'max_leaves':0,\n",
        "                             'grow_policy':\"depthwise\",'objective':\"pairwise\",'booster':\"gbtree\",\n",
        "                             'use_user_profile':False,'random_seed':None\n",
        "                             }\n",
        "      folds_map = []\n",
        "\n",
        "      for k,fold in enumerate(data_folds):\n",
        "        print(f'Fold {k} evaluations started')\n",
        "\n",
        "        # Define the recommender models trained on RecommenderFold of the current fold to prepare for XGboost training\n",
        "        initial_S_slim_elastic = xgboostfold_models[k][\"SLIM\"]\n",
        "        initial_S_ibcf = xgboostfold_models[k][\"IBCF\"]\n",
        "        initial_S_easer = xgboostfold_models[k][\"EASER\"]\n",
        "        initial_hybrid3models_similarity = beta * ((1 - alpha) * initial_S_ibcf  + alpha * initial_S_slim_elastic) + (1 - beta) * initial_S_easer\n",
        "\n",
        "\n",
        "        # Models for features generation\n",
        "        initial_hybrid3models_object = ItemKNNCustomSimilarityRecommender(data_xgboostfolds[k]['train_recommender'])\n",
        "        initial_hybrid3models_object.fit(initial_hybrid3models_similarity)\n",
        "        initial_hybrid3models = Predictor(URM=data_xgboostfolds[k]['train_recommender'], model = initial_hybrid3models_object)\n",
        "\n",
        "        initial_S_rp3beta = xgboostfold_models[k][\"rp3beta\"]\n",
        "        initial_rp3beta_object = ItemKNNCustomSimilarityRecommender(data_xgboostfolds[k]['train_recommender'])\n",
        "        initial_rp3beta_object.fit(initial_S_rp3beta)\n",
        "\n",
        "        initial_S_easer = xgboostfold_models[k][\"EASER\"]\n",
        "        initial_easer_object = ItemKNNCustomSimilarityRecommender(data_xgboostfolds[k]['train_recommender'])\n",
        "        initial_easer_object.fit(initial_S_easer)\n",
        "\n",
        "        initial_S_ibcf = xgboostfold_models[k][\"IBCF\"]\n",
        "        initial_ibcf_object = ItemKNNCustomSimilarityRecommender(data_xgboostfolds[k]['train_recommender'])\n",
        "        initial_ibcf_object.fit(initial_S_ibcf)\n",
        "\n",
        "        init_other_algorithms = {\n",
        "        \"rp3beta\": initial_rp3beta_object,\n",
        "        \"EASER\": initial_easer_object,\n",
        "        \"IBCF\":initial_ibcf_object}\n",
        "\n",
        "        # Get XGboost trained\n",
        "        xgboost_trained = train_xgboost(data_xgboostfolds[k]['train_recommender'],data_xgboostfolds[k]['train_xgboost'],\n",
        "                                      initial_hybrid3models,initial_recommendations_cutoff = init_rec_cutoff, other_algorithms = init_other_algorithms,\n",
        "                                      xgboost_hyperparams = xgboost_model_hyperparams)\n",
        "\n",
        "\n",
        "        # Define the recommender models trained on the whole current fold to prepare for the evaluation\n",
        "        S_slim_elastic = fold_models[k][\"SLIM\"]\n",
        "        S_ibcf = fold_models[k][\"IBCF\"]\n",
        "        S_easer = fold_models[k][\"EASER\"]\n",
        "        hybrid3models_similarity = beta * ((1 - alpha) * S_ibcf  + alpha * S_slim_elastic) + (1 - beta) * S_easer\n",
        "\n",
        "        hybrid3models_object = ItemKNNCustomSimilarityRecommender(fold['train'])\n",
        "        hybrid3models_object.fit(hybrid3models_similarity)\n",
        "        hybrid3models = Predictor(URM=fold['train'], model = hybrid3models_object)\n",
        "\n",
        "        # Models for features generation\n",
        "        S_rp3beta = fold_models[k][\"rp3beta\"]\n",
        "        rp3beta_object = ItemKNNCustomSimilarityRecommender(fold['train'])\n",
        "        rp3beta_object.fit(S_rp3beta)\n",
        "\n",
        "        S_easer = fold_models[k][\"EASER\"]\n",
        "        easer_object = ItemKNNCustomSimilarityRecommender(fold['train'])\n",
        "        easer_object.fit(S_easer)\n",
        "\n",
        "        S_ibcf = fold_models[k][\"IBCF\"]\n",
        "        ibcf_object = ItemKNNCustomSimilarityRecommender(fold['train'])\n",
        "        ibcf_object.fit(S_ibcf)\n",
        "\n",
        "        other_algorithms = {\n",
        "        \"rp3beta\": rp3beta_object,\n",
        "        \"EASER\": easer_object,\n",
        "        \"IBCF\":ibcf_object}\n",
        "\n",
        "        features_df = prepare_training_df(fold['train'],fold['train'],hybrid3models,init_rec_cutoff,other_algorithms)\n",
        "        features_df = features_df.drop(columns=[\"Label\"])\n",
        "\n",
        "\n",
        "        map, mp,mr = evaluate_xgboost(fold['val'],features_df,xgboost_trained)\n",
        "        folds_map.append(map)\n",
        "\n",
        "        break\n",
        "\n",
        "      cv_map = np.array(folds_map).sum()/len(data_folds)\n",
        "      print(f'The crossvalidation MAP for {init_rec_cutoff} is {cv_map}')\n",
        "      # Append the results to the list\n",
        "      results_list.append({\"cutoff\": init_rec_cutoff, \"init_rec_reg_alpha\": init_rec_reg_alpha, \"init_rec_reg_beta\": init_rec_reg_beta, \"MAP\": cv_map})\n"
      ]
    },
    {
      "cell_type": "code",
      "execution_count": 71,
      "metadata": {},
      "outputs": [],
      "source": [
        "for result in results_list:\n",
        "  result['MAP'] *= 5"
      ]
    },
    {
      "cell_type": "code",
      "execution_count": 72,
      "metadata": {},
      "outputs": [
        {
          "data": {
            "text/plain": [
              "[{'cutoff': 200,\n",
              "  'init_rec_reg_alpha': 0.1,\n",
              "  'init_rec_reg_beta': 0.1,\n",
              "  'MAP': 0.08809837275521532},\n",
              " {'cutoff': 200,\n",
              "  'init_rec_reg_alpha': 0.1,\n",
              "  'init_rec_reg_beta': 0.3,\n",
              "  'MAP': 0.08915430906322261},\n",
              " {'cutoff': 200,\n",
              "  'init_rec_reg_alpha': 0.1,\n",
              "  'init_rec_reg_beta': 0.001,\n",
              "  'MAP': 0.08874540179974084},\n",
              " {'cutoff': 200,\n",
              "  'init_rec_reg_alpha': 0.3,\n",
              "  'init_rec_reg_beta': 0.1,\n",
              "  'MAP': 0.08837997115491691},\n",
              " {'cutoff': 200,\n",
              "  'init_rec_reg_alpha': 0.3,\n",
              "  'init_rec_reg_beta': 0.3,\n",
              "  'MAP': 0.0890542247338913},\n",
              " {'cutoff': 200,\n",
              "  'init_rec_reg_alpha': 0.3,\n",
              "  'init_rec_reg_beta': 0.001,\n",
              "  'MAP': 0.08899401821310435},\n",
              " {'cutoff': 200,\n",
              "  'init_rec_reg_alpha': 0.001,\n",
              "  'init_rec_reg_beta': 0.1,\n",
              "  'MAP': 0.08871391302467713},\n",
              " {'cutoff': 200,\n",
              "  'init_rec_reg_alpha': 0.001,\n",
              "  'init_rec_reg_beta': 0.3,\n",
              "  'MAP': 0.08817960297534101},\n",
              " {'cutoff': 200,\n",
              "  'init_rec_reg_alpha': 0.001,\n",
              "  'init_rec_reg_beta': 0.001,\n",
              "  'MAP': 0.0888874217281479},\n",
              " {'cutoff': 600,\n",
              "  'init_rec_reg_alpha': 0.1,\n",
              "  'init_rec_reg_beta': 0.1,\n",
              "  'MAP': 0.09026362821713174},\n",
              " {'cutoff': 600,\n",
              "  'init_rec_reg_alpha': 0.1,\n",
              "  'init_rec_reg_beta': 0.3,\n",
              "  'MAP': 0.09130592834867324},\n",
              " {'cutoff': 600,\n",
              "  'init_rec_reg_alpha': 0.1,\n",
              "  'init_rec_reg_beta': 0.001,\n",
              "  'MAP': 0.09038877116245195},\n",
              " {'cutoff': 600,\n",
              "  'init_rec_reg_alpha': 0.3,\n",
              "  'init_rec_reg_beta': 0.1,\n",
              "  'MAP': 0.09035929879089606},\n",
              " {'cutoff': 600,\n",
              "  'init_rec_reg_alpha': 0.3,\n",
              "  'init_rec_reg_beta': 0.3,\n",
              "  'MAP': 0.09093306968314291},\n",
              " {'cutoff': 600,\n",
              "  'init_rec_reg_alpha': 0.3,\n",
              "  'init_rec_reg_beta': 0.001,\n",
              "  'MAP': 0.09057572962814811},\n",
              " {'cutoff': 600,\n",
              "  'init_rec_reg_alpha': 0.001,\n",
              "  'init_rec_reg_beta': 0.1,\n",
              "  'MAP': 0.09050530457937454},\n",
              " {'cutoff': 600,\n",
              "  'init_rec_reg_alpha': 0.001,\n",
              "  'init_rec_reg_beta': 0.3,\n",
              "  'MAP': 0.09007251619280152},\n",
              " {'cutoff': 600,\n",
              "  'init_rec_reg_alpha': 0.001,\n",
              "  'init_rec_reg_beta': 0.001,\n",
              "  'MAP': 0.09044684442340974}]"
            ]
          },
          "execution_count": 72,
          "metadata": {},
          "output_type": "execute_result"
        }
      ],
      "source": [
        "results_list"
      ]
    },
    {
      "cell_type": "code",
      "execution_count": 73,
      "metadata": {},
      "outputs": [
        {
          "name": "stdout",
          "output_type": "stream",
          "text": [
            "{'cutoff': 600, 'init_rec_reg_alpha': 0.1, 'init_rec_reg_beta': 0.3, 'MAP': 0.09130592834867324}\n"
          ]
        }
      ],
      "source": [
        "# Find the dictionary with the highest 'MAP' value\n",
        "max_result = max(results_list, key=lambda x: x['MAP'])\n",
        "\n",
        "# Print the result with the highest 'MAP'\n",
        "print(max_result)"
      ]
    },
    {
      "cell_type": "code",
      "execution_count": 74,
      "metadata": {
        "colab": {
          "base_uri": "https://localhost:8080/"
        },
        "id": "b0PwTUiz4ApN",
        "outputId": "16a024bb-c629-4585-b196-f95a2a01b1ac"
      },
      "outputs": [
        {
          "name": "stdout",
          "output_type": "stream",
          "text": [
            "Fold 0 evaluations started\n",
            "ItemKNNCustomSimilarityRecommender: URM Detected 424 ( 3.4%) users with no interactions.\n",
            "ItemKNNCustomSimilarityRecommender: URM Detected 334 ( 1.5%) items with no interactions.\n",
            "ItemKNNCustomSimilarityRecommender: URM Detected 424 ( 3.4%) users with no interactions.\n",
            "ItemKNNCustomSimilarityRecommender: URM Detected 334 ( 1.5%) items with no interactions.\n",
            "ItemKNNCustomSimilarityRecommender: URM Detected 424 ( 3.4%) users with no interactions.\n",
            "ItemKNNCustomSimilarityRecommender: URM Detected 334 ( 1.5%) items with no interactions.\n",
            "ItemKNNCustomSimilarityRecommender: URM Detected 424 ( 3.4%) users with no interactions.\n",
            "ItemKNNCustomSimilarityRecommender: URM Detected 334 ( 1.5%) items with no interactions.\n"
          ]
        },
        {
          "name": "stderr",
          "output_type": "stream",
          "text": [
            "100%|██████████| 12638/12638 [00:25<00:00, 498.37it/s]\n",
            "100%|██████████| 12638/12638 [00:51<00:00, 243.05it/s]\n"
          ]
        },
        {
          "name": "stdout",
          "output_type": "stream",
          "text": [
            "ItemKNNCustomSimilarityRecommender: URM Detected 205 ( 1.6%) users with no interactions.\n",
            "ItemKNNCustomSimilarityRecommender: URM Detected 120 ( 0.5%) items with no interactions.\n",
            "ItemKNNCustomSimilarityRecommender: URM Detected 205 ( 1.6%) users with no interactions.\n",
            "ItemKNNCustomSimilarityRecommender: URM Detected 120 ( 0.5%) items with no interactions.\n",
            "ItemKNNCustomSimilarityRecommender: URM Detected 205 ( 1.6%) users with no interactions.\n",
            "ItemKNNCustomSimilarityRecommender: URM Detected 120 ( 0.5%) items with no interactions.\n",
            "ItemKNNCustomSimilarityRecommender: URM Detected 205 ( 1.6%) users with no interactions.\n",
            "ItemKNNCustomSimilarityRecommender: URM Detected 120 ( 0.5%) items with no interactions.\n"
          ]
        },
        {
          "name": "stderr",
          "output_type": "stream",
          "text": [
            "100%|██████████| 12638/12638 [00:26<00:00, 483.35it/s]\n",
            "100%|██████████| 12638/12638 [00:54<00:00, 233.09it/s]\n"
          ]
        },
        {
          "name": "stdout",
          "output_type": "stream",
          "text": [
            "Recommender results are: Precision = 81.2283333333, Recall = 4817.3488569762, MAP = 0.0913059283\n",
            "Fold 1 evaluations started\n",
            "ItemKNNCustomSimilarityRecommender: URM Detected 464 ( 3.7%) users with no interactions.\n",
            "ItemKNNCustomSimilarityRecommender: URM Detected 345 ( 1.6%) items with no interactions.\n",
            "ItemKNNCustomSimilarityRecommender: URM Detected 464 ( 3.7%) users with no interactions.\n",
            "ItemKNNCustomSimilarityRecommender: URM Detected 345 ( 1.6%) items with no interactions.\n",
            "ItemKNNCustomSimilarityRecommender: URM Detected 464 ( 3.7%) users with no interactions.\n",
            "ItemKNNCustomSimilarityRecommender: URM Detected 345 ( 1.6%) items with no interactions.\n",
            "ItemKNNCustomSimilarityRecommender: URM Detected 464 ( 3.7%) users with no interactions.\n",
            "ItemKNNCustomSimilarityRecommender: URM Detected 345 ( 1.6%) items with no interactions.\n"
          ]
        },
        {
          "name": "stderr",
          "output_type": "stream",
          "text": [
            "100%|██████████| 12638/12638 [00:24<00:00, 508.08it/s]\n",
            "100%|██████████| 12638/12638 [00:48<00:00, 259.08it/s]\n"
          ]
        },
        {
          "name": "stdout",
          "output_type": "stream",
          "text": [
            "ItemKNNCustomSimilarityRecommender: URM Detected 221 ( 1.7%) users with no interactions.\n",
            "ItemKNNCustomSimilarityRecommender: URM Detected 113 ( 0.5%) items with no interactions.\n",
            "ItemKNNCustomSimilarityRecommender: URM Detected 221 ( 1.7%) users with no interactions.\n",
            "ItemKNNCustomSimilarityRecommender: URM Detected 113 ( 0.5%) items with no interactions.\n",
            "ItemKNNCustomSimilarityRecommender: URM Detected 221 ( 1.7%) users with no interactions.\n",
            "ItemKNNCustomSimilarityRecommender: URM Detected 113 ( 0.5%) items with no interactions.\n",
            "ItemKNNCustomSimilarityRecommender: URM Detected 221 ( 1.7%) users with no interactions.\n",
            "ItemKNNCustomSimilarityRecommender: URM Detected 113 ( 0.5%) items with no interactions.\n"
          ]
        },
        {
          "name": "stderr",
          "output_type": "stream",
          "text": [
            "100%|██████████| 12638/12638 [00:24<00:00, 514.43it/s]\n",
            "100%|██████████| 12638/12638 [00:49<00:00, 254.35it/s]\n"
          ]
        },
        {
          "name": "stdout",
          "output_type": "stream",
          "text": [
            "Recommender results are: Precision = 81.1816666667, Recall = 4870.2455266993, MAP = 0.0903895085\n",
            "Fold 2 evaluations started\n",
            "ItemKNNCustomSimilarityRecommender: URM Detected 474 ( 3.8%) users with no interactions.\n",
            "ItemKNNCustomSimilarityRecommender: URM Detected 337 ( 1.5%) items with no interactions.\n",
            "ItemKNNCustomSimilarityRecommender: URM Detected 474 ( 3.8%) users with no interactions.\n",
            "ItemKNNCustomSimilarityRecommender: URM Detected 337 ( 1.5%) items with no interactions.\n",
            "ItemKNNCustomSimilarityRecommender: URM Detected 474 ( 3.8%) users with no interactions.\n",
            "ItemKNNCustomSimilarityRecommender: URM Detected 337 ( 1.5%) items with no interactions.\n",
            "ItemKNNCustomSimilarityRecommender: URM Detected 474 ( 3.8%) users with no interactions.\n",
            "ItemKNNCustomSimilarityRecommender: URM Detected 337 ( 1.5%) items with no interactions.\n"
          ]
        },
        {
          "name": "stderr",
          "output_type": "stream",
          "text": [
            "100%|██████████| 12638/12638 [00:25<00:00, 486.16it/s]\n",
            "100%|██████████| 12638/12638 [00:49<00:00, 256.81it/s]\n"
          ]
        },
        {
          "name": "stdout",
          "output_type": "stream",
          "text": [
            "ItemKNNCustomSimilarityRecommender: URM Detected 196 ( 1.6%) users with no interactions.\n",
            "ItemKNNCustomSimilarityRecommender: URM Detected 119 ( 0.5%) items with no interactions.\n",
            "ItemKNNCustomSimilarityRecommender: URM Detected 196 ( 1.6%) users with no interactions.\n",
            "ItemKNNCustomSimilarityRecommender: URM Detected 119 ( 0.5%) items with no interactions.\n",
            "ItemKNNCustomSimilarityRecommender: URM Detected 196 ( 1.6%) users with no interactions.\n",
            "ItemKNNCustomSimilarityRecommender: URM Detected 119 ( 0.5%) items with no interactions.\n",
            "ItemKNNCustomSimilarityRecommender: URM Detected 196 ( 1.6%) users with no interactions.\n",
            "ItemKNNCustomSimilarityRecommender: URM Detected 119 ( 0.5%) items with no interactions.\n"
          ]
        },
        {
          "name": "stderr",
          "output_type": "stream",
          "text": [
            "100%|██████████| 12638/12638 [00:25<00:00, 504.37it/s]\n",
            "100%|██████████| 12638/12638 [00:48<00:00, 258.34it/s]\n"
          ]
        },
        {
          "name": "stdout",
          "output_type": "stream",
          "text": [
            "Recommender results are: Precision = 80.9566666667, Recall = 4826.5920664362, MAP = 0.0888038194\n",
            "Fold 3 evaluations started\n",
            "ItemKNNCustomSimilarityRecommender: URM Detected 497 ( 3.9%) users with no interactions.\n",
            "ItemKNNCustomSimilarityRecommender: URM Detected 335 ( 1.5%) items with no interactions.\n",
            "ItemKNNCustomSimilarityRecommender: URM Detected 497 ( 3.9%) users with no interactions.\n",
            "ItemKNNCustomSimilarityRecommender: URM Detected 335 ( 1.5%) items with no interactions.\n",
            "ItemKNNCustomSimilarityRecommender: URM Detected 497 ( 3.9%) users with no interactions.\n",
            "ItemKNNCustomSimilarityRecommender: URM Detected 335 ( 1.5%) items with no interactions.\n",
            "ItemKNNCustomSimilarityRecommender: URM Detected 497 ( 3.9%) users with no interactions.\n",
            "ItemKNNCustomSimilarityRecommender: URM Detected 335 ( 1.5%) items with no interactions.\n"
          ]
        },
        {
          "name": "stderr",
          "output_type": "stream",
          "text": [
            "100%|██████████| 12638/12638 [00:24<00:00, 508.80it/s]\n",
            "100%|██████████| 12638/12638 [00:51<00:00, 244.66it/s]\n"
          ]
        },
        {
          "name": "stdout",
          "output_type": "stream",
          "text": [
            "ItemKNNCustomSimilarityRecommender: URM Detected 254 ( 2.0%) users with no interactions.\n",
            "ItemKNNCustomSimilarityRecommender: URM Detected 96 ( 0.4%) items with no interactions.\n",
            "ItemKNNCustomSimilarityRecommender: URM Detected 254 ( 2.0%) users with no interactions.\n",
            "ItemKNNCustomSimilarityRecommender: URM Detected 96 ( 0.4%) items with no interactions.\n",
            "ItemKNNCustomSimilarityRecommender: URM Detected 254 ( 2.0%) users with no interactions.\n",
            "ItemKNNCustomSimilarityRecommender: URM Detected 96 ( 0.4%) items with no interactions.\n",
            "ItemKNNCustomSimilarityRecommender: URM Detected 254 ( 2.0%) users with no interactions.\n",
            "ItemKNNCustomSimilarityRecommender: URM Detected 96 ( 0.4%) items with no interactions.\n"
          ]
        },
        {
          "name": "stderr",
          "output_type": "stream",
          "text": [
            "100%|██████████| 12638/12638 [00:25<00:00, 502.45it/s]\n",
            "100%|██████████| 12638/12638 [00:44<00:00, 285.73it/s]\n"
          ]
        },
        {
          "name": "stdout",
          "output_type": "stream",
          "text": [
            "Recommender results are: Precision = 81.3183333333, Recall = 4887.3573106284, MAP = 0.0921251896\n",
            "Fold 4 evaluations started\n",
            "ItemKNNCustomSimilarityRecommender: URM Detected 478 ( 3.8%) users with no interactions.\n",
            "ItemKNNCustomSimilarityRecommender: URM Detected 337 ( 1.5%) items with no interactions.\n",
            "ItemKNNCustomSimilarityRecommender: URM Detected 478 ( 3.8%) users with no interactions.\n",
            "ItemKNNCustomSimilarityRecommender: URM Detected 337 ( 1.5%) items with no interactions.\n",
            "ItemKNNCustomSimilarityRecommender: URM Detected 478 ( 3.8%) users with no interactions.\n",
            "ItemKNNCustomSimilarityRecommender: URM Detected 337 ( 1.5%) items with no interactions.\n",
            "ItemKNNCustomSimilarityRecommender: URM Detected 478 ( 3.8%) users with no interactions.\n",
            "ItemKNNCustomSimilarityRecommender: URM Detected 337 ( 1.5%) items with no interactions.\n"
          ]
        },
        {
          "name": "stderr",
          "output_type": "stream",
          "text": [
            "100%|██████████| 12638/12638 [00:22<00:00, 562.42it/s]\n",
            "100%|██████████| 12638/12638 [00:49<00:00, 253.22it/s]\n"
          ]
        },
        {
          "name": "stdout",
          "output_type": "stream",
          "text": [
            "ItemKNNCustomSimilarityRecommender: URM Detected 239 ( 1.9%) users with no interactions.\n",
            "ItemKNNCustomSimilarityRecommender: URM Detected 124 ( 0.6%) items with no interactions.\n",
            "ItemKNNCustomSimilarityRecommender: URM Detected 239 ( 1.9%) users with no interactions.\n",
            "ItemKNNCustomSimilarityRecommender: URM Detected 124 ( 0.6%) items with no interactions.\n",
            "ItemKNNCustomSimilarityRecommender: URM Detected 239 ( 1.9%) users with no interactions.\n",
            "ItemKNNCustomSimilarityRecommender: URM Detected 124 ( 0.6%) items with no interactions.\n",
            "ItemKNNCustomSimilarityRecommender: URM Detected 239 ( 1.9%) users with no interactions.\n",
            "ItemKNNCustomSimilarityRecommender: URM Detected 124 ( 0.6%) items with no interactions.\n"
          ]
        },
        {
          "name": "stderr",
          "output_type": "stream",
          "text": [
            "100%|██████████| 12638/12638 [00:24<00:00, 514.48it/s]\n",
            "100%|██████████| 12638/12638 [00:46<00:00, 270.44it/s]\n"
          ]
        },
        {
          "name": "stdout",
          "output_type": "stream",
          "text": [
            "Recommender results are: Precision = 80.9200000000, Recall = 4845.2773503021, MAP = 0.0913736426\n",
            "The crossvalidation MAP for list combination of Noramalised IBCF and SLIM elasticnet is 0.09079961769950926\n"
          ]
        }
      ],
      "source": [
        "# Evaluate model recommendations with 5-fold CV\n",
        "# NON-Normalised SIMILARITIES\n",
        "# USING SPECIFIED VALUES (FIRST 5-fold CV)\n",
        "alpha = 0.88\n",
        "beta = 0.685907\n",
        "\n",
        "init_rec_cutoff = 600\n",
        "\n",
        "xgboost_model_hyperparams = {'n_estimators':50,\n",
        "                             'learning_rate':1e-1,'reg_alpha':1e-1,'reg_lambda':0.3,'max_depth':5,'max_leaves':0,\n",
        "                             'grow_policy':\"depthwise\",'objective':\"pairwise\",'booster':\"gbtree\",\n",
        "                             'use_user_profile':False,'random_seed':None\n",
        "                             }\n",
        "\n",
        "folds_map = []\n",
        "for k,fold in enumerate(data_folds):\n",
        "  print(f'Fold {k} evaluations started')\n",
        "\n",
        "  # Define the recommender models trained on RecommenderFold of the current fold to prepare for XGboost training\n",
        "  initial_S_slim_elastic = xgboostfold_models[k][\"SLIM\"]\n",
        "  initial_S_ibcf = xgboostfold_models[k][\"IBCF\"]\n",
        "  initial_S_easer = xgboostfold_models[k][\"EASER\"]\n",
        "  initial_hybrid3models_similarity = beta * ((1 - alpha) * initial_S_ibcf  + alpha * initial_S_slim_elastic) + (1 - beta) * initial_S_easer\n",
        "\n",
        "\n",
        "  # Models for features generation\n",
        "  initial_hybrid3models_object = ItemKNNCustomSimilarityRecommender(data_xgboostfolds[k]['train_recommender'])\n",
        "  initial_hybrid3models_object.fit(initial_hybrid3models_similarity)\n",
        "  initial_hybrid3models = Predictor(URM=data_xgboostfolds[k]['train_recommender'], model = initial_hybrid3models_object)\n",
        "\n",
        "  initial_S_rp3beta = xgboostfold_models[k][\"rp3beta\"]\n",
        "  initial_rp3beta_object = ItemKNNCustomSimilarityRecommender(data_xgboostfolds[k]['train_recommender'])\n",
        "  initial_rp3beta_object.fit(initial_S_rp3beta)\n",
        "\n",
        "  initial_S_easer = xgboostfold_models[k][\"EASER\"]\n",
        "  initial_easer_object = ItemKNNCustomSimilarityRecommender(data_xgboostfolds[k]['train_recommender'])\n",
        "  initial_easer_object.fit(initial_S_easer)\n",
        "\n",
        "  initial_S_ibcf = xgboostfold_models[k][\"IBCF\"]\n",
        "  initial_ibcf_object = ItemKNNCustomSimilarityRecommender(data_xgboostfolds[k]['train_recommender'])\n",
        "  initial_ibcf_object.fit(initial_S_ibcf)\n",
        "\n",
        "  init_other_algorithms = {\n",
        "    \"rp3beta\": initial_rp3beta_object,\n",
        "    \"EASER\": initial_easer_object,\n",
        "    \"IBCF\":initial_ibcf_object}\n",
        "\n",
        "  # Get XGboost trained\n",
        "  xgboost_trained = train_xgboost(data_xgboostfolds[k]['train_recommender'],data_xgboostfolds[k]['train_xgboost'],\n",
        "                                  initial_hybrid3models,initial_recommendations_cutoff = init_rec_cutoff, other_algorithms = init_other_algorithms,\n",
        "                                  xgboost_hyperparams = xgboost_model_hyperparams)\n",
        "\n",
        "\n",
        "  # Define the recommender models trained on the whole current fold to prepare for the evaluation\n",
        "  S_slim_elastic = fold_models[k][\"SLIM\"]\n",
        "  S_ibcf = fold_models[k][\"IBCF\"]\n",
        "  S_easer = fold_models[k][\"EASER\"]\n",
        "  hybrid3models_similarity = beta * ((1 - alpha) * S_ibcf  + alpha * S_slim_elastic) + (1 - beta) * S_easer\n",
        "\n",
        "  hybrid3models_object = ItemKNNCustomSimilarityRecommender(fold['train'])\n",
        "  hybrid3models_object.fit(hybrid3models_similarity)\n",
        "  hybrid3models = Predictor(URM=fold['train'], model = hybrid3models_object)\n",
        "\n",
        "  # Models for features generation\n",
        "  S_rp3beta = fold_models[k][\"rp3beta\"]\n",
        "  rp3beta_object = ItemKNNCustomSimilarityRecommender(fold['train'])\n",
        "  rp3beta_object.fit(S_rp3beta)\n",
        "\n",
        "  S_easer = fold_models[k][\"EASER\"]\n",
        "  easer_object = ItemKNNCustomSimilarityRecommender(fold['train'])\n",
        "  easer_object.fit(S_easer)\n",
        "\n",
        "  S_ibcf = fold_models[k][\"IBCF\"]\n",
        "  ibcf_object = ItemKNNCustomSimilarityRecommender(fold['train'])\n",
        "  ibcf_object.fit(S_ibcf)\n",
        "\n",
        "  other_algorithms = {\n",
        "    \"rp3beta\": rp3beta_object,\n",
        "    \"EASER\": easer_object,\n",
        "    \"IBCF\":ibcf_object}\n",
        "\n",
        "  features_df = prepare_training_df(fold['train'],fold['train'],hybrid3models,init_rec_cutoff,other_algorithms)\n",
        "  features_df = features_df.drop(columns=[\"Label\"])\n",
        "\n",
        "\n",
        "  map, mp,mr = evaluate_xgboost(fold['val'],features_df,xgboost_trained)\n",
        "  folds_map.append(map)\n",
        "\n",
        "\n",
        "cv_map = np.array(folds_map).sum()/len(data_folds)\n",
        "print(f'The crossvalidation MAP for list combination of Noramalised IBCF and SLIM elasticnet is {cv_map}')"
      ]
    },
    {
      "cell_type": "code",
      "execution_count": 75,
      "metadata": {},
      "outputs": [
        {
          "name": "stdout",
          "output_type": "stream",
          "text": [
            "Fold 0 evaluations started\n",
            "ItemKNNCustomSimilarityRecommender: URM Detected 424 ( 3.4%) users with no interactions.\n",
            "ItemKNNCustomSimilarityRecommender: URM Detected 334 ( 1.5%) items with no interactions.\n",
            "ItemKNNCustomSimilarityRecommender: URM Detected 424 ( 3.4%) users with no interactions.\n",
            "ItemKNNCustomSimilarityRecommender: URM Detected 334 ( 1.5%) items with no interactions.\n",
            "ItemKNNCustomSimilarityRecommender: URM Detected 424 ( 3.4%) users with no interactions.\n",
            "ItemKNNCustomSimilarityRecommender: URM Detected 334 ( 1.5%) items with no interactions.\n",
            "ItemKNNCustomSimilarityRecommender: URM Detected 424 ( 3.4%) users with no interactions.\n",
            "ItemKNNCustomSimilarityRecommender: URM Detected 334 ( 1.5%) items with no interactions.\n"
          ]
        },
        {
          "name": "stderr",
          "output_type": "stream",
          "text": [
            "100%|██████████| 12638/12638 [00:24<00:00, 514.40it/s]\n",
            "100%|██████████| 12638/12638 [00:46<00:00, 271.55it/s]\n"
          ]
        },
        {
          "name": "stdout",
          "output_type": "stream",
          "text": [
            "ItemKNNCustomSimilarityRecommender: URM Detected 205 ( 1.6%) users with no interactions.\n",
            "ItemKNNCustomSimilarityRecommender: URM Detected 120 ( 0.5%) items with no interactions.\n",
            "ItemKNNCustomSimilarityRecommender: URM Detected 205 ( 1.6%) users with no interactions.\n",
            "ItemKNNCustomSimilarityRecommender: URM Detected 120 ( 0.5%) items with no interactions.\n",
            "ItemKNNCustomSimilarityRecommender: URM Detected 205 ( 1.6%) users with no interactions.\n",
            "ItemKNNCustomSimilarityRecommender: URM Detected 120 ( 0.5%) items with no interactions.\n",
            "ItemKNNCustomSimilarityRecommender: URM Detected 205 ( 1.6%) users with no interactions.\n",
            "ItemKNNCustomSimilarityRecommender: URM Detected 120 ( 0.5%) items with no interactions.\n"
          ]
        },
        {
          "name": "stderr",
          "output_type": "stream",
          "text": [
            "100%|██████████| 12638/12638 [00:23<00:00, 534.28it/s]\n",
            "100%|██████████| 12638/12638 [00:47<00:00, 267.92it/s]\n"
          ]
        },
        {
          "name": "stdout",
          "output_type": "stream",
          "text": [
            "Recommender results are: Precision = 81.2283333333, Recall = 4817.3488569762, MAP = 0.0902636282\n",
            "Fold 1 evaluations started\n",
            "ItemKNNCustomSimilarityRecommender: URM Detected 464 ( 3.7%) users with no interactions.\n",
            "ItemKNNCustomSimilarityRecommender: URM Detected 345 ( 1.6%) items with no interactions.\n",
            "ItemKNNCustomSimilarityRecommender: URM Detected 464 ( 3.7%) users with no interactions.\n",
            "ItemKNNCustomSimilarityRecommender: URM Detected 345 ( 1.6%) items with no interactions.\n",
            "ItemKNNCustomSimilarityRecommender: URM Detected 464 ( 3.7%) users with no interactions.\n",
            "ItemKNNCustomSimilarityRecommender: URM Detected 345 ( 1.6%) items with no interactions.\n",
            "ItemKNNCustomSimilarityRecommender: URM Detected 464 ( 3.7%) users with no interactions.\n",
            "ItemKNNCustomSimilarityRecommender: URM Detected 345 ( 1.6%) items with no interactions.\n"
          ]
        },
        {
          "name": "stderr",
          "output_type": "stream",
          "text": [
            "100%|██████████| 12638/12638 [00:24<00:00, 522.27it/s]\n",
            "100%|██████████| 12638/12638 [00:46<00:00, 273.80it/s]\n"
          ]
        },
        {
          "name": "stdout",
          "output_type": "stream",
          "text": [
            "ItemKNNCustomSimilarityRecommender: URM Detected 221 ( 1.7%) users with no interactions.\n",
            "ItemKNNCustomSimilarityRecommender: URM Detected 113 ( 0.5%) items with no interactions.\n",
            "ItemKNNCustomSimilarityRecommender: URM Detected 221 ( 1.7%) users with no interactions.\n",
            "ItemKNNCustomSimilarityRecommender: URM Detected 113 ( 0.5%) items with no interactions.\n",
            "ItemKNNCustomSimilarityRecommender: URM Detected 221 ( 1.7%) users with no interactions.\n",
            "ItemKNNCustomSimilarityRecommender: URM Detected 113 ( 0.5%) items with no interactions.\n",
            "ItemKNNCustomSimilarityRecommender: URM Detected 221 ( 1.7%) users with no interactions.\n",
            "ItemKNNCustomSimilarityRecommender: URM Detected 113 ( 0.5%) items with no interactions.\n"
          ]
        },
        {
          "name": "stderr",
          "output_type": "stream",
          "text": [
            "100%|██████████| 12638/12638 [00:23<00:00, 534.78it/s]\n",
            "100%|██████████| 12638/12638 [00:46<00:00, 271.10it/s]\n"
          ]
        },
        {
          "name": "stdout",
          "output_type": "stream",
          "text": [
            "Recommender results are: Precision = 81.1816666667, Recall = 4870.2455266993, MAP = 0.0902886730\n",
            "Fold 2 evaluations started\n",
            "ItemKNNCustomSimilarityRecommender: URM Detected 474 ( 3.8%) users with no interactions.\n",
            "ItemKNNCustomSimilarityRecommender: URM Detected 337 ( 1.5%) items with no interactions.\n",
            "ItemKNNCustomSimilarityRecommender: URM Detected 474 ( 3.8%) users with no interactions.\n",
            "ItemKNNCustomSimilarityRecommender: URM Detected 337 ( 1.5%) items with no interactions.\n",
            "ItemKNNCustomSimilarityRecommender: URM Detected 474 ( 3.8%) users with no interactions.\n",
            "ItemKNNCustomSimilarityRecommender: URM Detected 337 ( 1.5%) items with no interactions.\n",
            "ItemKNNCustomSimilarityRecommender: URM Detected 474 ( 3.8%) users with no interactions.\n",
            "ItemKNNCustomSimilarityRecommender: URM Detected 337 ( 1.5%) items with no interactions.\n"
          ]
        },
        {
          "name": "stderr",
          "output_type": "stream",
          "text": [
            "100%|██████████| 12638/12638 [00:24<00:00, 526.54it/s]\n",
            "100%|██████████| 12638/12638 [00:46<00:00, 272.26it/s]\n"
          ]
        },
        {
          "name": "stdout",
          "output_type": "stream",
          "text": [
            "ItemKNNCustomSimilarityRecommender: URM Detected 196 ( 1.6%) users with no interactions.\n",
            "ItemKNNCustomSimilarityRecommender: URM Detected 119 ( 0.5%) items with no interactions.\n",
            "ItemKNNCustomSimilarityRecommender: URM Detected 196 ( 1.6%) users with no interactions.\n",
            "ItemKNNCustomSimilarityRecommender: URM Detected 119 ( 0.5%) items with no interactions.\n",
            "ItemKNNCustomSimilarityRecommender: URM Detected 196 ( 1.6%) users with no interactions.\n",
            "ItemKNNCustomSimilarityRecommender: URM Detected 119 ( 0.5%) items with no interactions.\n",
            "ItemKNNCustomSimilarityRecommender: URM Detected 196 ( 1.6%) users with no interactions.\n",
            "ItemKNNCustomSimilarityRecommender: URM Detected 119 ( 0.5%) items with no interactions.\n"
          ]
        },
        {
          "name": "stderr",
          "output_type": "stream",
          "text": [
            "100%|██████████| 12638/12638 [00:24<00:00, 525.78it/s]\n",
            "100%|██████████| 12638/12638 [00:47<00:00, 267.66it/s]\n"
          ]
        },
        {
          "name": "stdout",
          "output_type": "stream",
          "text": [
            "Recommender results are: Precision = 80.9566666667, Recall = 4826.5920664362, MAP = 0.0882514812\n",
            "Fold 3 evaluations started\n",
            "ItemKNNCustomSimilarityRecommender: URM Detected 497 ( 3.9%) users with no interactions.\n",
            "ItemKNNCustomSimilarityRecommender: URM Detected 335 ( 1.5%) items with no interactions.\n",
            "ItemKNNCustomSimilarityRecommender: URM Detected 497 ( 3.9%) users with no interactions.\n",
            "ItemKNNCustomSimilarityRecommender: URM Detected 335 ( 1.5%) items with no interactions.\n",
            "ItemKNNCustomSimilarityRecommender: URM Detected 497 ( 3.9%) users with no interactions.\n",
            "ItemKNNCustomSimilarityRecommender: URM Detected 335 ( 1.5%) items with no interactions.\n",
            "ItemKNNCustomSimilarityRecommender: URM Detected 497 ( 3.9%) users with no interactions.\n",
            "ItemKNNCustomSimilarityRecommender: URM Detected 335 ( 1.5%) items with no interactions.\n"
          ]
        },
        {
          "name": "stderr",
          "output_type": "stream",
          "text": [
            "100%|██████████| 12638/12638 [00:23<00:00, 533.82it/s]\n",
            "100%|██████████| 12638/12638 [00:46<00:00, 271.57it/s]\n"
          ]
        },
        {
          "name": "stdout",
          "output_type": "stream",
          "text": [
            "ItemKNNCustomSimilarityRecommender: URM Detected 254 ( 2.0%) users with no interactions.\n",
            "ItemKNNCustomSimilarityRecommender: URM Detected 96 ( 0.4%) items with no interactions.\n",
            "ItemKNNCustomSimilarityRecommender: URM Detected 254 ( 2.0%) users with no interactions.\n",
            "ItemKNNCustomSimilarityRecommender: URM Detected 96 ( 0.4%) items with no interactions.\n",
            "ItemKNNCustomSimilarityRecommender: URM Detected 254 ( 2.0%) users with no interactions.\n",
            "ItemKNNCustomSimilarityRecommender: URM Detected 96 ( 0.4%) items with no interactions.\n",
            "ItemKNNCustomSimilarityRecommender: URM Detected 254 ( 2.0%) users with no interactions.\n",
            "ItemKNNCustomSimilarityRecommender: URM Detected 96 ( 0.4%) items with no interactions.\n"
          ]
        },
        {
          "name": "stderr",
          "output_type": "stream",
          "text": [
            "100%|██████████| 12638/12638 [00:24<00:00, 518.62it/s]\n",
            "100%|██████████| 12638/12638 [00:46<00:00, 272.06it/s]\n"
          ]
        },
        {
          "name": "stdout",
          "output_type": "stream",
          "text": [
            "Recommender results are: Precision = 81.3183333333, Recall = 4887.3573106284, MAP = 0.0918611390\n",
            "Fold 4 evaluations started\n",
            "ItemKNNCustomSimilarityRecommender: URM Detected 478 ( 3.8%) users with no interactions.\n",
            "ItemKNNCustomSimilarityRecommender: URM Detected 337 ( 1.5%) items with no interactions.\n",
            "ItemKNNCustomSimilarityRecommender: URM Detected 478 ( 3.8%) users with no interactions.\n",
            "ItemKNNCustomSimilarityRecommender: URM Detected 337 ( 1.5%) items with no interactions.\n",
            "ItemKNNCustomSimilarityRecommender: URM Detected 478 ( 3.8%) users with no interactions.\n",
            "ItemKNNCustomSimilarityRecommender: URM Detected 337 ( 1.5%) items with no interactions.\n",
            "ItemKNNCustomSimilarityRecommender: URM Detected 478 ( 3.8%) users with no interactions.\n",
            "ItemKNNCustomSimilarityRecommender: URM Detected 337 ( 1.5%) items with no interactions.\n"
          ]
        },
        {
          "name": "stderr",
          "output_type": "stream",
          "text": [
            "100%|██████████| 12638/12638 [00:24<00:00, 525.95it/s]\n",
            "100%|██████████| 12638/12638 [00:46<00:00, 269.64it/s]\n"
          ]
        },
        {
          "name": "stdout",
          "output_type": "stream",
          "text": [
            "ItemKNNCustomSimilarityRecommender: URM Detected 239 ( 1.9%) users with no interactions.\n",
            "ItemKNNCustomSimilarityRecommender: URM Detected 124 ( 0.6%) items with no interactions.\n",
            "ItemKNNCustomSimilarityRecommender: URM Detected 239 ( 1.9%) users with no interactions.\n",
            "ItemKNNCustomSimilarityRecommender: URM Detected 124 ( 0.6%) items with no interactions.\n",
            "ItemKNNCustomSimilarityRecommender: URM Detected 239 ( 1.9%) users with no interactions.\n",
            "ItemKNNCustomSimilarityRecommender: URM Detected 124 ( 0.6%) items with no interactions.\n",
            "ItemKNNCustomSimilarityRecommender: URM Detected 239 ( 1.9%) users with no interactions.\n",
            "ItemKNNCustomSimilarityRecommender: URM Detected 124 ( 0.6%) items with no interactions.\n"
          ]
        },
        {
          "name": "stderr",
          "output_type": "stream",
          "text": [
            "100%|██████████| 12638/12638 [00:24<00:00, 526.17it/s]\n",
            "100%|██████████| 12638/12638 [00:46<00:00, 270.71it/s]\n"
          ]
        },
        {
          "name": "stdout",
          "output_type": "stream",
          "text": [
            "Recommender results are: Precision = 80.9200000000, Recall = 4845.2773503021, MAP = 0.0916727479\n",
            "The crossvalidation MAP for list combination of Noramalised IBCF and SLIM elasticnet is 0.090467533847764\n"
          ]
        }
      ],
      "source": [
        "# Evaluate model recommendations with 5-fold CV\n",
        "# NON-Normalised SIMILARITIES\n",
        "# USING SPECIFIED VALUES (FIRST 5-fold CV)\n",
        "alpha = 0.88\n",
        "beta = 0.685907\n",
        "\n",
        "init_rec_cutoff = 600\n",
        "\n",
        "xgboost_model_hyperparams = {'n_estimators':50,\n",
        "                             'learning_rate':1e-1,'reg_alpha':1e-1,'reg_lambda':0.1,'max_depth':5,'max_leaves':0,\n",
        "                             'grow_policy':\"depthwise\",'objective':\"pairwise\",'booster':\"gbtree\",\n",
        "                             'use_user_profile':False,'random_seed':None\n",
        "                             }\n",
        "\n",
        "folds_map = []\n",
        "for k,fold in enumerate(data_folds):\n",
        "  print(f'Fold {k} evaluations started')\n",
        "\n",
        "  # Define the recommender models trained on RecommenderFold of the current fold to prepare for XGboost training\n",
        "  initial_S_slim_elastic = xgboostfold_models[k][\"SLIM\"]\n",
        "  initial_S_ibcf = xgboostfold_models[k][\"IBCF\"]\n",
        "  initial_S_easer = xgboostfold_models[k][\"EASER\"]\n",
        "  initial_hybrid3models_similarity = beta * ((1 - alpha) * initial_S_ibcf  + alpha * initial_S_slim_elastic) + (1 - beta) * initial_S_easer\n",
        "\n",
        "\n",
        "  # Models for features generation\n",
        "  initial_hybrid3models_object = ItemKNNCustomSimilarityRecommender(data_xgboostfolds[k]['train_recommender'])\n",
        "  initial_hybrid3models_object.fit(initial_hybrid3models_similarity)\n",
        "  initial_hybrid3models = Predictor(URM=data_xgboostfolds[k]['train_recommender'], model = initial_hybrid3models_object)\n",
        "\n",
        "  initial_S_rp3beta = xgboostfold_models[k][\"rp3beta\"]\n",
        "  initial_rp3beta_object = ItemKNNCustomSimilarityRecommender(data_xgboostfolds[k]['train_recommender'])\n",
        "  initial_rp3beta_object.fit(initial_S_rp3beta)\n",
        "\n",
        "  initial_S_easer = xgboostfold_models[k][\"EASER\"]\n",
        "  initial_easer_object = ItemKNNCustomSimilarityRecommender(data_xgboostfolds[k]['train_recommender'])\n",
        "  initial_easer_object.fit(initial_S_easer)\n",
        "\n",
        "  initial_S_ibcf = xgboostfold_models[k][\"IBCF\"]\n",
        "  initial_ibcf_object = ItemKNNCustomSimilarityRecommender(data_xgboostfolds[k]['train_recommender'])\n",
        "  initial_ibcf_object.fit(initial_S_ibcf)\n",
        "\n",
        "  init_other_algorithms = {\n",
        "    \"rp3beta\": initial_rp3beta_object,\n",
        "    \"EASER\": initial_easer_object,\n",
        "    \"IBCF\":initial_ibcf_object}\n",
        "\n",
        "  # Get XGboost trained\n",
        "  xgboost_trained = train_xgboost(data_xgboostfolds[k]['train_recommender'],data_xgboostfolds[k]['train_xgboost'],\n",
        "                                  initial_hybrid3models,initial_recommendations_cutoff = init_rec_cutoff, other_algorithms = init_other_algorithms,\n",
        "                                  xgboost_hyperparams = xgboost_model_hyperparams)\n",
        "\n",
        "\n",
        "  # Define the recommender models trained on the whole current fold to prepare for the evaluation\n",
        "  S_slim_elastic = fold_models[k][\"SLIM\"]\n",
        "  S_ibcf = fold_models[k][\"IBCF\"]\n",
        "  S_easer = fold_models[k][\"EASER\"]\n",
        "  hybrid3models_similarity = beta * ((1 - alpha) * S_ibcf  + alpha * S_slim_elastic) + (1 - beta) * S_easer\n",
        "\n",
        "  hybrid3models_object = ItemKNNCustomSimilarityRecommender(fold['train'])\n",
        "  hybrid3models_object.fit(hybrid3models_similarity)\n",
        "  hybrid3models = Predictor(URM=fold['train'], model = hybrid3models_object)\n",
        "\n",
        "  # Models for features generation\n",
        "  S_rp3beta = fold_models[k][\"rp3beta\"]\n",
        "  rp3beta_object = ItemKNNCustomSimilarityRecommender(fold['train'])\n",
        "  rp3beta_object.fit(S_rp3beta)\n",
        "\n",
        "  S_easer = fold_models[k][\"EASER\"]\n",
        "  easer_object = ItemKNNCustomSimilarityRecommender(fold['train'])\n",
        "  easer_object.fit(S_easer)\n",
        "\n",
        "  S_ibcf = fold_models[k][\"IBCF\"]\n",
        "  ibcf_object = ItemKNNCustomSimilarityRecommender(fold['train'])\n",
        "  ibcf_object.fit(S_ibcf)\n",
        "\n",
        "  other_algorithms = {\n",
        "    \"rp3beta\": rp3beta_object,\n",
        "    \"EASER\": easer_object,\n",
        "    \"IBCF\":ibcf_object}\n",
        "\n",
        "  features_df = prepare_training_df(fold['train'],fold['train'],hybrid3models,init_rec_cutoff,other_algorithms)\n",
        "  features_df = features_df.drop(columns=[\"Label\"])\n",
        "\n",
        "\n",
        "  map, mp,mr = evaluate_xgboost(fold['val'],features_df,xgboost_trained)\n",
        "  folds_map.append(map)\n",
        "\n",
        "\n",
        "cv_map = np.array(folds_map).sum()/len(data_folds)\n",
        "print(f'The crossvalidation MAP for list combination of Noramalised IBCF and SLIM elasticnet is {cv_map}')"
      ]
    },
    {
      "cell_type": "markdown",
      "metadata": {
        "id": "LTzxN3OPGnQ-"
      },
      "source": [
        "# Predict for the test data"
      ]
    },
    {
      "cell_type": "markdown",
      "metadata": {
        "id": "MS5Bl0Zko_1N"
      },
      "source": [
        "**Now let's read the data we want to predict for and see if there're overlaps with UserIDs in train data**"
      ]
    },
    {
      "cell_type": "code",
      "execution_count": 78,
      "metadata": {
        "colab": {
          "base_uri": "https://localhost:8080/"
        },
        "id": "LRk6SPDso0Kj",
        "outputId": "76cce05a-1889-4562-f2bb-768184d4dead"
      },
      "outputs": [
        {
          "name": "stdout",
          "output_type": "stream",
          "text": [
            "Unique user id to predict: 10882\n"
          ]
        }
      ],
      "source": [
        "urm_pred_path = './content/data_target_users_test.csv'\n",
        "\n",
        "urm_pred_df = pd.read_csv(filepath_or_buffer=urm_pred_path,\n",
        "                                sep=\",\",\n",
        "                                header=0,\n",
        "                                dtype={0:int},\n",
        "                                engine='python')\n",
        "\n",
        "urm_pred_df.columns = [\"UserID\"]\n",
        "len(urm_pred_df['UserID'])\n",
        "print('Unique user id to predict:', urm_pred_df['UserID'].nunique())"
      ]
    },
    {
      "cell_type": "markdown",
      "metadata": {
        "id": "4wEa5nOrIZhA"
      },
      "source": [
        "### Generate features and initial predictions"
      ]
    },
    {
      "cell_type": "markdown",
      "metadata": {
        "id": "yOF-bLpD9u52"
      },
      "source": [
        "**Define the model to generate recommendations**"
      ]
    },
    {
      "cell_type": "code",
      "execution_count": 80,
      "metadata": {
        "id": "9YM6vf8N8-Cr"
      },
      "outputs": [],
      "source": [
        "# Define our best submission model i.e. hybrid of NON-NORMALISED SIMILARITIES 0.685907*(0.88*SLIM elasticnet + 0.12*IBCF)+(1 - 0.685907)*EASER\n",
        "\n",
        "alpha = 0.88\n",
        "beta = 0.685907\n",
        "\n",
        "S_slim_elastic = load_npz('./5-fold CV/Whole_data_trained_models/ItItSimilarity_trained_whole_data_noemptyprofiles_SLIMelasticnet_kaggleMAP0.13484.npz')\n",
        "S_ibcf = load_npz('./5-fold CV/Whole_data_trained_models/ItItSimilarity_trained_whole_data_noemptyprofiles_IBCF_kaggleMAP0.11585.npz')\n",
        "S_easer = load_npz('./5-fold CV/Whole_data_trained_models/ItItSimilarity_trained_whole_data_noemptyprofiles_EASER_kaggleMAP0.12504.npz')\n",
        "hybrid_similarity = beta * ((1 - alpha) * S_ibcf_f0  + alpha * S_slim_elastic_f0) + (1 - beta) * S_easer_f0\n",
        "\n",
        "hybrid_recommender_object = ItemKNNCustomSimilarityRecommender(urm_all)\n",
        "hybrid_recommender_object.fit(hybrid_similarity)\n",
        "hybrid_3models = Predictor(URM=data_fold0['train'], model = hybrid_recommender_object)\n",
        "\n"
      ]
    },
    {
      "cell_type": "markdown",
      "metadata": {
        "id": "9NIpEG169N-R"
      },
      "source": [
        "**Build the dataframe with the predictions**"
      ]
    },
    {
      "cell_type": "code",
      "execution_count": 100,
      "metadata": {
        "id": "NkRCFpdL9N-S"
      },
      "outputs": [],
      "source": [
        "import pandas as pd\n",
        "from tqdm import tqdm\n",
        "import scipy.sparse as sps\n",
        "import numpy as np\n",
        "from xgboost import XGBRanker\n",
        "\n",
        "n_users = len(userID_unique)\n",
        "n_items = len(itemID_unique)\n",
        "n_interactions = len(urm_all_df)\n",
        "\n",
        "feature_dataframe = pd.DataFrame(index=range(0,n_users), columns = [\"ItemID\"])\n",
        "feature_dataframe.index.name='UserID'"
      ]
    },
    {
      "cell_type": "code",
      "execution_count": 101,
      "metadata": {},
      "outputs": [
        {
          "data": {
            "text/plain": [
              "<13025x22348 sparse matrix of type '<class 'numpy.float64'>'\n",
              "\twith 478730 stored elements in Compressed Sparse Row format>"
            ]
          },
          "execution_count": 101,
          "metadata": {},
          "output_type": "execute_result"
        }
      ],
      "source": [
        "urm_all"
      ]
    },
    {
      "cell_type": "code",
      "execution_count": 102,
      "metadata": {
        "colab": {
          "base_uri": "https://localhost:8080/"
        },
        "id": "Y6ZyEE539N-T",
        "outputId": "7514e7d9-32a4-452f-b5ea-ebf0f93f3305"
      },
      "outputs": [],
      "source": [
        "cutoff = 30\n",
        "\n",
        "for user_id in userID_unique:\n",
        "    recommendations = hybrid_3models.recommend(user_id, at = cutoff)\n",
        "    feature_dataframe.loc[user_id, \"ItemID\"] = recommendations\n",
        "\n"
      ]
    },
    {
      "cell_type": "markdown",
      "metadata": {
        "id": "BGGK2Oq-9N-U"
      },
      "source": [
        "**Transform the dataframe so that we have one recommendation per row**"
      ]
    },
    {
      "cell_type": "code",
      "execution_count": 103,
      "metadata": {
        "colab": {
          "base_uri": "https://localhost:8080/",
          "height": 455
        },
        "id": "6A7a6YQ19N-V",
        "outputId": "cca4c905-51c9-4fe6-e718-0c19dd6c3c96"
      },
      "outputs": [
        {
          "data": {
            "text/html": [
              "<div>\n",
              "<style scoped>\n",
              "    .dataframe tbody tr th:only-of-type {\n",
              "        vertical-align: middle;\n",
              "    }\n",
              "\n",
              "    .dataframe tbody tr th {\n",
              "        vertical-align: top;\n",
              "    }\n",
              "\n",
              "    .dataframe thead th {\n",
              "        text-align: right;\n",
              "    }\n",
              "</style>\n",
              "<table border=\"1\" class=\"dataframe\">\n",
              "  <thead>\n",
              "    <tr style=\"text-align: right;\">\n",
              "      <th></th>\n",
              "      <th>ItemID</th>\n",
              "    </tr>\n",
              "    <tr>\n",
              "      <th>UserID</th>\n",
              "      <th></th>\n",
              "    </tr>\n",
              "  </thead>\n",
              "  <tbody>\n",
              "    <tr>\n",
              "      <th>0</th>\n",
              "      <td>674</td>\n",
              "    </tr>\n",
              "    <tr>\n",
              "      <th>0</th>\n",
              "      <td>587</td>\n",
              "    </tr>\n",
              "    <tr>\n",
              "      <th>0</th>\n",
              "      <td>4</td>\n",
              "    </tr>\n",
              "    <tr>\n",
              "      <th>0</th>\n",
              "      <td>1449</td>\n",
              "    </tr>\n",
              "    <tr>\n",
              "      <th>0</th>\n",
              "      <td>1585</td>\n",
              "    </tr>\n",
              "    <tr>\n",
              "      <th>...</th>\n",
              "      <td>...</td>\n",
              "    </tr>\n",
              "    <tr>\n",
              "      <th>12637</th>\n",
              "      <td>10906</td>\n",
              "    </tr>\n",
              "    <tr>\n",
              "      <th>12637</th>\n",
              "      <td>327</td>\n",
              "    </tr>\n",
              "    <tr>\n",
              "      <th>12637</th>\n",
              "      <td>10898</td>\n",
              "    </tr>\n",
              "    <tr>\n",
              "      <th>12637</th>\n",
              "      <td>17581</td>\n",
              "    </tr>\n",
              "    <tr>\n",
              "      <th>12637</th>\n",
              "      <td>13248</td>\n",
              "    </tr>\n",
              "  </tbody>\n",
              "</table>\n",
              "<p>379140 rows × 1 columns</p>\n",
              "</div>"
            ],
            "text/plain": [
              "        ItemID\n",
              "UserID        \n",
              "0          674\n",
              "0          587\n",
              "0            4\n",
              "0         1449\n",
              "0         1585\n",
              "...        ...\n",
              "12637    10906\n",
              "12637      327\n",
              "12637    10898\n",
              "12637    17581\n",
              "12637    13248\n",
              "\n",
              "[379140 rows x 1 columns]"
            ]
          },
          "execution_count": 103,
          "metadata": {},
          "output_type": "execute_result"
        }
      ],
      "source": [
        "feature_dataframe = feature_dataframe.explode(\"ItemID\")\n",
        "feature_dataframe['ItemID'] = pd.to_numeric(feature_dataframe['ItemID'])\n",
        "feature_dataframe"
      ]
    },
    {
      "cell_type": "markdown",
      "metadata": {
        "id": "5S0KZFZj9N-W"
      },
      "source": [
        "**Now let's add features as the prediction of other algorithms**"
      ]
    },
    {
      "cell_type": "code",
      "execution_count": 104,
      "metadata": {
        "id": "2bOAVdIj9N-X"
      },
      "outputs": [
        {
          "name": "stdout",
          "output_type": "stream",
          "text": [
            "ItemKNNCustomSimilarityRecommender: URM Detected 387 ( 3.0%) users with no interactions.\n",
            "ItemKNNCustomSimilarityRecommender: URM Detected 126 ( 0.6%) items with no interactions.\n",
            "ItemKNNCustomSimilarityRecommender: URM Detected 387 ( 3.0%) users with no interactions.\n",
            "ItemKNNCustomSimilarityRecommender: URM Detected 126 ( 0.6%) items with no interactions.\n",
            "ItemKNNCustomSimilarityRecommender: URM Detected 387 ( 3.0%) users with no interactions.\n",
            "ItemKNNCustomSimilarityRecommender: URM Detected 126 ( 0.6%) items with no interactions.\n"
          ]
        }
      ],
      "source": [
        "S_rp3beta = load_npz('./5-fold CV/Whole_data_trained_models/ItItSimilarity_trained_whole_data_noemptyprofiles_RP3Beta_kaggleMAP0.09372.npz')\n",
        "rp3beta_recommender_object = ItemKNNCustomSimilarityRecommender(urm_all)\n",
        "rp3beta_recommender_object.fit(S_rp3beta)\n",
        "\n",
        "S_ibcf = load_npz('./5-fold CV/Whole_data_trained_models/ItItSimilarity_trained_whole_data_noemptyprofiles_IBCF_kaggleMAP0.11585.npz')\n",
        "ibcf_recommender_object = ItemKNNCustomSimilarityRecommender(urm_all)\n",
        "ibcf_recommender_object.fit(S_ibcf)\n",
        "\n",
        "S_easer = load_npz('./5-fold CV/Whole_data_trained_models/ItItSimilarity_trained_whole_data_noemptyprofiles_EASER_kaggleMAP0.12504.npz')\n",
        "easer_recommender_object = ItemKNNCustomSimilarityRecommender(urm_all)\n",
        "easer_recommender_object.fit(S_easer)\n",
        "\n",
        "\n",
        "other_algorithms = {\n",
        "    \"rp3beta\": rp3beta_recommender_object,\n",
        "    \"EASER\": easer_recommender_object,\n",
        "    \"IBCF\":ibcf_recommender_object\n",
        "}\n"
      ]
    },
    {
      "cell_type": "code",
      "execution_count": 105,
      "metadata": {
        "colab": {
          "base_uri": "https://localhost:8080/",
          "height": 441
        },
        "id": "U9s58lWU9N-X",
        "outputId": "3e5383f7-5711-408c-ce52-5050a9ae626a"
      },
      "outputs": [
        {
          "data": {
            "text/html": [
              "<div>\n",
              "<style scoped>\n",
              "    .dataframe tbody tr th:only-of-type {\n",
              "        vertical-align: middle;\n",
              "    }\n",
              "\n",
              "    .dataframe tbody tr th {\n",
              "        vertical-align: top;\n",
              "    }\n",
              "\n",
              "    .dataframe thead th {\n",
              "        text-align: right;\n",
              "    }\n",
              "</style>\n",
              "<table border=\"1\" class=\"dataframe\">\n",
              "  <thead>\n",
              "    <tr style=\"text-align: right;\">\n",
              "      <th></th>\n",
              "      <th>UserID</th>\n",
              "      <th>ItemID</th>\n",
              "      <th>rp3beta</th>\n",
              "      <th>EASER</th>\n",
              "      <th>IBCF</th>\n",
              "    </tr>\n",
              "  </thead>\n",
              "  <tbody>\n",
              "    <tr>\n",
              "      <th>0</th>\n",
              "      <td>0</td>\n",
              "      <td>674</td>\n",
              "      <td>0.000000</td>\n",
              "      <td>0.000000</td>\n",
              "      <td>0.0</td>\n",
              "    </tr>\n",
              "    <tr>\n",
              "      <th>1</th>\n",
              "      <td>0</td>\n",
              "      <td>587</td>\n",
              "      <td>0.000000</td>\n",
              "      <td>0.000000</td>\n",
              "      <td>0.0</td>\n",
              "    </tr>\n",
              "    <tr>\n",
              "      <th>2</th>\n",
              "      <td>0</td>\n",
              "      <td>4</td>\n",
              "      <td>0.000000</td>\n",
              "      <td>0.000000</td>\n",
              "      <td>0.0</td>\n",
              "    </tr>\n",
              "    <tr>\n",
              "      <th>3</th>\n",
              "      <td>0</td>\n",
              "      <td>1449</td>\n",
              "      <td>0.000000</td>\n",
              "      <td>0.000000</td>\n",
              "      <td>0.0</td>\n",
              "    </tr>\n",
              "    <tr>\n",
              "      <th>4</th>\n",
              "      <td>0</td>\n",
              "      <td>1585</td>\n",
              "      <td>0.000000</td>\n",
              "      <td>0.000000</td>\n",
              "      <td>0.0</td>\n",
              "    </tr>\n",
              "    <tr>\n",
              "      <th>...</th>\n",
              "      <td>...</td>\n",
              "      <td>...</td>\n",
              "      <td>...</td>\n",
              "      <td>...</td>\n",
              "      <td>...</td>\n",
              "    </tr>\n",
              "    <tr>\n",
              "      <th>379135</th>\n",
              "      <td>12637</td>\n",
              "      <td>10906</td>\n",
              "      <td>0.062133</td>\n",
              "      <td>0.010391</td>\n",
              "      <td>0.0</td>\n",
              "    </tr>\n",
              "    <tr>\n",
              "      <th>379136</th>\n",
              "      <td>12637</td>\n",
              "      <td>327</td>\n",
              "      <td>0.000000</td>\n",
              "      <td>0.000000</td>\n",
              "      <td>0.0</td>\n",
              "    </tr>\n",
              "    <tr>\n",
              "      <th>379137</th>\n",
              "      <td>12637</td>\n",
              "      <td>10898</td>\n",
              "      <td>0.000000</td>\n",
              "      <td>0.000000</td>\n",
              "      <td>0.0</td>\n",
              "    </tr>\n",
              "    <tr>\n",
              "      <th>379138</th>\n",
              "      <td>12637</td>\n",
              "      <td>17581</td>\n",
              "      <td>0.000000</td>\n",
              "      <td>0.005182</td>\n",
              "      <td>0.0</td>\n",
              "    </tr>\n",
              "    <tr>\n",
              "      <th>379139</th>\n",
              "      <td>12637</td>\n",
              "      <td>13248</td>\n",
              "      <td>0.000000</td>\n",
              "      <td>0.000000</td>\n",
              "      <td>0.0</td>\n",
              "    </tr>\n",
              "  </tbody>\n",
              "</table>\n",
              "<p>379140 rows × 5 columns</p>\n",
              "</div>"
            ],
            "text/plain": [
              "        UserID  ItemID   rp3beta     EASER  IBCF\n",
              "0            0     674  0.000000  0.000000   0.0\n",
              "1            0     587  0.000000  0.000000   0.0\n",
              "2            0       4  0.000000  0.000000   0.0\n",
              "3            0    1449  0.000000  0.000000   0.0\n",
              "4            0    1585  0.000000  0.000000   0.0\n",
              "...        ...     ...       ...       ...   ...\n",
              "379135   12637   10906  0.062133  0.010391   0.0\n",
              "379136   12637     327  0.000000  0.000000   0.0\n",
              "379137   12637   10898  0.000000  0.000000   0.0\n",
              "379138   12637   17581  0.000000  0.005182   0.0\n",
              "379139   12637   13248  0.000000  0.000000   0.0\n",
              "\n",
              "[379140 rows x 5 columns]"
            ]
          },
          "execution_count": 105,
          "metadata": {},
          "output_type": "execute_result"
        }
      ],
      "source": [
        "for user_id in userID_unique:\n",
        "    for rec_label, rec_instance in other_algorithms.items():\n",
        "\n",
        "        item_list = feature_dataframe.loc[user_id, \"ItemID\"].values.tolist()\n",
        "\n",
        "        all_item_scores = rec_instance._compute_item_score([user_id], items_to_compute = item_list)\n",
        "\n",
        "        feature_dataframe.loc[user_id, rec_label] = all_item_scores[0, item_list]\n",
        "\n",
        "feature_dataframe = feature_dataframe.reset_index()\n",
        "feature_dataframe = feature_dataframe.rename(columns = {\"index\": \"UserID\"})\n",
        "feature_dataframe"
      ]
    },
    {
      "cell_type": "markdown",
      "metadata": {
        "id": "wObBpvgk9N-Y"
      },
      "source": [
        "**The popularity of the item, the user activity and etc. features**"
      ]
    },
    {
      "cell_type": "code",
      "execution_count": 106,
      "metadata": {
        "colab": {
          "base_uri": "https://localhost:8080/",
          "height": 423
        },
        "id": "vNpfN8SF9N-Y",
        "outputId": "951006c0-77a0-46eb-f5ff-0de0352be55f"
      },
      "outputs": [
        {
          "data": {
            "text/html": [
              "<div>\n",
              "<style scoped>\n",
              "    .dataframe tbody tr th:only-of-type {\n",
              "        vertical-align: middle;\n",
              "    }\n",
              "\n",
              "    .dataframe tbody tr th {\n",
              "        vertical-align: top;\n",
              "    }\n",
              "\n",
              "    .dataframe thead th {\n",
              "        text-align: right;\n",
              "    }\n",
              "</style>\n",
              "<table border=\"1\" class=\"dataframe\">\n",
              "  <thead>\n",
              "    <tr style=\"text-align: right;\">\n",
              "      <th></th>\n",
              "      <th>UserID</th>\n",
              "      <th>ItemID</th>\n",
              "      <th>rp3beta</th>\n",
              "      <th>EASER</th>\n",
              "      <th>IBCF</th>\n",
              "      <th>item_popularity</th>\n",
              "    </tr>\n",
              "  </thead>\n",
              "  <tbody>\n",
              "    <tr>\n",
              "      <th>0</th>\n",
              "      <td>0</td>\n",
              "      <td>674</td>\n",
              "      <td>0.000000</td>\n",
              "      <td>0.000000</td>\n",
              "      <td>0.0</td>\n",
              "      <td>129</td>\n",
              "    </tr>\n",
              "    <tr>\n",
              "      <th>1</th>\n",
              "      <td>0</td>\n",
              "      <td>587</td>\n",
              "      <td>0.000000</td>\n",
              "      <td>0.000000</td>\n",
              "      <td>0.0</td>\n",
              "      <td>153</td>\n",
              "    </tr>\n",
              "    <tr>\n",
              "      <th>2</th>\n",
              "      <td>0</td>\n",
              "      <td>4</td>\n",
              "      <td>0.000000</td>\n",
              "      <td>0.000000</td>\n",
              "      <td>0.0</td>\n",
              "      <td>1666</td>\n",
              "    </tr>\n",
              "    <tr>\n",
              "      <th>3</th>\n",
              "      <td>0</td>\n",
              "      <td>1449</td>\n",
              "      <td>0.000000</td>\n",
              "      <td>0.000000</td>\n",
              "      <td>0.0</td>\n",
              "      <td>52</td>\n",
              "    </tr>\n",
              "    <tr>\n",
              "      <th>4</th>\n",
              "      <td>0</td>\n",
              "      <td>1585</td>\n",
              "      <td>0.000000</td>\n",
              "      <td>0.000000</td>\n",
              "      <td>0.0</td>\n",
              "      <td>35</td>\n",
              "    </tr>\n",
              "    <tr>\n",
              "      <th>...</th>\n",
              "      <td>...</td>\n",
              "      <td>...</td>\n",
              "      <td>...</td>\n",
              "      <td>...</td>\n",
              "      <td>...</td>\n",
              "      <td>...</td>\n",
              "    </tr>\n",
              "    <tr>\n",
              "      <th>379135</th>\n",
              "      <td>12637</td>\n",
              "      <td>10906</td>\n",
              "      <td>0.062133</td>\n",
              "      <td>0.010391</td>\n",
              "      <td>0.0</td>\n",
              "      <td>6</td>\n",
              "    </tr>\n",
              "    <tr>\n",
              "      <th>379136</th>\n",
              "      <td>12637</td>\n",
              "      <td>327</td>\n",
              "      <td>0.000000</td>\n",
              "      <td>0.000000</td>\n",
              "      <td>0.0</td>\n",
              "      <td>223</td>\n",
              "    </tr>\n",
              "    <tr>\n",
              "      <th>379137</th>\n",
              "      <td>12637</td>\n",
              "      <td>10898</td>\n",
              "      <td>0.000000</td>\n",
              "      <td>0.000000</td>\n",
              "      <td>0.0</td>\n",
              "      <td>7</td>\n",
              "    </tr>\n",
              "    <tr>\n",
              "      <th>379138</th>\n",
              "      <td>12637</td>\n",
              "      <td>17581</td>\n",
              "      <td>0.000000</td>\n",
              "      <td>0.005182</td>\n",
              "      <td>0.0</td>\n",
              "      <td>6</td>\n",
              "    </tr>\n",
              "    <tr>\n",
              "      <th>379139</th>\n",
              "      <td>12637</td>\n",
              "      <td>13248</td>\n",
              "      <td>0.000000</td>\n",
              "      <td>0.000000</td>\n",
              "      <td>0.0</td>\n",
              "      <td>6</td>\n",
              "    </tr>\n",
              "  </tbody>\n",
              "</table>\n",
              "<p>379140 rows × 6 columns</p>\n",
              "</div>"
            ],
            "text/plain": [
              "        UserID  ItemID   rp3beta     EASER  IBCF  item_popularity\n",
              "0            0     674  0.000000  0.000000   0.0              129\n",
              "1            0     587  0.000000  0.000000   0.0              153\n",
              "2            0       4  0.000000  0.000000   0.0             1666\n",
              "3            0    1449  0.000000  0.000000   0.0               52\n",
              "4            0    1585  0.000000  0.000000   0.0               35\n",
              "...        ...     ...       ...       ...   ...              ...\n",
              "379135   12637   10906  0.062133  0.010391   0.0                6\n",
              "379136   12637     327  0.000000  0.000000   0.0              223\n",
              "379137   12637   10898  0.000000  0.000000   0.0                7\n",
              "379138   12637   17581  0.000000  0.005182   0.0                6\n",
              "379139   12637   13248  0.000000  0.000000   0.0                6\n",
              "\n",
              "[379140 rows x 6 columns]"
            ]
          },
          "execution_count": 106,
          "metadata": {},
          "output_type": "execute_result"
        }
      ],
      "source": [
        "item_popularity = np.ediff1d(sps.csc_matrix(urm_all).indptr)\n",
        "\n",
        "feature_dataframe['item_popularity'] = item_popularity[feature_dataframe[\"ItemID\"].values.astype(int)]\n",
        "feature_dataframe"
      ]
    },
    {
      "cell_type": "markdown",
      "metadata": {
        "id": "dP5Up04c9N-Z"
      },
      "source": [
        "**The profile length**"
      ]
    },
    {
      "cell_type": "code",
      "execution_count": 107,
      "metadata": {
        "colab": {
          "base_uri": "https://localhost:8080/",
          "height": 423
        },
        "id": "gzFBix5Q9N-a",
        "outputId": "98c9d7f8-2067-479a-9f0e-26d0e4477c06"
      },
      "outputs": [
        {
          "data": {
            "text/html": [
              "<div>\n",
              "<style scoped>\n",
              "    .dataframe tbody tr th:only-of-type {\n",
              "        vertical-align: middle;\n",
              "    }\n",
              "\n",
              "    .dataframe tbody tr th {\n",
              "        vertical-align: top;\n",
              "    }\n",
              "\n",
              "    .dataframe thead th {\n",
              "        text-align: right;\n",
              "    }\n",
              "</style>\n",
              "<table border=\"1\" class=\"dataframe\">\n",
              "  <thead>\n",
              "    <tr style=\"text-align: right;\">\n",
              "      <th></th>\n",
              "      <th>UserID</th>\n",
              "      <th>ItemID</th>\n",
              "      <th>rp3beta</th>\n",
              "      <th>EASER</th>\n",
              "      <th>IBCF</th>\n",
              "      <th>item_popularity</th>\n",
              "      <th>user_profile_len</th>\n",
              "    </tr>\n",
              "  </thead>\n",
              "  <tbody>\n",
              "    <tr>\n",
              "      <th>0</th>\n",
              "      <td>0</td>\n",
              "      <td>674</td>\n",
              "      <td>0.000000</td>\n",
              "      <td>0.000000</td>\n",
              "      <td>0.0</td>\n",
              "      <td>129</td>\n",
              "      <td>0</td>\n",
              "    </tr>\n",
              "    <tr>\n",
              "      <th>1</th>\n",
              "      <td>0</td>\n",
              "      <td>587</td>\n",
              "      <td>0.000000</td>\n",
              "      <td>0.000000</td>\n",
              "      <td>0.0</td>\n",
              "      <td>153</td>\n",
              "      <td>0</td>\n",
              "    </tr>\n",
              "    <tr>\n",
              "      <th>2</th>\n",
              "      <td>0</td>\n",
              "      <td>4</td>\n",
              "      <td>0.000000</td>\n",
              "      <td>0.000000</td>\n",
              "      <td>0.0</td>\n",
              "      <td>1666</td>\n",
              "      <td>0</td>\n",
              "    </tr>\n",
              "    <tr>\n",
              "      <th>3</th>\n",
              "      <td>0</td>\n",
              "      <td>1449</td>\n",
              "      <td>0.000000</td>\n",
              "      <td>0.000000</td>\n",
              "      <td>0.0</td>\n",
              "      <td>52</td>\n",
              "      <td>0</td>\n",
              "    </tr>\n",
              "    <tr>\n",
              "      <th>4</th>\n",
              "      <td>0</td>\n",
              "      <td>1585</td>\n",
              "      <td>0.000000</td>\n",
              "      <td>0.000000</td>\n",
              "      <td>0.0</td>\n",
              "      <td>35</td>\n",
              "      <td>0</td>\n",
              "    </tr>\n",
              "    <tr>\n",
              "      <th>...</th>\n",
              "      <td>...</td>\n",
              "      <td>...</td>\n",
              "      <td>...</td>\n",
              "      <td>...</td>\n",
              "      <td>...</td>\n",
              "      <td>...</td>\n",
              "      <td>...</td>\n",
              "    </tr>\n",
              "    <tr>\n",
              "      <th>379135</th>\n",
              "      <td>12637</td>\n",
              "      <td>10906</td>\n",
              "      <td>0.062133</td>\n",
              "      <td>0.010391</td>\n",
              "      <td>0.0</td>\n",
              "      <td>6</td>\n",
              "      <td>11</td>\n",
              "    </tr>\n",
              "    <tr>\n",
              "      <th>379136</th>\n",
              "      <td>12637</td>\n",
              "      <td>327</td>\n",
              "      <td>0.000000</td>\n",
              "      <td>0.000000</td>\n",
              "      <td>0.0</td>\n",
              "      <td>223</td>\n",
              "      <td>11</td>\n",
              "    </tr>\n",
              "    <tr>\n",
              "      <th>379137</th>\n",
              "      <td>12637</td>\n",
              "      <td>10898</td>\n",
              "      <td>0.000000</td>\n",
              "      <td>0.000000</td>\n",
              "      <td>0.0</td>\n",
              "      <td>7</td>\n",
              "      <td>11</td>\n",
              "    </tr>\n",
              "    <tr>\n",
              "      <th>379138</th>\n",
              "      <td>12637</td>\n",
              "      <td>17581</td>\n",
              "      <td>0.000000</td>\n",
              "      <td>0.005182</td>\n",
              "      <td>0.0</td>\n",
              "      <td>6</td>\n",
              "      <td>11</td>\n",
              "    </tr>\n",
              "    <tr>\n",
              "      <th>379139</th>\n",
              "      <td>12637</td>\n",
              "      <td>13248</td>\n",
              "      <td>0.000000</td>\n",
              "      <td>0.000000</td>\n",
              "      <td>0.0</td>\n",
              "      <td>6</td>\n",
              "      <td>11</td>\n",
              "    </tr>\n",
              "  </tbody>\n",
              "</table>\n",
              "<p>379140 rows × 7 columns</p>\n",
              "</div>"
            ],
            "text/plain": [
              "        UserID  ItemID   rp3beta     EASER  IBCF  item_popularity  \\\n",
              "0            0     674  0.000000  0.000000   0.0              129   \n",
              "1            0     587  0.000000  0.000000   0.0              153   \n",
              "2            0       4  0.000000  0.000000   0.0             1666   \n",
              "3            0    1449  0.000000  0.000000   0.0               52   \n",
              "4            0    1585  0.000000  0.000000   0.0               35   \n",
              "...        ...     ...       ...       ...   ...              ...   \n",
              "379135   12637   10906  0.062133  0.010391   0.0                6   \n",
              "379136   12637     327  0.000000  0.000000   0.0              223   \n",
              "379137   12637   10898  0.000000  0.000000   0.0                7   \n",
              "379138   12637   17581  0.000000  0.005182   0.0                6   \n",
              "379139   12637   13248  0.000000  0.000000   0.0                6   \n",
              "\n",
              "        user_profile_len  \n",
              "0                      0  \n",
              "1                      0  \n",
              "2                      0  \n",
              "3                      0  \n",
              "4                      0  \n",
              "...                  ...  \n",
              "379135                11  \n",
              "379136                11  \n",
              "379137                11  \n",
              "379138                11  \n",
              "379139                11  \n",
              "\n",
              "[379140 rows x 7 columns]"
            ]
          },
          "execution_count": 107,
          "metadata": {},
          "output_type": "execute_result"
        }
      ],
      "source": [
        "user_popularity = np.ediff1d(sps.csr_matrix(urm_all).indptr)\n",
        "\n",
        "feature_dataframe['user_profile_len'] = user_popularity[feature_dataframe[\"UserID\"].values.astype(int)]\n",
        "feature_dataframe"
      ]
    },
    {
      "cell_type": "code",
      "execution_count": 108,
      "metadata": {
        "colab": {
          "base_uri": "https://localhost:8080/",
          "height": 423
        },
        "id": "vfeCa5YW9N-b",
        "outputId": "38cbb835-0555-41f6-d476-17f7478a53fc"
      },
      "outputs": [
        {
          "data": {
            "text/html": [
              "<div>\n",
              "<style scoped>\n",
              "    .dataframe tbody tr th:only-of-type {\n",
              "        vertical-align: middle;\n",
              "    }\n",
              "\n",
              "    .dataframe tbody tr th {\n",
              "        vertical-align: top;\n",
              "    }\n",
              "\n",
              "    .dataframe thead th {\n",
              "        text-align: right;\n",
              "    }\n",
              "</style>\n",
              "<table border=\"1\" class=\"dataframe\">\n",
              "  <thead>\n",
              "    <tr style=\"text-align: right;\">\n",
              "      <th></th>\n",
              "      <th>UserID</th>\n",
              "      <th>ItemID</th>\n",
              "      <th>rp3beta</th>\n",
              "      <th>EASER</th>\n",
              "      <th>IBCF</th>\n",
              "      <th>item_popularity</th>\n",
              "      <th>user_profile_len</th>\n",
              "    </tr>\n",
              "  </thead>\n",
              "  <tbody>\n",
              "    <tr>\n",
              "      <th>0</th>\n",
              "      <td>0</td>\n",
              "      <td>674</td>\n",
              "      <td>0.0</td>\n",
              "      <td>0.000000</td>\n",
              "      <td>0.0</td>\n",
              "      <td>129</td>\n",
              "      <td>0</td>\n",
              "    </tr>\n",
              "    <tr>\n",
              "      <th>1</th>\n",
              "      <td>0</td>\n",
              "      <td>2023</td>\n",
              "      <td>0.0</td>\n",
              "      <td>0.000000</td>\n",
              "      <td>0.0</td>\n",
              "      <td>42</td>\n",
              "      <td>0</td>\n",
              "    </tr>\n",
              "    <tr>\n",
              "      <th>2</th>\n",
              "      <td>0</td>\n",
              "      <td>4802</td>\n",
              "      <td>0.0</td>\n",
              "      <td>0.000000</td>\n",
              "      <td>0.0</td>\n",
              "      <td>25</td>\n",
              "      <td>0</td>\n",
              "    </tr>\n",
              "    <tr>\n",
              "      <th>3</th>\n",
              "      <td>0</td>\n",
              "      <td>285</td>\n",
              "      <td>0.0</td>\n",
              "      <td>0.000000</td>\n",
              "      <td>0.0</td>\n",
              "      <td>246</td>\n",
              "      <td>0</td>\n",
              "    </tr>\n",
              "    <tr>\n",
              "      <th>4</th>\n",
              "      <td>0</td>\n",
              "      <td>99</td>\n",
              "      <td>0.0</td>\n",
              "      <td>0.000000</td>\n",
              "      <td>0.0</td>\n",
              "      <td>477</td>\n",
              "      <td>0</td>\n",
              "    </tr>\n",
              "    <tr>\n",
              "      <th>...</th>\n",
              "      <td>...</td>\n",
              "      <td>...</td>\n",
              "      <td>...</td>\n",
              "      <td>...</td>\n",
              "      <td>...</td>\n",
              "      <td>...</td>\n",
              "      <td>...</td>\n",
              "    </tr>\n",
              "    <tr>\n",
              "      <th>379135</th>\n",
              "      <td>12637</td>\n",
              "      <td>10902</td>\n",
              "      <td>0.0</td>\n",
              "      <td>0.000000</td>\n",
              "      <td>0.0</td>\n",
              "      <td>8</td>\n",
              "      <td>11</td>\n",
              "    </tr>\n",
              "    <tr>\n",
              "      <th>379136</th>\n",
              "      <td>12637</td>\n",
              "      <td>16585</td>\n",
              "      <td>0.0</td>\n",
              "      <td>0.000000</td>\n",
              "      <td>0.0</td>\n",
              "      <td>3</td>\n",
              "      <td>11</td>\n",
              "    </tr>\n",
              "    <tr>\n",
              "      <th>379137</th>\n",
              "      <td>12637</td>\n",
              "      <td>17581</td>\n",
              "      <td>0.0</td>\n",
              "      <td>0.005182</td>\n",
              "      <td>0.0</td>\n",
              "      <td>6</td>\n",
              "      <td>11</td>\n",
              "    </tr>\n",
              "    <tr>\n",
              "      <th>379138</th>\n",
              "      <td>12637</td>\n",
              "      <td>17580</td>\n",
              "      <td>0.0</td>\n",
              "      <td>0.001686</td>\n",
              "      <td>0.0</td>\n",
              "      <td>1</td>\n",
              "      <td>11</td>\n",
              "    </tr>\n",
              "    <tr>\n",
              "      <th>379139</th>\n",
              "      <td>12637</td>\n",
              "      <td>13248</td>\n",
              "      <td>0.0</td>\n",
              "      <td>0.000000</td>\n",
              "      <td>0.0</td>\n",
              "      <td>6</td>\n",
              "      <td>11</td>\n",
              "    </tr>\n",
              "  </tbody>\n",
              "</table>\n",
              "<p>379140 rows × 7 columns</p>\n",
              "</div>"
            ],
            "text/plain": [
              "        UserID  ItemID  rp3beta     EASER  IBCF  item_popularity  \\\n",
              "0            0     674      0.0  0.000000   0.0              129   \n",
              "1            0    2023      0.0  0.000000   0.0               42   \n",
              "2            0    4802      0.0  0.000000   0.0               25   \n",
              "3            0     285      0.0  0.000000   0.0              246   \n",
              "4            0      99      0.0  0.000000   0.0              477   \n",
              "...        ...     ...      ...       ...   ...              ...   \n",
              "379135   12637   10902      0.0  0.000000   0.0                8   \n",
              "379136   12637   16585      0.0  0.000000   0.0                3   \n",
              "379137   12637   17581      0.0  0.005182   0.0                6   \n",
              "379138   12637   17580      0.0  0.001686   0.0                1   \n",
              "379139   12637   13248      0.0  0.000000   0.0                6   \n",
              "\n",
              "        user_profile_len  \n",
              "0                      0  \n",
              "1                      0  \n",
              "2                      0  \n",
              "3                      0  \n",
              "4                      0  \n",
              "...                  ...  \n",
              "379135                11  \n",
              "379136                11  \n",
              "379137                11  \n",
              "379138                11  \n",
              "379139                11  \n",
              "\n",
              "[379140 rows x 7 columns]"
            ]
          },
          "execution_count": 108,
          "metadata": {},
          "output_type": "execute_result"
        }
      ],
      "source": [
        "feature_dataframe = feature_dataframe.sort_values(\"UserID\").reset_index()\n",
        "feature_dataframe.drop(columns = ['index'], inplace=True)\n",
        "feature_dataframe"
      ]
    },
    {
      "cell_type": "markdown",
      "metadata": {
        "id": "3u4ITSWE9N-c"
      },
      "source": [
        "**To use the ranker one first needs to specify the size of the groups, a group is the dimension you rank on, in this case each group corresponds to a user. Since we have generated a fixed number of candidate items for each user all groups have the same length.**"
      ]
    },
    {
      "cell_type": "code",
      "execution_count": 109,
      "metadata": {
        "colab": {
          "base_uri": "https://localhost:8080/"
        },
        "id": "rI_WrPP49N-c",
        "outputId": "422fc967-9f77-46e2-be80-4a751be7d6ec"
      },
      "outputs": [
        {
          "data": {
            "text/plain": [
              "array([30, 30, 30, ..., 30, 30, 30], dtype=int64)"
            ]
          },
          "execution_count": 109,
          "metadata": {},
          "output_type": "execute_result"
        }
      ],
      "source": [
        "groups = feature_dataframe.groupby(\"UserID\").size().values\n",
        "groups"
      ]
    },
    {
      "cell_type": "code",
      "execution_count": 1,
      "metadata": {},
      "outputs": [
        {
          "ename": "NameError",
          "evalue": "name 'load_npz' is not defined",
          "output_type": "error",
          "traceback": [
            "\u001b[1;31m---------------------------------------------------------------------------\u001b[0m",
            "\u001b[1;31mNameError\u001b[0m                                 Traceback (most recent call last)",
            "Cell \u001b[1;32mIn[1], line 16\u001b[0m\n\u001b[0;32m      7\u001b[0m beta \u001b[38;5;241m=\u001b[39m \u001b[38;5;241m0.685907\u001b[39m\n\u001b[0;32m      9\u001b[0m xgboost_model_hyperparams \u001b[38;5;241m=\u001b[39m {\u001b[38;5;124m'\u001b[39m\u001b[38;5;124mn_estimators\u001b[39m\u001b[38;5;124m'\u001b[39m:\u001b[38;5;241m50\u001b[39m,\n\u001b[0;32m     10\u001b[0m                              \u001b[38;5;124m'\u001b[39m\u001b[38;5;124mlearning_rate\u001b[39m\u001b[38;5;124m'\u001b[39m:\u001b[38;5;241m1e-1\u001b[39m,\u001b[38;5;124m'\u001b[39m\u001b[38;5;124mreg_alpha\u001b[39m\u001b[38;5;124m'\u001b[39m:\u001b[38;5;241m0.1\u001b[39m,\u001b[38;5;124m'\u001b[39m\u001b[38;5;124mreg_lambda\u001b[39m\u001b[38;5;124m'\u001b[39m:\u001b[38;5;241m0.3\u001b[39m,\u001b[38;5;124m'\u001b[39m\u001b[38;5;124mmax_depth\u001b[39m\u001b[38;5;124m'\u001b[39m:\u001b[38;5;241m5\u001b[39m,\u001b[38;5;124m'\u001b[39m\u001b[38;5;124mmax_leaves\u001b[39m\u001b[38;5;124m'\u001b[39m:\u001b[38;5;241m0\u001b[39m,\n\u001b[0;32m     11\u001b[0m                              \u001b[38;5;124m'\u001b[39m\u001b[38;5;124mgrow_policy\u001b[39m\u001b[38;5;124m'\u001b[39m:\u001b[38;5;124m\"\u001b[39m\u001b[38;5;124mdepthwise\u001b[39m\u001b[38;5;124m\"\u001b[39m,\u001b[38;5;124m'\u001b[39m\u001b[38;5;124mobjective\u001b[39m\u001b[38;5;124m'\u001b[39m:\u001b[38;5;124m\"\u001b[39m\u001b[38;5;124mpairwise\u001b[39m\u001b[38;5;124m\"\u001b[39m,\u001b[38;5;124m'\u001b[39m\u001b[38;5;124mbooster\u001b[39m\u001b[38;5;124m'\u001b[39m:\u001b[38;5;124m\"\u001b[39m\u001b[38;5;124mgbtree\u001b[39m\u001b[38;5;124m\"\u001b[39m,\n\u001b[0;32m     12\u001b[0m                              \u001b[38;5;124m'\u001b[39m\u001b[38;5;124muse_user_profile\u001b[39m\u001b[38;5;124m'\u001b[39m:\u001b[38;5;28;01mFalse\u001b[39;00m,\u001b[38;5;124m'\u001b[39m\u001b[38;5;124mrandom_seed\u001b[39m\u001b[38;5;124m'\u001b[39m:\u001b[38;5;28;01mNone\u001b[39;00m\n\u001b[0;32m     13\u001b[0m                              }\n\u001b[1;32m---> 16\u001b[0m initial_S_slim_elastic \u001b[38;5;241m=\u001b[39m load_npz(\u001b[38;5;124m'\u001b[39m\u001b[38;5;124m./5-fold CV/SLIMelasticnet/ItItSimilarity_trained_fold3_noemptyprofiles_SLIMelasticnet_kaggleMAP0.13484.npz\u001b[39m\u001b[38;5;124m'\u001b[39m)\n\u001b[0;32m     17\u001b[0m initial_S_ibcf \u001b[38;5;241m=\u001b[39m load_npz(\u001b[38;5;124m'\u001b[39m\u001b[38;5;124m./5-fold CV/IBCF/ItItSimilarity_trained_fold3_noemptyprofiles_IBCF_kaggleMAP0.11585.npz\u001b[39m\u001b[38;5;124m'\u001b[39m)\n\u001b[0;32m     18\u001b[0m initial_S_easer \u001b[38;5;241m=\u001b[39m load_npz(\u001b[38;5;124m'\u001b[39m\u001b[38;5;124m./5-fold CV/EASER/ItItSimilarity_trained_fold3_noemptyprofiles_EASER_kaggleMAP0.12504.npz\u001b[39m\u001b[38;5;124m'\u001b[39m)\n",
            "\u001b[1;31mNameError\u001b[0m: name 'load_npz' is not defined"
          ]
        }
      ],
      "source": [
        "# Define the recommender models trained on RecommenderFold of the current fold to prepare for XGboost training\n",
        "# NON-Normalised SIMILARITIES\n",
        "\n",
        "init_rec_cutoff = 600\n",
        "\n",
        "alpha = 0.88\n",
        "beta = 0.685907\n",
        "\n",
        "xgboost_model_hyperparams = {'n_estimators':50,\n",
        "                             'learning_rate':1e-1,'reg_alpha':0.1,'reg_lambda':0.3,'max_depth':5,'max_leaves':0,\n",
        "                             'grow_policy':\"depthwise\",'objective':\"pairwise\",'booster':\"gbtree\",\n",
        "                             'use_user_profile':False,'random_seed':None\n",
        "                             }\n",
        "\n",
        "\n",
        "initial_S_slim_elastic = load_npz('./5-fold CV/SLIMelasticnet/ItItSimilarity_trained_fold3_noemptyprofiles_SLIMelasticnet_kaggleMAP0.13484.npz')\n",
        "initial_S_ibcf = load_npz('./5-fold CV/IBCF/ItItSimilarity_trained_fold3_noemptyprofiles_IBCF_kaggleMAP0.11585.npz')\n",
        "initial_S_easer = load_npz('./5-fold CV/EASER/ItItSimilarity_trained_fold3_noemptyprofiles_EASER_kaggleMAP0.12504.npz')\n",
        "initial_hybrid3models_similarity = beta * ((1 - alpha) * initial_S_ibcf  + alpha * initial_S_slim_elastic) + (1 - beta) * initial_S_easer\n",
        "\n",
        "initial_hybrid3models_object = ItemKNNCustomSimilarityRecommender(data_folds[3]['train'])\n",
        "initial_hybrid3models_object.fit(initial_hybrid3models_similarity)\n",
        "initial_hybrid3models = Predictor(URM=data_folds[3]['train'], model = initial_hybrid3models_object)\n",
        "\n",
        "\n",
        "# Models for features generation\n",
        "initial_S_rp3beta = load_npz('./5-fold CV/RP3Beta/ItItSimilarity_trained_fold3_noemptyprofiles_RP3Beta_kaggleMAP0.09372.npz')\n",
        "initial_rp3beta_object = ItemKNNCustomSimilarityRecommender(data_folds[3]['train'])\n",
        "initial_rp3beta_object.fit(initial_S_rp3beta)\n",
        "\n",
        "initial_S_easer = load_npz('./5-fold CV/EASER/ItItSimilarity_trained_fold3_noemptyprofiles_EASER_kaggleMAP0.12504.npz')\n",
        "initial_easer_object = ItemKNNCustomSimilarityRecommender(data_folds[3]['train'])\n",
        "initial_easer_object.fit(initial_S_easer)\n",
        "\n",
        "initial_S_ibcf = load_npz('./5-fold CV/IBCF/ItItSimilarity_trained_fold3_noemptyprofiles_IBCF_kaggleMAP0.11585.npz')\n",
        "initial_ibcf_object = ItemKNNCustomSimilarityRecommender(data_folds[3]['train'])\n",
        "initial_ibcf_object.fit(initial_S_ibcf)\n",
        "\n",
        "init_other_algorithms = {\n",
        "    \"rp3beta\": initial_rp3beta_object,\n",
        "    \"EASER\": initial_easer_object,\n",
        "    \"IBCF\":initial_ibcf_object}\n",
        "\n",
        "# Get XGboost trained\n",
        "xgboost_trained = train_xgboost(data_folds[3]['train'],data_folds[3]['val'],\n",
        "                                  initial_hybrid3models,initial_recommendations_cutoff = init_rec_cutoff, other_algorithms = init_other_algorithms,\n",
        "                                  xgboost_hyperparams = xgboost_model_hyperparams)\n",
        "\n",
        "\n",
        "# Define the recommender models trained on the whole current fold to prepare for the evaluation\n",
        "S_slim_elastic = load_npz('./5-fold CV/Whole_data_trained_models/ItItSimilarity_trained_whole_data_noemptyprofiles_SLIMelasticnet_kaggleMAP0.13484.npz')\n",
        "S_ibcf = load_npz('./5-fold CV/Whole_data_trained_models/ItItSimilarity_trained_whole_data_noemptyprofiles_IBCF_kaggleMAP0.11585.npz')\n",
        "S_easer = load_npz('./5-fold CV/Whole_data_trained_models/ItItSimilarity_trained_whole_data_noemptyprofiles_EASER_kaggleMAP0.12504.npz')\n",
        "hybrid_similarity = beta * ((1 - alpha) * S_ibcf  + alpha * S_slim_elastic) + (1 - beta) * S_easer\n",
        "\n",
        "hybrid_recommender_object = ItemKNNCustomSimilarityRecommender(urm_all)\n",
        "hybrid_recommender_object.fit(hybrid_similarity)\n",
        "hybrid_3models = Predictor(URM=urm_all, model = hybrid_recommender_object)\n",
        "\n",
        "# Models for features generation\n",
        "S_rp3beta = load_npz('./5-fold CV/Whole_data_trained_models/ItItSimilarity_trained_whole_data_noemptyprofiles_RP3Beta_kaggleMAP0.09372.npz')\n",
        "rp3beta_object = ItemKNNCustomSimilarityRecommender(urm_all)\n",
        "rp3beta_object.fit(S_rp3beta)\n",
        "\n",
        "S_easer = load_npz('./5-fold CV/Whole_data_trained_models/ItItSimilarity_trained_whole_data_noemptyprofiles_EASER_kaggleMAP0.12504.npz')\n",
        "easer_object = ItemKNNCustomSimilarityRecommender(urm_all)\n",
        "easer_object.fit(S_easer)\n",
        "\n",
        "S_ibcf = load_npz('./5-fold CV/Whole_data_trained_models/ItItSimilarity_trained_whole_data_noemptyprofiles_IBCF_kaggleMAP0.11585.npz')\n",
        "ibcf_object = ItemKNNCustomSimilarityRecommender(urm_all)\n",
        "ibcf_object.fit(S_ibcf)\n",
        "\n",
        "other_algorithms = {\n",
        "    \"rp3beta\": rp3beta_object,\n",
        "    \"EASER\": easer_object,\n",
        "    \"IBCF\":ibcf_object}\n",
        "\n",
        "features_df = prepare_training_df(urm_all,urm_all,hybrid_3models,init_rec_cutoff,other_algorithms)\n",
        "features_df = features_df.drop(columns=[\"Label\"])"
      ]
    },
    {
      "cell_type": "code",
      "execution_count": 110,
      "metadata": {
        "id": "NoopFoyfNHJq"
      },
      "outputs": [
        {
          "ename": "KeyboardInterrupt",
          "evalue": "",
          "output_type": "error",
          "traceback": [
            "\u001b[1;31m---------------------------------------------------------------------------\u001b[0m",
            "\u001b[1;31mKeyboardInterrupt\u001b[0m                         Traceback (most recent call last)",
            "Cell \u001b[1;32mIn[110], line 11\u001b[0m\n\u001b[0;32m      9\u001b[0m X_to_predict \u001b[38;5;241m=\u001b[39m feature_dataframe[feature_dataframe[\u001b[38;5;124m\"\u001b[39m\u001b[38;5;124mUserID\u001b[39m\u001b[38;5;124m\"\u001b[39m] \u001b[38;5;241m==\u001b[39m usr_idx]\n\u001b[0;32m     10\u001b[0m \u001b[38;5;66;03m# Do the reranking prediction\u001b[39;00m\n\u001b[1;32m---> 11\u001b[0m item_reranking_scores \u001b[38;5;241m=\u001b[39m XGB_model\u001b[38;5;241m.\u001b[39mpredict(X_to_predict)\n\u001b[0;32m     12\u001b[0m \u001b[38;5;28;01mif\u001b[39;00m \u001b[38;5;28mlen\u001b[39m(item_reranking_scores) \u001b[38;5;241m==\u001b[39m \u001b[38;5;241m0\u001b[39m:\n\u001b[0;32m     13\u001b[0m   \u001b[38;5;28mprint\u001b[39m(\u001b[38;5;124mf\u001b[39m\u001b[38;5;124m'\u001b[39m\u001b[38;5;124mLenght of reranking for user \u001b[39m\u001b[38;5;132;01m{\u001b[39;00musr_idx\u001b[38;5;132;01m}\u001b[39;00m\u001b[38;5;124m is 0\u001b[39m\u001b[38;5;124m'\u001b[39m)\n",
            "File \u001b[1;32md:\\Anaconda\\Lib\\site-packages\\xgboost\\sklearn.py:2060\u001b[0m, in \u001b[0;36mXGBRanker.predict\u001b[1;34m(self, X, output_margin, validate_features, base_margin, iteration_range)\u001b[0m\n\u001b[0;32m   2051\u001b[0m \u001b[38;5;28;01mdef\u001b[39;00m \u001b[38;5;21mpredict\u001b[39m(\n\u001b[0;32m   2052\u001b[0m     \u001b[38;5;28mself\u001b[39m,\n\u001b[0;32m   2053\u001b[0m     X: ArrayLike,\n\u001b[1;32m   (...)\u001b[0m\n\u001b[0;32m   2057\u001b[0m     iteration_range: Optional[Tuple[\u001b[38;5;28mint\u001b[39m, \u001b[38;5;28mint\u001b[39m]] \u001b[38;5;241m=\u001b[39m \u001b[38;5;28;01mNone\u001b[39;00m,\n\u001b[0;32m   2058\u001b[0m ) \u001b[38;5;241m-\u001b[39m\u001b[38;5;241m>\u001b[39m ArrayLike:\n\u001b[0;32m   2059\u001b[0m     X, _ \u001b[38;5;241m=\u001b[39m _get_qid(X, \u001b[38;5;28;01mNone\u001b[39;00m)\n\u001b[1;32m-> 2060\u001b[0m     \u001b[38;5;28;01mreturn\u001b[39;00m \u001b[38;5;28msuper\u001b[39m()\u001b[38;5;241m.\u001b[39mpredict(\n\u001b[0;32m   2061\u001b[0m         X,\n\u001b[0;32m   2062\u001b[0m         output_margin,\n\u001b[0;32m   2063\u001b[0m         validate_features,\n\u001b[0;32m   2064\u001b[0m         base_margin,\n\u001b[0;32m   2065\u001b[0m         iteration_range\u001b[38;5;241m=\u001b[39miteration_range,\n\u001b[0;32m   2066\u001b[0m     )\n",
            "File \u001b[1;32md:\\Anaconda\\Lib\\site-packages\\xgboost\\sklearn.py:1164\u001b[0m, in \u001b[0;36mXGBModel.predict\u001b[1;34m(self, X, output_margin, validate_features, base_margin, iteration_range)\u001b[0m\n\u001b[0;32m   1125\u001b[0m \u001b[38;5;28;01mdef\u001b[39;00m \u001b[38;5;21mpredict\u001b[39m(\n\u001b[0;32m   1126\u001b[0m     \u001b[38;5;28mself\u001b[39m,\n\u001b[0;32m   1127\u001b[0m     X: ArrayLike,\n\u001b[1;32m   (...)\u001b[0m\n\u001b[0;32m   1131\u001b[0m     iteration_range: Optional[Tuple[\u001b[38;5;28mint\u001b[39m, \u001b[38;5;28mint\u001b[39m]] \u001b[38;5;241m=\u001b[39m \u001b[38;5;28;01mNone\u001b[39;00m,\n\u001b[0;32m   1132\u001b[0m ) \u001b[38;5;241m-\u001b[39m\u001b[38;5;241m>\u001b[39m ArrayLike:\n\u001b[0;32m   1133\u001b[0m \u001b[38;5;250m    \u001b[39m\u001b[38;5;124;03m\"\"\"Predict with `X`.  If the model is trained with early stopping, then\u001b[39;00m\n\u001b[0;32m   1134\u001b[0m \u001b[38;5;124;03m    :py:attr:`best_iteration` is used automatically. The estimator uses\u001b[39;00m\n\u001b[0;32m   1135\u001b[0m \u001b[38;5;124;03m    `inplace_predict` by default and falls back to using :py:class:`DMatrix` if\u001b[39;00m\n\u001b[1;32m   (...)\u001b[0m\n\u001b[0;32m   1162\u001b[0m \n\u001b[0;32m   1163\u001b[0m \u001b[38;5;124;03m    \"\"\"\u001b[39;00m\n\u001b[1;32m-> 1164\u001b[0m     \u001b[38;5;28;01mwith\u001b[39;00m config_context(verbosity\u001b[38;5;241m=\u001b[39m\u001b[38;5;28mself\u001b[39m\u001b[38;5;241m.\u001b[39mverbosity):\n\u001b[0;32m   1165\u001b[0m         iteration_range \u001b[38;5;241m=\u001b[39m \u001b[38;5;28mself\u001b[39m\u001b[38;5;241m.\u001b[39m_get_iteration_range(iteration_range)\n\u001b[0;32m   1166\u001b[0m         \u001b[38;5;28;01mif\u001b[39;00m \u001b[38;5;28mself\u001b[39m\u001b[38;5;241m.\u001b[39m_can_use_inplace_predict():\n",
            "File \u001b[1;32md:\\Anaconda\\Lib\\contextlib.py:144\u001b[0m, in \u001b[0;36m_GeneratorContextManager.__exit__\u001b[1;34m(self, typ, value, traceback)\u001b[0m\n\u001b[0;32m    142\u001b[0m \u001b[38;5;28;01mif\u001b[39;00m typ \u001b[38;5;129;01mis\u001b[39;00m \u001b[38;5;28;01mNone\u001b[39;00m:\n\u001b[0;32m    143\u001b[0m     \u001b[38;5;28;01mtry\u001b[39;00m:\n\u001b[1;32m--> 144\u001b[0m         \u001b[38;5;28mnext\u001b[39m(\u001b[38;5;28mself\u001b[39m\u001b[38;5;241m.\u001b[39mgen)\n\u001b[0;32m    145\u001b[0m     \u001b[38;5;28;01mexcept\u001b[39;00m \u001b[38;5;167;01mStopIteration\u001b[39;00m:\n\u001b[0;32m    146\u001b[0m         \u001b[38;5;28;01mreturn\u001b[39;00m \u001b[38;5;28;01mFalse\u001b[39;00m\n",
            "File \u001b[1;32md:\\Anaconda\\Lib\\site-packages\\xgboost\\config.py:186\u001b[0m, in \u001b[0;36mconfig_context\u001b[1;34m(**new_config)\u001b[0m\n\u001b[0;32m    184\u001b[0m     \u001b[38;5;28;01myield\u001b[39;00m\n\u001b[0;32m    185\u001b[0m \u001b[38;5;28;01mfinally\u001b[39;00m:\n\u001b[1;32m--> 186\u001b[0m     set_config(\u001b[38;5;241m*\u001b[39m\u001b[38;5;241m*\u001b[39mold_config)\n",
            "File \u001b[1;32md:\\Anaconda\\Lib\\site-packages\\xgboost\\config.py:108\u001b[0m, in \u001b[0;36mconfig_doc.<locals>.config_doc_decorator.<locals>.wrap\u001b[1;34m(*args, **kwargs)\u001b[0m\n\u001b[0;32m    106\u001b[0m \u001b[38;5;129m@wraps\u001b[39m(func)\n\u001b[0;32m    107\u001b[0m \u001b[38;5;28;01mdef\u001b[39;00m \u001b[38;5;21mwrap\u001b[39m(\u001b[38;5;241m*\u001b[39margs: Any, \u001b[38;5;241m*\u001b[39m\u001b[38;5;241m*\u001b[39mkwargs: Any) \u001b[38;5;241m-\u001b[39m\u001b[38;5;241m>\u001b[39m Any:\n\u001b[1;32m--> 108\u001b[0m     \u001b[38;5;28;01mreturn\u001b[39;00m func(\u001b[38;5;241m*\u001b[39margs, \u001b[38;5;241m*\u001b[39m\u001b[38;5;241m*\u001b[39mkwargs)\n",
            "File \u001b[1;32md:\\Anaconda\\Lib\\site-packages\\xgboost\\config.py:132\u001b[0m, in \u001b[0;36mset_config\u001b[1;34m(**new_config)\u001b[0m\n\u001b[0;32m    130\u001b[0m         not_none[k] \u001b[38;5;241m=\u001b[39m v\n\u001b[0;32m    131\u001b[0m config \u001b[38;5;241m=\u001b[39m json\u001b[38;5;241m.\u001b[39mdumps(not_none)\n\u001b[1;32m--> 132\u001b[0m _check_call(_LIB\u001b[38;5;241m.\u001b[39mXGBSetGlobalConfig(c_str(config)))\n",
            "\u001b[1;31mKeyboardInterrupt\u001b[0m: "
          ]
        }
      ],
      "source": [
        "pred_df = pd.DataFrame(columns = ['user_id','item_list'])\n",
        "\n",
        "for userid in urm_pred_df['UserID']:\n",
        "  if userid in userID_unique:\n",
        "    # Map user ID to the index of model user space\n",
        "    usr_idx = userid\n",
        "\n",
        "    # Extract the predictions and features for the user\n",
        "    X_to_predict = feature_dataframe[feature_dataframe[\"UserID\"] == usr_idx]\n",
        "    # Do the reranking prediction\n",
        "    item_reranking_scores = xgboost_trained.predict(X_to_predict)\n",
        "    if len(item_reranking_scores) == 0:\n",
        "      print(f'Lenght of reranking for user {usr_idx} is 0')\n",
        "    # Rerank the items according to the reranking scores\n",
        "    initial_recommendations = X_to_predict.ItemID.to_list()\n",
        "    reranked_recommendations = np.array(initial_recommendations)[np.argsort(item_reranking_scores)[::-1]]\n",
        "\n",
        "    # Map item indices from model item space to original item ID\n",
        "    recomendatoins = [idx for idx in reranked_recommendations][:10] # Extract only first top-10 recommendations\n",
        "  else:\n",
        "    # If the user isn't present in the given data, recommend TopPop items\n",
        "    recomendatoins = [2, 4, 1, 7, 3, 6, 8, 9, 15, 20]\n",
        "\n",
        "  recomendatoins = \" \".join(str(item) for item in recomendatoins)\n",
        "  pred_df.loc[len(pred_df)] = [userid,recomendatoins]"
      ]
    },
    {
      "cell_type": "code",
      "execution_count": null,
      "metadata": {
        "colab": {
          "base_uri": "https://localhost:8080/",
          "height": 423
        },
        "id": "0MgQ3O88u_CY",
        "outputId": "c7b2c3f0-057a-4df4-a499-91d195f84ea6"
      },
      "outputs": [
        {
          "data": {
            "text/html": [
              "\n",
              "  <div id=\"df-7be36e06-336a-4bdf-b4f4-43b3b1ac3d88\" class=\"colab-df-container\">\n",
              "    <div>\n",
              "<style scoped>\n",
              "    .dataframe tbody tr th:only-of-type {\n",
              "        vertical-align: middle;\n",
              "    }\n",
              "\n",
              "    .dataframe tbody tr th {\n",
              "        vertical-align: top;\n",
              "    }\n",
              "\n",
              "    .dataframe thead th {\n",
              "        text-align: right;\n",
              "    }\n",
              "</style>\n",
              "<table border=\"1\" class=\"dataframe\">\n",
              "  <thead>\n",
              "    <tr style=\"text-align: right;\">\n",
              "      <th></th>\n",
              "      <th>user_id</th>\n",
              "      <th>item_list</th>\n",
              "    </tr>\n",
              "  </thead>\n",
              "  <tbody>\n",
              "    <tr>\n",
              "      <th>0</th>\n",
              "      <td>1</td>\n",
              "      <td>36 101 161 123 1935 403 515 699 506 52</td>\n",
              "    </tr>\n",
              "    <tr>\n",
              "      <th>1</th>\n",
              "      <td>2</td>\n",
              "      <td>1095 1522 12 47 656 949 50 3176 28 196</td>\n",
              "    </tr>\n",
              "    <tr>\n",
              "      <th>2</th>\n",
              "      <td>3</td>\n",
              "      <td>59 536 4252 648 857 956 584 259 4 2172</td>\n",
              "    </tr>\n",
              "    <tr>\n",
              "      <th>3</th>\n",
              "      <td>4</td>\n",
              "      <td>28 11 27 249 50 1 1719 5 136 171</td>\n",
              "    </tr>\n",
              "    <tr>\n",
              "      <th>4</th>\n",
              "      <td>5</td>\n",
              "      <td>1570 170 1511 77 131 8 5138 7033 9582 9039</td>\n",
              "    </tr>\n",
              "    <tr>\n",
              "      <th>...</th>\n",
              "      <td>...</td>\n",
              "      <td>...</td>\n",
              "    </tr>\n",
              "    <tr>\n",
              "      <th>10877</th>\n",
              "      <td>13020</td>\n",
              "      <td>105 6450 6198 6452 627 7395 6749 7394 1191 155</td>\n",
              "    </tr>\n",
              "    <tr>\n",
              "      <th>10878</th>\n",
              "      <td>13021</td>\n",
              "      <td>16115 133 269 304 6427 6722 6724 859 17945 3071</td>\n",
              "    </tr>\n",
              "    <tr>\n",
              "      <th>10879</th>\n",
              "      <td>13022</td>\n",
              "      <td>809 1668 1411 1446 1767 1674 1013 4688 16075 1...</td>\n",
              "    </tr>\n",
              "    <tr>\n",
              "      <th>10880</th>\n",
              "      <td>13023</td>\n",
              "      <td>329 299 252 119 249 1107 1124 1290 706 32</td>\n",
              "    </tr>\n",
              "    <tr>\n",
              "      <th>10881</th>\n",
              "      <td>13024</td>\n",
              "      <td>5932 7824 7472 2366 11712 7473 13605 733 325 4076</td>\n",
              "    </tr>\n",
              "  </tbody>\n",
              "</table>\n",
              "<p>10882 rows × 2 columns</p>\n",
              "</div>\n",
              "    <div class=\"colab-df-buttons\">\n",
              "\n",
              "  <div class=\"colab-df-container\">\n",
              "    <button class=\"colab-df-convert\" onclick=\"convertToInteractive('df-7be36e06-336a-4bdf-b4f4-43b3b1ac3d88')\"\n",
              "            title=\"Convert this dataframe to an interactive table.\"\n",
              "            style=\"display:none;\">\n",
              "\n",
              "  <svg xmlns=\"http://www.w3.org/2000/svg\" height=\"24px\" viewBox=\"0 -960 960 960\">\n",
              "    <path d=\"M120-120v-720h720v720H120Zm60-500h600v-160H180v160Zm220 220h160v-160H400v160Zm0 220h160v-160H400v160ZM180-400h160v-160H180v160Zm440 0h160v-160H620v160ZM180-180h160v-160H180v160Zm440 0h160v-160H620v160Z\"/>\n",
              "  </svg>\n",
              "    </button>\n",
              "\n",
              "  <style>\n",
              "    .colab-df-container {\n",
              "      display:flex;\n",
              "      gap: 12px;\n",
              "    }\n",
              "\n",
              "    .colab-df-convert {\n",
              "      background-color: #E8F0FE;\n",
              "      border: none;\n",
              "      border-radius: 50%;\n",
              "      cursor: pointer;\n",
              "      display: none;\n",
              "      fill: #1967D2;\n",
              "      height: 32px;\n",
              "      padding: 0 0 0 0;\n",
              "      width: 32px;\n",
              "    }\n",
              "\n",
              "    .colab-df-convert:hover {\n",
              "      background-color: #E2EBFA;\n",
              "      box-shadow: 0px 1px 2px rgba(60, 64, 67, 0.3), 0px 1px 3px 1px rgba(60, 64, 67, 0.15);\n",
              "      fill: #174EA6;\n",
              "    }\n",
              "\n",
              "    .colab-df-buttons div {\n",
              "      margin-bottom: 4px;\n",
              "    }\n",
              "\n",
              "    [theme=dark] .colab-df-convert {\n",
              "      background-color: #3B4455;\n",
              "      fill: #D2E3FC;\n",
              "    }\n",
              "\n",
              "    [theme=dark] .colab-df-convert:hover {\n",
              "      background-color: #434B5C;\n",
              "      box-shadow: 0px 1px 3px 1px rgba(0, 0, 0, 0.15);\n",
              "      filter: drop-shadow(0px 1px 2px rgba(0, 0, 0, 0.3));\n",
              "      fill: #FFFFFF;\n",
              "    }\n",
              "  </style>\n",
              "\n",
              "    <script>\n",
              "      const buttonEl =\n",
              "        document.querySelector('#df-7be36e06-336a-4bdf-b4f4-43b3b1ac3d88 button.colab-df-convert');\n",
              "      buttonEl.style.display =\n",
              "        google.colab.kernel.accessAllowed ? 'block' : 'none';\n",
              "\n",
              "      async function convertToInteractive(key) {\n",
              "        const element = document.querySelector('#df-7be36e06-336a-4bdf-b4f4-43b3b1ac3d88');\n",
              "        const dataTable =\n",
              "          await google.colab.kernel.invokeFunction('convertToInteractive',\n",
              "                                                    [key], {});\n",
              "        if (!dataTable) return;\n",
              "\n",
              "        const docLinkHtml = 'Like what you see? Visit the ' +\n",
              "          '<a target=\"_blank\" href=https://colab.research.google.com/notebooks/data_table.ipynb>data table notebook</a>'\n",
              "          + ' to learn more about interactive tables.';\n",
              "        element.innerHTML = '';\n",
              "        dataTable['output_type'] = 'display_data';\n",
              "        await google.colab.output.renderOutput(dataTable, element);\n",
              "        const docLink = document.createElement('div');\n",
              "        docLink.innerHTML = docLinkHtml;\n",
              "        element.appendChild(docLink);\n",
              "      }\n",
              "    </script>\n",
              "  </div>\n",
              "\n",
              "\n",
              "<div id=\"df-484367d0-5c6e-44c8-b19a-30e9dd1545d2\">\n",
              "  <button class=\"colab-df-quickchart\" onclick=\"quickchart('df-484367d0-5c6e-44c8-b19a-30e9dd1545d2')\"\n",
              "            title=\"Suggest charts\"\n",
              "            style=\"display:none;\">\n",
              "\n",
              "<svg xmlns=\"http://www.w3.org/2000/svg\" height=\"24px\"viewBox=\"0 0 24 24\"\n",
              "     width=\"24px\">\n",
              "    <g>\n",
              "        <path d=\"M19 3H5c-1.1 0-2 .9-2 2v14c0 1.1.9 2 2 2h14c1.1 0 2-.9 2-2V5c0-1.1-.9-2-2-2zM9 17H7v-7h2v7zm4 0h-2V7h2v10zm4 0h-2v-4h2v4z\"/>\n",
              "    </g>\n",
              "</svg>\n",
              "  </button>\n",
              "\n",
              "<style>\n",
              "  .colab-df-quickchart {\n",
              "      --bg-color: #E8F0FE;\n",
              "      --fill-color: #1967D2;\n",
              "      --hover-bg-color: #E2EBFA;\n",
              "      --hover-fill-color: #174EA6;\n",
              "      --disabled-fill-color: #AAA;\n",
              "      --disabled-bg-color: #DDD;\n",
              "  }\n",
              "\n",
              "  [theme=dark] .colab-df-quickchart {\n",
              "      --bg-color: #3B4455;\n",
              "      --fill-color: #D2E3FC;\n",
              "      --hover-bg-color: #434B5C;\n",
              "      --hover-fill-color: #FFFFFF;\n",
              "      --disabled-bg-color: #3B4455;\n",
              "      --disabled-fill-color: #666;\n",
              "  }\n",
              "\n",
              "  .colab-df-quickchart {\n",
              "    background-color: var(--bg-color);\n",
              "    border: none;\n",
              "    border-radius: 50%;\n",
              "    cursor: pointer;\n",
              "    display: none;\n",
              "    fill: var(--fill-color);\n",
              "    height: 32px;\n",
              "    padding: 0;\n",
              "    width: 32px;\n",
              "  }\n",
              "\n",
              "  .colab-df-quickchart:hover {\n",
              "    background-color: var(--hover-bg-color);\n",
              "    box-shadow: 0 1px 2px rgba(60, 64, 67, 0.3), 0 1px 3px 1px rgba(60, 64, 67, 0.15);\n",
              "    fill: var(--button-hover-fill-color);\n",
              "  }\n",
              "\n",
              "  .colab-df-quickchart-complete:disabled,\n",
              "  .colab-df-quickchart-complete:disabled:hover {\n",
              "    background-color: var(--disabled-bg-color);\n",
              "    fill: var(--disabled-fill-color);\n",
              "    box-shadow: none;\n",
              "  }\n",
              "\n",
              "  .colab-df-spinner {\n",
              "    border: 2px solid var(--fill-color);\n",
              "    border-color: transparent;\n",
              "    border-bottom-color: var(--fill-color);\n",
              "    animation:\n",
              "      spin 1s steps(1) infinite;\n",
              "  }\n",
              "\n",
              "  @keyframes spin {\n",
              "    0% {\n",
              "      border-color: transparent;\n",
              "      border-bottom-color: var(--fill-color);\n",
              "      border-left-color: var(--fill-color);\n",
              "    }\n",
              "    20% {\n",
              "      border-color: transparent;\n",
              "      border-left-color: var(--fill-color);\n",
              "      border-top-color: var(--fill-color);\n",
              "    }\n",
              "    30% {\n",
              "      border-color: transparent;\n",
              "      border-left-color: var(--fill-color);\n",
              "      border-top-color: var(--fill-color);\n",
              "      border-right-color: var(--fill-color);\n",
              "    }\n",
              "    40% {\n",
              "      border-color: transparent;\n",
              "      border-right-color: var(--fill-color);\n",
              "      border-top-color: var(--fill-color);\n",
              "    }\n",
              "    60% {\n",
              "      border-color: transparent;\n",
              "      border-right-color: var(--fill-color);\n",
              "    }\n",
              "    80% {\n",
              "      border-color: transparent;\n",
              "      border-right-color: var(--fill-color);\n",
              "      border-bottom-color: var(--fill-color);\n",
              "    }\n",
              "    90% {\n",
              "      border-color: transparent;\n",
              "      border-bottom-color: var(--fill-color);\n",
              "    }\n",
              "  }\n",
              "</style>\n",
              "\n",
              "  <script>\n",
              "    async function quickchart(key) {\n",
              "      const quickchartButtonEl =\n",
              "        document.querySelector('#' + key + ' button');\n",
              "      quickchartButtonEl.disabled = true;  // To prevent multiple clicks.\n",
              "      quickchartButtonEl.classList.add('colab-df-spinner');\n",
              "      try {\n",
              "        const charts = await google.colab.kernel.invokeFunction(\n",
              "            'suggestCharts', [key], {});\n",
              "      } catch (error) {\n",
              "        console.error('Error during call to suggestCharts:', error);\n",
              "      }\n",
              "      quickchartButtonEl.classList.remove('colab-df-spinner');\n",
              "      quickchartButtonEl.classList.add('colab-df-quickchart-complete');\n",
              "    }\n",
              "    (() => {\n",
              "      let quickchartButtonEl =\n",
              "        document.querySelector('#df-484367d0-5c6e-44c8-b19a-30e9dd1545d2 button');\n",
              "      quickchartButtonEl.style.display =\n",
              "        google.colab.kernel.accessAllowed ? 'block' : 'none';\n",
              "    })();\n",
              "  </script>\n",
              "</div>\n",
              "    </div>\n",
              "  </div>\n"
            ],
            "text/plain": [
              "       user_id                                          item_list\n",
              "0            1             36 101 161 123 1935 403 515 699 506 52\n",
              "1            2             1095 1522 12 47 656 949 50 3176 28 196\n",
              "2            3             59 536 4252 648 857 956 584 259 4 2172\n",
              "3            4                   28 11 27 249 50 1 1719 5 136 171\n",
              "4            5         1570 170 1511 77 131 8 5138 7033 9582 9039\n",
              "...        ...                                                ...\n",
              "10877    13020     105 6450 6198 6452 627 7395 6749 7394 1191 155\n",
              "10878    13021    16115 133 269 304 6427 6722 6724 859 17945 3071\n",
              "10879    13022  809 1668 1411 1446 1767 1674 1013 4688 16075 1...\n",
              "10880    13023          329 299 252 119 249 1107 1124 1290 706 32\n",
              "10881    13024  5932 7824 7472 2366 11712 7473 13605 733 325 4076\n",
              "\n",
              "[10882 rows x 2 columns]"
            ]
          },
          "execution_count": 62,
          "metadata": {},
          "output_type": "execute_result"
        }
      ],
      "source": [
        "pred_df"
      ]
    },
    {
      "cell_type": "code",
      "execution_count": null,
      "metadata": {
        "id": "LOtrmKivpiak"
      },
      "outputs": [],
      "source": [
        "pred_df.to_csv('/content/pred_best3modelsHybrid_kaggle0.13731_XGboost_reranked_Max.csv',index=False)"
      ]
    }
  ],
  "metadata": {
    "colab": {
      "provenance": []
    },
    "kernelspec": {
      "display_name": "Python 3",
      "name": "python3"
    },
    "language_info": {
      "codemirror_mode": {
        "name": "ipython",
        "version": 3
      },
      "file_extension": ".py",
      "mimetype": "text/x-python",
      "name": "python",
      "nbconvert_exporter": "python",
      "pygments_lexer": "ipython3",
      "version": "3.11.5"
    }
  },
  "nbformat": 4,
  "nbformat_minor": 0
}

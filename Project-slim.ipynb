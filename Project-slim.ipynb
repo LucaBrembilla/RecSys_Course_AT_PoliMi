{
 "cells": [
  {
   "cell_type": "code",
   "execution_count": 30,
   "metadata": {},
   "outputs": [],
   "source": [
    "import pandas as pd\n",
    "import numpy as np\n",
    "import scipy.sparse as sps\n",
    "\n",
    "from scipy.sparse import *"
   ]
  },
  {
   "cell_type": "code",
   "execution_count": 31,
   "metadata": {},
   "outputs": [],
   "source": [
    "from Data_manager.split_functions.split_train_validation_random_holdout import split_train_in_two_percentage_global_sample"
   ]
  },
  {
   "cell_type": "code",
   "execution_count": 32,
   "metadata": {},
   "outputs": [],
   "source": [
    "urm_path = './content/data_train.csv'\n",
    "urm_all_df = pd.read_csv(filepath_or_buffer=urm_path,\n",
    "                                sep=\",\",\n",
    "                                header=0,\n",
    "                                dtype={0:int, 1:int, 2:float},\n",
    "                                engine='python')\n",
    "\n",
    "urm_all_df.columns = [\"UserID\", \"ItemID\", \"Interaction\"]"
   ]
  },
  {
   "cell_type": "code",
   "execution_count": 33,
   "metadata": {},
   "outputs": [],
   "source": [
    "userID_unique = urm_all_df[\"UserID\"].unique()\n",
    "itemID_unique = urm_all_df[\"ItemID\"].unique()\n",
    "\n",
    "n_users = len(userID_unique)\n",
    "n_items = len(itemID_unique)\n",
    "n_interactions = len(urm_all_df)"
   ]
  },
  {
   "cell_type": "code",
   "execution_count": 34,
   "metadata": {},
   "outputs": [
    {
     "data": {
      "text/plain": [
       "<13025x22348 sparse matrix of type '<class 'numpy.float64'>'\n",
       "\twith 478730 stored elements in COOrdinate format>"
      ]
     },
     "execution_count": 34,
     "metadata": {},
     "output_type": "execute_result"
    }
   ],
   "source": [
    "urm_all = sps.coo_matrix((urm_all_df[\"Interaction\"].values,\n",
    "                          (urm_all_df[\"UserID\"].values, urm_all_df[\"ItemID\"].values)))\n",
    "\n",
    "urm_all"
   ]
  },
  {
   "cell_type": "code",
   "execution_count": 35,
   "metadata": {},
   "outputs": [],
   "source": [
    "URM_all = urm_all"
   ]
  },
  {
   "cell_type": "markdown",
   "metadata": {},
   "source": [
    "### Step 1: Split the data and create the evaluator objects"
   ]
  },
  {
   "cell_type": "code",
   "execution_count": 36,
   "metadata": {},
   "outputs": [
    {
     "name": "stdout",
     "output_type": "stream",
     "text": [
      "Warning: 611 (4.69 %) of 13025 users have no train items\n",
      "Warning: 2568 (19.72 %) of 13025 users have no sampled items\n",
      "Warning: 851 (6.53 %) of 13025 users have no train items\n",
      "Warning: 2973 (22.83 %) of 13025 users have no sampled items\n",
      "EvaluatorHoldout: Ignoring 2973 (22.8%) Users that have less than 1 test interactions\n",
      "EvaluatorHoldout: Ignoring 2568 (19.7%) Users that have less than 1 test interactions\n"
     ]
    }
   ],
   "source": [
    "from Evaluation.Evaluator import EvaluatorHoldout\n",
    "\n",
    "URM_train_validation, URM_test = split_train_in_two_percentage_global_sample(URM_all, train_percentage = 0.8)\n",
    "URM_train, URM_validation = split_train_in_two_percentage_global_sample(URM_train_validation, train_percentage = 0.8)\n",
    "\n",
    "evaluator_validation = EvaluatorHoldout(URM_validation, cutoff_list=[10])\n",
    "evaluator_test = EvaluatorHoldout(URM_test, cutoff_list=[10])"
   ]
  },
  {
   "cell_type": "markdown",
   "metadata": {},
   "source": [
    "### Step 2: Define hyperparameter set for the desired model, in this case rp3beta"
   ]
  },
  {
   "cell_type": "code",
   "execution_count": 37,
   "metadata": {},
   "outputs": [],
   "source": [
    "from skopt.space import Real, Integer, Categorical\n",
    "\n",
    "hyperparameters_range_dictionary = {\n",
    "    \"topK\": Integer(50, 300),\n",
    "    \"alpha\": Real(0.000001, 0.03),\n",
    "    \"l1_ratio\": Real(0.001, 0.1),\n",
    "}"
   ]
  },
  {
   "cell_type": "markdown",
   "metadata": {},
   "source": [
    "### Step 3: Create SearchBayesianSkopt object, providing the desired recommender class and evaluator objects"
   ]
  },
  {
   "cell_type": "code",
   "execution_count": 38,
   "metadata": {},
   "outputs": [],
   "source": [
    "from Recommenders.SLIM.SLIMElasticNetRecommender import SLIMElasticNetRecommender\n",
    "from HyperparameterTuning.SearchBayesianSkopt import SearchBayesianSkopt\n",
    "\n",
    "recommender_class = SLIMElasticNetRecommender\n",
    "\n",
    "hyperparameterSearch = SearchBayesianSkopt(recommender_class,\n",
    "                                         evaluator_validation=evaluator_validation,\n",
    "                                         evaluator_test=evaluator_test)"
   ]
  },
  {
   "cell_type": "markdown",
   "metadata": {},
   "source": [
    "### Step 4: Provide the data needed to create an instance of the model, one trained only on URM_train, the other on URM_train_validation"
   ]
  },
  {
   "cell_type": "code",
   "execution_count": 39,
   "metadata": {},
   "outputs": [],
   "source": [
    "from HyperparameterTuning.SearchAbstractClass import SearchInputRecommenderArgs\n",
    "  \n",
    "recommender_input_args = SearchInputRecommenderArgs(\n",
    "    CONSTRUCTOR_POSITIONAL_ARGS = [URM_train],     # For a CBF model simply put [URM_train, ICM_train]\n",
    "    CONSTRUCTOR_KEYWORD_ARGS = {},\n",
    "    FIT_POSITIONAL_ARGS = [],\n",
    "    FIT_KEYWORD_ARGS = {},\n",
    "    EARLYSTOPPING_KEYWORD_ARGS = {},\n",
    ")"
   ]
  },
  {
   "cell_type": "code",
   "execution_count": 40,
   "metadata": {},
   "outputs": [],
   "source": [
    "recommender_input_args_last_test = SearchInputRecommenderArgs(\n",
    "    CONSTRUCTOR_POSITIONAL_ARGS = [URM_train_validation],     # For a CBF model simply put [URM_train_validation, ICM_train]\n",
    "    CONSTRUCTOR_KEYWORD_ARGS = {},\n",
    "    FIT_POSITIONAL_ARGS = [],\n",
    "    FIT_KEYWORD_ARGS = {},\n",
    "    EARLYSTOPPING_KEYWORD_ARGS = {},\n",
    ")"
   ]
  },
  {
   "cell_type": "markdown",
   "metadata": {},
   "source": [
    "### Step 5: Create a result folder and select the number of cases (50 with 30% random is a good number)"
   ]
  },
  {
   "cell_type": "code",
   "execution_count": 41,
   "metadata": {},
   "outputs": [],
   "source": [
    "import os\n",
    "\n",
    "output_folder_path = \"result_experiments/\"\n",
    "\n",
    "# If directory does not exist, create\n",
    "if not os.path.exists(output_folder_path):\n",
    "    os.makedirs(output_folder_path)\n",
    "    \n",
    "n_cases = 5  # using 10 as an example\n",
    "n_random_starts = int(n_cases*0.3)\n",
    "metric_to_optimize = \"MAP\"   \n",
    "cutoff_to_optimize = 10"
   ]
  },
  {
   "cell_type": "markdown",
   "metadata": {},
   "source": [
    "### Step 5: Run!"
   ]
  },
  {
   "cell_type": "code",
   "execution_count": 42,
   "metadata": {},
   "outputs": [
    {
     "name": "stdout",
     "output_type": "stream",
     "text": [
      "Iteration No: 1 started. Evaluating function at random point.\n",
      "SearchBayesianSkopt: Testing config: {'topK': 278, 'alpha': 0.00984742352027931, 'l1_ratio': 0.001403680909889978}\n",
      "SLIMElasticNetRecommender: URM Detected 851 ( 6.5%) users with no interactions.\n",
      "SLIMElasticNetRecommender: URM Detected 472 ( 2.1%) items with no interactions.\n",
      "SLIMElasticNetRecommender: Processed 8164 (36.5%) in 5.00 min. Items per second: 27.21\n",
      "SLIMElasticNetRecommender: Processed 16154 (72.3%) in 10.00 min. Items per second: 26.92\n",
      "SLIMElasticNetRecommender: Processed 22348 (100.0%) in 14.72 min. Items per second: 25.30\n",
      "EvaluatorHoldout: Processed 10052 (100.0%) in 12.12 sec. Users per second: 829\n",
      "SearchBayesianSkopt: New best config found. Config 0: {'topK': 278, 'alpha': 0.00984742352027931, 'l1_ratio': 0.001403680909889978} - results: PRECISION: 0.0657083, PRECISION_RECALL_MIN_DEN: 0.1296048, RECALL: 0.1165827, MAP: 0.0300598, MAP_MIN_DEN: 0.0602312, MRR: 0.2012811, NDCG: 0.1116270, F1: 0.0840464, HIT_RATE: 0.4319538, ARHR_ALL_HITS: 0.2449108, NOVELTY: 0.0047837, AVERAGE_POPULARITY: 0.2724203, DIVERSITY_MEAN_INTER_LIST: 0.9565252, DIVERSITY_HERFINDAHL: 0.9956430, COVERAGE_ITEM: 0.1810453, COVERAGE_ITEM_HIT: 0.0499374, ITEMS_IN_GT: 0.7380526, COVERAGE_USER: 0.7717466, COVERAGE_USER_HIT: 0.3333589, USERS_IN_GT: 0.7717466, DIVERSITY_GINI: 0.0274083, SHANNON_ENTROPY: 9.2664977, RATIO_DIVERSITY_HERFINDAHL: 0.9960065, RATIO_DIVERSITY_GINI: 0.0800278, RATIO_SHANNON_ENTROPY: 0.7145493, RATIO_AVERAGE_POPULARITY: 2.3827986, RATIO_NOVELTY: 0.3504538, \n",
      "\n",
      "EvaluatorHoldout: Processed 10457 (100.0%) in 12.93 sec. Users per second: 809\n",
      "SearchBayesianSkopt: Config evaluated with evaluator_test. Config: {'topK': 278, 'alpha': 0.00984742352027931, 'l1_ratio': 0.001403680909889978} - results:\n",
      "CUTOFF: 10 - PRECISION: 0.0775366, PRECISION_RECALL_MIN_DEN: 0.1372428, RECALL: 0.1172278, MAP: 0.0366669, MAP_MIN_DEN: 0.0645972, MRR: 0.2265857, NDCG: 0.1221614, F1: 0.0933378, HIT_RATE: 0.4713589, ARHR_ALL_HITS: 0.2864980, NOVELTY: 0.0048014, AVERAGE_POPULARITY: 0.2696582, DIVERSITY_MEAN_INTER_LIST: 0.9574073, DIVERSITY_HERFINDAHL: 0.9957316, COVERAGE_ITEM: 0.1855200, COVERAGE_ITEM_HIT: 0.0545910, ITEMS_IN_GT: 0.7979238, COVERAGE_USER: 0.8028407, COVERAGE_USER_HIT: 0.3784261, USERS_IN_GT: 0.8028407, DIVERSITY_GINI: 0.0279538, SHANNON_ENTROPY: 9.2940786, RATIO_DIVERSITY_HERFINDAHL: 0.9960951, RATIO_DIVERSITY_GINI: 0.0816208, RATIO_SHANNON_ENTROPY: 0.7166761, RATIO_AVERAGE_POPULARITY: 2.3586394, RATIO_NOVELTY: 0.3517483, \n",
      "\n",
      "\n",
      "Iteration No: 1 ended. Evaluation done at random point.\n",
      "Time taken: 909.1542\n",
      "Function value obtained: -0.0301\n",
      "Current minimum: -0.0301\n",
      "Iteration No: 2 started. Searching for the next optimal point.\n",
      "SearchBayesianSkopt: Testing config: {'topK': 50, 'alpha': 0.03, 'l1_ratio': 0.1}\n",
      "SLIMElasticNetRecommender: URM Detected 851 ( 6.5%) users with no interactions.\n",
      "SLIMElasticNetRecommender: URM Detected 472 ( 2.1%) items with no interactions.\n",
      "SLIMElasticNetRecommender: Processed 18165 (81.3%) in 5.00 min. Items per second: 60.55\n",
      "SLIMElasticNetRecommender: Processed 22348 (100.0%) in 6.90 min. Items per second: 53.95\n",
      "EvaluatorHoldout: Processed 10052 (100.0%) in 8.22 sec. Users per second: 1224\n",
      "SearchBayesianSkopt: Config 1 is suboptimal. Config: {'topK': 50, 'alpha': 0.03, 'l1_ratio': 0.1} - results: PRECISION: 0.0411062, PRECISION_RECALL_MIN_DEN: 0.0780463, RECALL: 0.0695090, MAP: 0.0188944, MAP_MIN_DEN: 0.0372655, MRR: 0.1395295, NDCG: 0.0705866, F1: 0.0516611, HIT_RATE: 0.2983486, ARHR_ALL_HITS: 0.1618633, NOVELTY: 0.0049574, AVERAGE_POPULARITY: 0.3884708, DIVERSITY_MEAN_INTER_LIST: 0.7946438, DIVERSITY_HERFINDAHL: 0.9794565, COVERAGE_ITEM: 0.0102023, COVERAGE_ITEM_HIT: 0.0073832, ITEMS_IN_GT: 0.7380526, COVERAGE_USER: 0.7717466, COVERAGE_USER_HIT: 0.2302495, USERS_IN_GT: 0.7717466, DIVERSITY_GINI: 0.0027517, SHANNON_ENTROPY: 6.2969809, RATIO_DIVERSITY_HERFINDAHL: 0.9798140, RATIO_DIVERSITY_GINI: 0.0080345, RATIO_SHANNON_ENTROPY: 0.4855668, RATIO_AVERAGE_POPULARITY: 3.3978659, RATIO_NOVELTY: 0.3631720, \n",
      "\n",
      "Iteration No: 2 ended. Search finished for the next optimal point.\n",
      "Time taken: 422.9668\n",
      "Function value obtained: -0.0189\n",
      "Current minimum: -0.0301\n",
      "Iteration No: 3 started. Searching for the next optimal point.\n",
      "SearchBayesianSkopt: Testing config: {'topK': 89, 'alpha': 0.010706412542254073, 'l1_ratio': 0.06816163238689667}\n",
      "SLIMElasticNetRecommender: URM Detected 851 ( 6.5%) users with no interactions.\n",
      "SLIMElasticNetRecommender: URM Detected 472 ( 2.1%) items with no interactions.\n",
      "SLIMElasticNetRecommender: Processed 18273 (81.8%) in 5.00 min. Items per second: 60.91\n",
      "SLIMElasticNetRecommender: Processed 22348 (100.0%) in 7.00 min. Items per second: 53.21\n",
      "EvaluatorHoldout: Processed 10052 (100.0%) in 9.13 sec. Users per second: 1101\n",
      "SearchBayesianSkopt: Config 2 is suboptimal. Config: {'topK': 89, 'alpha': 0.010706412542254073, 'l1_ratio': 0.06816163238689667} - results: PRECISION: 0.0556506, PRECISION_RECALL_MIN_DEN: 0.1103107, RECALL: 0.0993997, MAP: 0.0255787, MAP_MIN_DEN: 0.0511442, MRR: 0.1798023, NDCG: 0.0959664, F1: 0.0713530, HIT_RATE: 0.3872861, ARHR_ALL_HITS: 0.2136352, NOVELTY: 0.0046717, AVERAGE_POPULARITY: 0.3464452, DIVERSITY_MEAN_INTER_LIST: 0.9100198, DIVERSITY_HERFINDAHL: 0.9909929, COVERAGE_ITEM: 0.0528011, COVERAGE_ITEM_HIT: 0.0225971, ITEMS_IN_GT: 0.7380526, COVERAGE_USER: 0.7717466, COVERAGE_USER_HIT: 0.2988868, USERS_IN_GT: 0.7717466, DIVERSITY_GINI: 0.0093286, SHANNON_ENTROPY: 7.9297401, RATIO_DIVERSITY_HERFINDAHL: 0.9913547, RATIO_DIVERSITY_GINI: 0.0272382, RATIO_SHANNON_ENTROPY: 0.6114705, RATIO_AVERAGE_POPULARITY: 3.0302773, RATIO_NOVELTY: 0.3422480, \n",
      "\n",
      "Iteration No: 3 ended. Search finished for the next optimal point.\n",
      "Time taken: 429.7232\n",
      "Function value obtained: -0.0256\n",
      "Current minimum: -0.0301\n",
      "Iteration No: 4 started. Searching for the next optimal point.\n",
      "SearchBayesianSkopt: Testing config: {'topK': 259, 'alpha': 0.008594554748926628, 'l1_ratio': 0.013435849348060858}\n",
      "SLIMElasticNetRecommender: URM Detected 851 ( 6.5%) users with no interactions.\n",
      "SLIMElasticNetRecommender: URM Detected 472 ( 2.1%) items with no interactions.\n",
      "SLIMElasticNetRecommender: Processed 9448 (42.3%) in 5.00 min. Items per second: 31.49\n",
      "SLIMElasticNetRecommender: Processed 19270 (86.2%) in 10.00 min. Items per second: 32.10\n",
      "SLIMElasticNetRecommender: Processed 22348 (100.0%) in 12.12 min. Items per second: 30.73\n",
      "EvaluatorHoldout: Processed 10052 (100.0%) in 12.01 sec. Users per second: 837\n",
      "SearchBayesianSkopt: Config 3 is suboptimal. Config: {'topK': 259, 'alpha': 0.008594554748926628, 'l1_ratio': 0.013435849348060858} - results: PRECISION: 0.0642658, PRECISION_RECALL_MIN_DEN: 0.1267765, RECALL: 0.1141047, MAP: 0.0295030, MAP_MIN_DEN: 0.0588951, MRR: 0.1993123, NDCG: 0.1095386, F1: 0.0822225, HIT_RATE: 0.4271787, ARHR_ALL_HITS: 0.2415892, NOVELTY: 0.0047417, AVERAGE_POPULARITY: 0.2847936, DIVERSITY_MEAN_INTER_LIST: 0.9522583, DIVERSITY_HERFINDAHL: 0.9952164, COVERAGE_ITEM: 0.1577322, COVERAGE_ITEM_HIT: 0.0442098, ITEMS_IN_GT: 0.7380526, COVERAGE_USER: 0.7717466, COVERAGE_USER_HIT: 0.3296737, USERS_IN_GT: 0.7717466, DIVERSITY_GINI: 0.0236466, SHANNON_ENTROPY: 9.0929676, RATIO_DIVERSITY_HERFINDAHL: 0.9955797, RATIO_DIVERSITY_GINI: 0.0690444, RATIO_SHANNON_ENTROPY: 0.7011682, RATIO_AVERAGE_POPULARITY: 2.4910250, RATIO_NOVELTY: 0.3473717, \n",
      "\n",
      "Iteration No: 4 ended. Search finished for the next optimal point.\n",
      "Time taken: 739.8554\n",
      "Function value obtained: -0.0295\n",
      "Current minimum: -0.0301\n",
      "Iteration No: 5 started. Searching for the next optimal point.\n",
      "SearchBayesianSkopt: Testing config: {'topK': 50, 'alpha': 1e-06, 'l1_ratio': 0.001}\n",
      "SLIMElasticNetRecommender: URM Detected 851 ( 6.5%) users with no interactions.\n",
      "SLIMElasticNetRecommender: URM Detected 472 ( 2.1%) items with no interactions.\n",
      "SLIMElasticNetRecommender: Processed 1944 ( 8.7%) in 5.00 min. Items per second: 6.48\n",
      "SLIMElasticNetRecommender: Processed 3792 (17.0%) in 10.00 min. Items per second: 6.32\n",
      "SLIMElasticNetRecommender: Processed 5636 (25.2%) in 15.00 min. Items per second: 6.26\n",
      "SLIMElasticNetRecommender: Processed 7527 (33.7%) in 20.00 min. Items per second: 6.27\n",
      "SLIMElasticNetRecommender: Processed 9340 (41.8%) in 25.01 min. Items per second: 6.22\n",
      "SLIMElasticNetRecommender: Processed 10981 (49.1%) in 30.01 min. Items per second: 6.10\n",
      "SLIMElasticNetRecommender: Processed 12587 (56.3%) in 35.01 min. Items per second: 5.99\n",
      "SLIMElasticNetRecommender: Processed 14036 (62.8%) in 40.02 min. Items per second: 5.84\n",
      "SLIMElasticNetRecommender: Processed 15725 (70.4%) in 45.03 min. Items per second: 5.82\n",
      "SLIMElasticNetRecommender: Processed 17523 (78.4%) in 50.03 min. Items per second: 5.84\n",
      "SLIMElasticNetRecommender: Processed 19175 (85.8%) in 55.03 min. Items per second: 5.81\n",
      "SLIMElasticNetRecommender: Processed 20773 (93.0%) in 1.00 hour. Items per second: 5.77\n",
      "SLIMElasticNetRecommender: Processed 22348 (100.0%) in 1.07 hour. Items per second: 5.80\n",
      "EvaluatorHoldout: Processed 10052 (100.0%) in 9.53 sec. Users per second: 1055\n",
      "SearchBayesianSkopt: Config 4 is suboptimal. Config: {'topK': 50, 'alpha': 1e-06, 'l1_ratio': 0.001} - results: PRECISION: 0.0100875, PRECISION_RECALL_MIN_DEN: 0.0174367, RECALL: 0.0147825, MAP: 0.0047510, MAP_MIN_DEN: 0.0089554, MRR: 0.0413529, NDCG: 0.0175503, F1: 0.0119919, HIT_RATE: 0.0864505, ARHR_ALL_HITS: 0.0441737, NOVELTY: 0.0064543, AVERAGE_POPULARITY: 0.0256540, DIVERSITY_MEAN_INTER_LIST: 0.9983648, DIVERSITY_HERFINDAHL: 0.9998265, COVERAGE_ITEM: 0.7276714, COVERAGE_ITEM_HIT: 0.0352604, ITEMS_IN_GT: 0.7380526, COVERAGE_USER: 0.7717466, COVERAGE_USER_HIT: 0.0667179, USERS_IN_GT: 0.7717466, DIVERSITY_GINI: 0.3826378, SHANNON_ENTROPY: 13.3900540, RATIO_DIVERSITY_HERFINDAHL: 1.0001915, RATIO_DIVERSITY_GINI: 1.1172422, RATIO_SHANNON_ENTROPY: 1.0325210, RATIO_AVERAGE_POPULARITY: 0.2243901, RATIO_NOVELTY: 0.4728384, \n",
      "\n",
      "Iteration No: 5 ended. Search finished for the next optimal point.\n",
      "Time taken: 3867.2051\n",
      "Function value obtained: -0.0048\n",
      "Current minimum: -0.0301\n",
      "SearchBayesianSkopt: Search complete. Best config is 0: {'topK': 278, 'alpha': 0.00984742352027931, 'l1_ratio': 0.001403680909889978}\n",
      "\n",
      "SLIMElasticNetRecommender: URM Detected 611 ( 4.7%) users with no interactions.\n",
      "SLIMElasticNetRecommender: URM Detected 254 ( 1.1%) items with no interactions.\n",
      "SearchBayesianSkopt: Evaluation with constructor data for final test. Using best config: {'topK': 278, 'alpha': 0.00984742352027931, 'l1_ratio': 0.001403680909889978}\n",
      "SLIMElasticNetRecommender: Processed 6631 (29.7%) in 5.00 min. Items per second: 22.10\n",
      "SLIMElasticNetRecommender: Processed 12603 (56.4%) in 10.00 min. Items per second: 21.00\n",
      "SLIMElasticNetRecommender: Processed 18194 (81.4%) in 15.00 min. Items per second: 20.21\n",
      "SLIMElasticNetRecommender: Processed 22348 (100.0%) in 18.90 min. Items per second: 19.71\n",
      "EvaluatorHoldout: Processed 10457 (100.0%) in 12.66 sec. Users per second: 826\n",
      "SearchBayesianSkopt: Best config evaluated with evaluator_test with constructor data for final test. Config: {'topK': 278, 'alpha': 0.00984742352027931, 'l1_ratio': 0.001403680909889978} - results:\n",
      "CUTOFF: 10 - PRECISION: 0.0916515, PRECISION_RECALL_MIN_DEN: 0.1597979, RECALL: 0.1350129, MAP: 0.0464753, MAP_MIN_DEN: 0.0790456, MRR: 0.2639004, NDCG: 0.1447968, F1: 0.1091846, HIT_RATE: 0.5106627, ARHR_ALL_HITS: 0.3465766, NOVELTY: 0.0048389, AVERAGE_POPULARITY: 0.2571470, DIVERSITY_MEAN_INTER_LIST: 0.9639348, DIVERSITY_HERFINDAHL: 0.9963843, COVERAGE_ITEM: 0.1933506, COVERAGE_ITEM_HIT: 0.0664042, ITEMS_IN_GT: 0.7979238, COVERAGE_USER: 0.8028407, COVERAGE_USER_HIT: 0.4099808, USERS_IN_GT: 0.8028407, DIVERSITY_GINI: 0.0312390, SHANNON_ENTROPY: 9.4917602, RATIO_DIVERSITY_HERFINDAHL: 0.9967464, RATIO_DIVERSITY_GINI: 0.0901148, RATIO_SHANNON_ENTROPY: 0.7312672, RATIO_AVERAGE_POPULARITY: 2.1610426, RATIO_NOVELTY: 0.2833419, \n",
      "\n",
      "\n",
      "SearchBayesianSkopt: Saving model in result_experiments/SLIMElasticNetRecommender\n",
      "\n",
      "SLIMElasticNetRecommender: Saving model in file 'result_experiments/SLIMElasticNetRecommender_best_model_last'\n",
      "SLIMElasticNetRecommender: Saving complete\n"
     ]
    }
   ],
   "source": [
    "hyperparameterSearch.search(recommender_input_args,\n",
    "                       recommender_input_args_last_test = recommender_input_args_last_test,\n",
    "                       hyperparameter_search_space = hyperparameters_range_dictionary,\n",
    "                       n_cases = n_cases,\n",
    "                       n_random_starts = n_random_starts,\n",
    "                       save_model = \"last\",\n",
    "                       output_folder_path = output_folder_path, # Where to save the results\n",
    "                       output_file_name_root = recommender_class.RECOMMENDER_NAME, # How to call the files\n",
    "                       metric_to_optimize = metric_to_optimize,\n",
    "                       cutoff_to_optimize = cutoff_to_optimize,\n",
    "                      )"
   ]
  },
  {
   "cell_type": "markdown",
   "metadata": {},
   "source": [
    "### Check the best model"
   ]
  },
  {
   "cell_type": "code",
   "execution_count": 43,
   "metadata": {},
   "outputs": [
    {
     "data": {
      "text/plain": [
       "dict_keys(['algorithm_name_recommender', 'algorithm_name_search', 'cutoff_to_optimize', 'exception_list', 'hyperparameters_best', 'hyperparameters_best_index', 'hyperparameters_df', 'metric_to_optimize', 'result_on_earlystopping_df', 'result_on_last', 'result_on_test_best', 'result_on_test_df', 'result_on_validation_best', 'result_on_validation_df', 'time_df', 'time_on_last_df', 'time_on_test_avg', 'time_on_test_total', 'time_on_train_avg', 'time_on_train_total', 'time_on_validation_avg', 'time_on_validation_total'])"
      ]
     },
     "execution_count": 43,
     "metadata": {},
     "output_type": "execute_result"
    }
   ],
   "source": [
    "from Recommenders.DataIO import DataIO\n",
    "\n",
    "data_loader = DataIO(folder_path = output_folder_path)\n",
    "search_metadata = data_loader.load_data(recommender_class.RECOMMENDER_NAME + \"_metadata.zip\")\n",
    "\n",
    "search_metadata.keys()"
   ]
  },
  {
   "cell_type": "code",
   "execution_count": 44,
   "metadata": {},
   "outputs": [
    {
     "data": {
      "text/html": [
       "<div>\n",
       "<style scoped>\n",
       "    .dataframe tbody tr th:only-of-type {\n",
       "        vertical-align: middle;\n",
       "    }\n",
       "\n",
       "    .dataframe tbody tr th {\n",
       "        vertical-align: top;\n",
       "    }\n",
       "\n",
       "    .dataframe thead th {\n",
       "        text-align: right;\n",
       "    }\n",
       "</style>\n",
       "<table border=\"1\" class=\"dataframe\">\n",
       "  <thead>\n",
       "    <tr style=\"text-align: right;\">\n",
       "      <th></th>\n",
       "      <th>topK</th>\n",
       "      <th>alpha</th>\n",
       "      <th>l1_ratio</th>\n",
       "    </tr>\n",
       "  </thead>\n",
       "  <tbody>\n",
       "    <tr>\n",
       "      <th>0</th>\n",
       "      <td>278</td>\n",
       "      <td>0.009847</td>\n",
       "      <td>0.001404</td>\n",
       "    </tr>\n",
       "    <tr>\n",
       "      <th>1</th>\n",
       "      <td>50</td>\n",
       "      <td>0.03</td>\n",
       "      <td>0.1</td>\n",
       "    </tr>\n",
       "    <tr>\n",
       "      <th>2</th>\n",
       "      <td>89</td>\n",
       "      <td>0.010706</td>\n",
       "      <td>0.068162</td>\n",
       "    </tr>\n",
       "    <tr>\n",
       "      <th>3</th>\n",
       "      <td>259</td>\n",
       "      <td>0.008595</td>\n",
       "      <td>0.013436</td>\n",
       "    </tr>\n",
       "    <tr>\n",
       "      <th>4</th>\n",
       "      <td>50</td>\n",
       "      <td>0.000001</td>\n",
       "      <td>0.001</td>\n",
       "    </tr>\n",
       "  </tbody>\n",
       "</table>\n",
       "</div>"
      ],
      "text/plain": [
       "  topK     alpha  l1_ratio\n",
       "0  278  0.009847  0.001404\n",
       "1   50      0.03       0.1\n",
       "2   89  0.010706  0.068162\n",
       "3  259  0.008595  0.013436\n",
       "4   50  0.000001     0.001"
      ]
     },
     "execution_count": 44,
     "metadata": {},
     "output_type": "execute_result"
    }
   ],
   "source": [
    "hyperparameters_df = search_metadata[\"hyperparameters_df\"]\n",
    "hyperparameters_df"
   ]
  },
  {
   "cell_type": "code",
   "execution_count": 45,
   "metadata": {},
   "outputs": [
    {
     "data": {
      "text/html": [
       "<div>\n",
       "<style scoped>\n",
       "    .dataframe tbody tr th:only-of-type {\n",
       "        vertical-align: middle;\n",
       "    }\n",
       "\n",
       "    .dataframe tbody tr th {\n",
       "        vertical-align: top;\n",
       "    }\n",
       "\n",
       "    .dataframe thead th {\n",
       "        text-align: right;\n",
       "    }\n",
       "</style>\n",
       "<table border=\"1\" class=\"dataframe\">\n",
       "  <thead>\n",
       "    <tr style=\"text-align: right;\">\n",
       "      <th></th>\n",
       "      <th></th>\n",
       "      <th>PRECISION</th>\n",
       "      <th>PRECISION_RECALL_MIN_DEN</th>\n",
       "      <th>RECALL</th>\n",
       "      <th>MAP</th>\n",
       "      <th>MAP_MIN_DEN</th>\n",
       "      <th>MRR</th>\n",
       "      <th>NDCG</th>\n",
       "      <th>F1</th>\n",
       "      <th>HIT_RATE</th>\n",
       "      <th>ARHR_ALL_HITS</th>\n",
       "      <th>...</th>\n",
       "      <th>COVERAGE_USER</th>\n",
       "      <th>COVERAGE_USER_HIT</th>\n",
       "      <th>USERS_IN_GT</th>\n",
       "      <th>DIVERSITY_GINI</th>\n",
       "      <th>SHANNON_ENTROPY</th>\n",
       "      <th>RATIO_DIVERSITY_HERFINDAHL</th>\n",
       "      <th>RATIO_DIVERSITY_GINI</th>\n",
       "      <th>RATIO_SHANNON_ENTROPY</th>\n",
       "      <th>RATIO_AVERAGE_POPULARITY</th>\n",
       "      <th>RATIO_NOVELTY</th>\n",
       "    </tr>\n",
       "    <tr>\n",
       "      <th></th>\n",
       "      <th>cutoff</th>\n",
       "      <th></th>\n",
       "      <th></th>\n",
       "      <th></th>\n",
       "      <th></th>\n",
       "      <th></th>\n",
       "      <th></th>\n",
       "      <th></th>\n",
       "      <th></th>\n",
       "      <th></th>\n",
       "      <th></th>\n",
       "      <th></th>\n",
       "      <th></th>\n",
       "      <th></th>\n",
       "      <th></th>\n",
       "      <th></th>\n",
       "      <th></th>\n",
       "      <th></th>\n",
       "      <th></th>\n",
       "      <th></th>\n",
       "      <th></th>\n",
       "      <th></th>\n",
       "    </tr>\n",
       "  </thead>\n",
       "  <tbody>\n",
       "    <tr>\n",
       "      <th>0</th>\n",
       "      <th>10</th>\n",
       "      <td>0.065708</td>\n",
       "      <td>0.129605</td>\n",
       "      <td>0.116583</td>\n",
       "      <td>0.03006</td>\n",
       "      <td>0.060231</td>\n",
       "      <td>0.201281</td>\n",
       "      <td>0.111627</td>\n",
       "      <td>0.084046</td>\n",
       "      <td>0.431954</td>\n",
       "      <td>0.244911</td>\n",
       "      <td>...</td>\n",
       "      <td>0.771747</td>\n",
       "      <td>0.333359</td>\n",
       "      <td>0.771747</td>\n",
       "      <td>0.027408</td>\n",
       "      <td>9.266498</td>\n",
       "      <td>0.996006</td>\n",
       "      <td>0.080028</td>\n",
       "      <td>0.714549</td>\n",
       "      <td>2.382799</td>\n",
       "      <td>0.350454</td>\n",
       "    </tr>\n",
       "    <tr>\n",
       "      <th>1</th>\n",
       "      <th>10</th>\n",
       "      <td>0.041106</td>\n",
       "      <td>0.078046</td>\n",
       "      <td>0.069509</td>\n",
       "      <td>0.018894</td>\n",
       "      <td>0.037266</td>\n",
       "      <td>0.13953</td>\n",
       "      <td>0.070587</td>\n",
       "      <td>0.051661</td>\n",
       "      <td>0.298349</td>\n",
       "      <td>0.161863</td>\n",
       "      <td>...</td>\n",
       "      <td>0.771747</td>\n",
       "      <td>0.23025</td>\n",
       "      <td>0.771747</td>\n",
       "      <td>0.002752</td>\n",
       "      <td>6.296981</td>\n",
       "      <td>0.979814</td>\n",
       "      <td>0.008035</td>\n",
       "      <td>0.485567</td>\n",
       "      <td>3.397866</td>\n",
       "      <td>0.363172</td>\n",
       "    </tr>\n",
       "    <tr>\n",
       "      <th>2</th>\n",
       "      <th>10</th>\n",
       "      <td>0.055651</td>\n",
       "      <td>0.110311</td>\n",
       "      <td>0.0994</td>\n",
       "      <td>0.025579</td>\n",
       "      <td>0.051144</td>\n",
       "      <td>0.179802</td>\n",
       "      <td>0.095966</td>\n",
       "      <td>0.071353</td>\n",
       "      <td>0.387286</td>\n",
       "      <td>0.213635</td>\n",
       "      <td>...</td>\n",
       "      <td>0.771747</td>\n",
       "      <td>0.298887</td>\n",
       "      <td>0.771747</td>\n",
       "      <td>0.009329</td>\n",
       "      <td>7.92974</td>\n",
       "      <td>0.991355</td>\n",
       "      <td>0.027238</td>\n",
       "      <td>0.611471</td>\n",
       "      <td>3.030277</td>\n",
       "      <td>0.342248</td>\n",
       "    </tr>\n",
       "    <tr>\n",
       "      <th>3</th>\n",
       "      <th>10</th>\n",
       "      <td>0.064266</td>\n",
       "      <td>0.126776</td>\n",
       "      <td>0.114105</td>\n",
       "      <td>0.029503</td>\n",
       "      <td>0.058895</td>\n",
       "      <td>0.199312</td>\n",
       "      <td>0.109539</td>\n",
       "      <td>0.082222</td>\n",
       "      <td>0.427179</td>\n",
       "      <td>0.241589</td>\n",
       "      <td>...</td>\n",
       "      <td>0.771747</td>\n",
       "      <td>0.329674</td>\n",
       "      <td>0.771747</td>\n",
       "      <td>0.023647</td>\n",
       "      <td>9.092968</td>\n",
       "      <td>0.99558</td>\n",
       "      <td>0.069044</td>\n",
       "      <td>0.701168</td>\n",
       "      <td>2.491025</td>\n",
       "      <td>0.347372</td>\n",
       "    </tr>\n",
       "    <tr>\n",
       "      <th>4</th>\n",
       "      <th>10</th>\n",
       "      <td>0.010088</td>\n",
       "      <td>0.017437</td>\n",
       "      <td>0.014783</td>\n",
       "      <td>0.004751</td>\n",
       "      <td>0.008955</td>\n",
       "      <td>0.041353</td>\n",
       "      <td>0.01755</td>\n",
       "      <td>0.011992</td>\n",
       "      <td>0.08645</td>\n",
       "      <td>0.044174</td>\n",
       "      <td>...</td>\n",
       "      <td>0.771747</td>\n",
       "      <td>0.066718</td>\n",
       "      <td>0.771747</td>\n",
       "      <td>0.382638</td>\n",
       "      <td>13.390054</td>\n",
       "      <td>1.000192</td>\n",
       "      <td>1.117242</td>\n",
       "      <td>1.032521</td>\n",
       "      <td>0.22439</td>\n",
       "      <td>0.472838</td>\n",
       "    </tr>\n",
       "  </tbody>\n",
       "</table>\n",
       "<p>5 rows × 27 columns</p>\n",
       "</div>"
      ],
      "text/plain": [
       "         PRECISION PRECISION_RECALL_MIN_DEN    RECALL       MAP MAP_MIN_DEN  \\\n",
       "  cutoff                                                                      \n",
       "0 10      0.065708                 0.129605  0.116583   0.03006    0.060231   \n",
       "1 10      0.041106                 0.078046  0.069509  0.018894    0.037266   \n",
       "2 10      0.055651                 0.110311    0.0994  0.025579    0.051144   \n",
       "3 10      0.064266                 0.126776  0.114105  0.029503    0.058895   \n",
       "4 10      0.010088                 0.017437  0.014783  0.004751    0.008955   \n",
       "\n",
       "               MRR      NDCG        F1  HIT_RATE ARHR_ALL_HITS  ...  \\\n",
       "  cutoff                                                        ...   \n",
       "0 10      0.201281  0.111627  0.084046  0.431954      0.244911  ...   \n",
       "1 10       0.13953  0.070587  0.051661  0.298349      0.161863  ...   \n",
       "2 10      0.179802  0.095966  0.071353  0.387286      0.213635  ...   \n",
       "3 10      0.199312  0.109539  0.082222  0.427179      0.241589  ...   \n",
       "4 10      0.041353   0.01755  0.011992   0.08645      0.044174  ...   \n",
       "\n",
       "         COVERAGE_USER COVERAGE_USER_HIT USERS_IN_GT DIVERSITY_GINI  \\\n",
       "  cutoff                                                              \n",
       "0 10          0.771747          0.333359    0.771747       0.027408   \n",
       "1 10          0.771747           0.23025    0.771747       0.002752   \n",
       "2 10          0.771747          0.298887    0.771747       0.009329   \n",
       "3 10          0.771747          0.329674    0.771747       0.023647   \n",
       "4 10          0.771747          0.066718    0.771747       0.382638   \n",
       "\n",
       "         SHANNON_ENTROPY RATIO_DIVERSITY_HERFINDAHL RATIO_DIVERSITY_GINI  \\\n",
       "  cutoff                                                                   \n",
       "0 10            9.266498                   0.996006             0.080028   \n",
       "1 10            6.296981                   0.979814             0.008035   \n",
       "2 10             7.92974                   0.991355             0.027238   \n",
       "3 10            9.092968                    0.99558             0.069044   \n",
       "4 10           13.390054                   1.000192             1.117242   \n",
       "\n",
       "         RATIO_SHANNON_ENTROPY RATIO_AVERAGE_POPULARITY RATIO_NOVELTY  \n",
       "  cutoff                                                               \n",
       "0 10                  0.714549                 2.382799      0.350454  \n",
       "1 10                  0.485567                 3.397866      0.363172  \n",
       "2 10                  0.611471                 3.030277      0.342248  \n",
       "3 10                  0.701168                 2.491025      0.347372  \n",
       "4 10                  1.032521                  0.22439      0.472838  \n",
       "\n",
       "[5 rows x 27 columns]"
      ]
     },
     "execution_count": 45,
     "metadata": {},
     "output_type": "execute_result"
    }
   ],
   "source": [
    "result_on_validation_df = search_metadata[\"result_on_validation_df\"]\n",
    "result_on_validation_df"
   ]
  },
  {
   "cell_type": "code",
   "execution_count": 46,
   "metadata": {},
   "outputs": [
    {
     "data": {
      "text/html": [
       "<div>\n",
       "<style scoped>\n",
       "    .dataframe tbody tr th:only-of-type {\n",
       "        vertical-align: middle;\n",
       "    }\n",
       "\n",
       "    .dataframe tbody tr th {\n",
       "        vertical-align: top;\n",
       "    }\n",
       "\n",
       "    .dataframe thead th {\n",
       "        text-align: right;\n",
       "    }\n",
       "</style>\n",
       "<table border=\"1\" class=\"dataframe\">\n",
       "  <thead>\n",
       "    <tr style=\"text-align: right;\">\n",
       "      <th></th>\n",
       "      <th>PRECISION</th>\n",
       "      <th>PRECISION_RECALL_MIN_DEN</th>\n",
       "      <th>RECALL</th>\n",
       "      <th>MAP</th>\n",
       "      <th>MAP_MIN_DEN</th>\n",
       "      <th>MRR</th>\n",
       "      <th>NDCG</th>\n",
       "      <th>F1</th>\n",
       "      <th>HIT_RATE</th>\n",
       "      <th>ARHR_ALL_HITS</th>\n",
       "      <th>...</th>\n",
       "      <th>COVERAGE_USER</th>\n",
       "      <th>COVERAGE_USER_HIT</th>\n",
       "      <th>USERS_IN_GT</th>\n",
       "      <th>DIVERSITY_GINI</th>\n",
       "      <th>SHANNON_ENTROPY</th>\n",
       "      <th>RATIO_DIVERSITY_HERFINDAHL</th>\n",
       "      <th>RATIO_DIVERSITY_GINI</th>\n",
       "      <th>RATIO_SHANNON_ENTROPY</th>\n",
       "      <th>RATIO_AVERAGE_POPULARITY</th>\n",
       "      <th>RATIO_NOVELTY</th>\n",
       "    </tr>\n",
       "    <tr>\n",
       "      <th>cutoff</th>\n",
       "      <th></th>\n",
       "      <th></th>\n",
       "      <th></th>\n",
       "      <th></th>\n",
       "      <th></th>\n",
       "      <th></th>\n",
       "      <th></th>\n",
       "      <th></th>\n",
       "      <th></th>\n",
       "      <th></th>\n",
       "      <th></th>\n",
       "      <th></th>\n",
       "      <th></th>\n",
       "      <th></th>\n",
       "      <th></th>\n",
       "      <th></th>\n",
       "      <th></th>\n",
       "      <th></th>\n",
       "      <th></th>\n",
       "      <th></th>\n",
       "      <th></th>\n",
       "    </tr>\n",
       "  </thead>\n",
       "  <tbody>\n",
       "    <tr>\n",
       "      <th>10</th>\n",
       "      <td>0.091652</td>\n",
       "      <td>0.159798</td>\n",
       "      <td>0.135013</td>\n",
       "      <td>0.046475</td>\n",
       "      <td>0.079046</td>\n",
       "      <td>0.2639</td>\n",
       "      <td>0.144797</td>\n",
       "      <td>0.109185</td>\n",
       "      <td>0.510663</td>\n",
       "      <td>0.346577</td>\n",
       "      <td>...</td>\n",
       "      <td>0.802841</td>\n",
       "      <td>0.409981</td>\n",
       "      <td>0.802841</td>\n",
       "      <td>0.031239</td>\n",
       "      <td>9.49176</td>\n",
       "      <td>0.996746</td>\n",
       "      <td>0.090115</td>\n",
       "      <td>0.731267</td>\n",
       "      <td>2.161043</td>\n",
       "      <td>0.283342</td>\n",
       "    </tr>\n",
       "  </tbody>\n",
       "</table>\n",
       "<p>1 rows × 27 columns</p>\n",
       "</div>"
      ],
      "text/plain": [
       "       PRECISION PRECISION_RECALL_MIN_DEN    RECALL       MAP MAP_MIN_DEN  \\\n",
       "cutoff                                                                      \n",
       "10      0.091652                 0.159798  0.135013  0.046475    0.079046   \n",
       "\n",
       "           MRR      NDCG        F1  HIT_RATE ARHR_ALL_HITS  ... COVERAGE_USER  \\\n",
       "cutoff                                                      ...                 \n",
       "10      0.2639  0.144797  0.109185  0.510663      0.346577  ...      0.802841   \n",
       "\n",
       "       COVERAGE_USER_HIT USERS_IN_GT DIVERSITY_GINI SHANNON_ENTROPY  \\\n",
       "cutoff                                                                \n",
       "10              0.409981    0.802841       0.031239         9.49176   \n",
       "\n",
       "       RATIO_DIVERSITY_HERFINDAHL RATIO_DIVERSITY_GINI RATIO_SHANNON_ENTROPY  \\\n",
       "cutoff                                                                         \n",
       "10                       0.996746             0.090115              0.731267   \n",
       "\n",
       "       RATIO_AVERAGE_POPULARITY RATIO_NOVELTY  \n",
       "cutoff                                         \n",
       "10                     2.161043      0.283342  \n",
       "\n",
       "[1 rows x 27 columns]"
      ]
     },
     "execution_count": 46,
     "metadata": {},
     "output_type": "execute_result"
    }
   ],
   "source": [
    "result_best_on_test = search_metadata[\"result_on_last\"]\n",
    "result_best_on_test"
   ]
  },
  {
   "cell_type": "code",
   "execution_count": 47,
   "metadata": {},
   "outputs": [
    {
     "data": {
      "text/plain": [
       "{'topK': 278, 'alpha': 0.00984742352027931, 'l1_ratio': 0.001403680909889978}"
      ]
     },
     "execution_count": 47,
     "metadata": {},
     "output_type": "execute_result"
    }
   ],
   "source": [
    "best_hyperparameters = search_metadata[\"hyperparameters_best\"]\n",
    "best_hyperparameters"
   ]
  },
  {
   "cell_type": "code",
   "execution_count": 48,
   "metadata": {},
   "outputs": [
    {
     "data": {
      "text/html": [
       "<div>\n",
       "<style scoped>\n",
       "    .dataframe tbody tr th:only-of-type {\n",
       "        vertical-align: middle;\n",
       "    }\n",
       "\n",
       "    .dataframe tbody tr th {\n",
       "        vertical-align: top;\n",
       "    }\n",
       "\n",
       "    .dataframe thead th {\n",
       "        text-align: right;\n",
       "    }\n",
       "</style>\n",
       "<table border=\"1\" class=\"dataframe\">\n",
       "  <thead>\n",
       "    <tr style=\"text-align: right;\">\n",
       "      <th></th>\n",
       "      <th>train</th>\n",
       "      <th>validation</th>\n",
       "      <th>test</th>\n",
       "    </tr>\n",
       "  </thead>\n",
       "  <tbody>\n",
       "    <tr>\n",
       "      <th>0</th>\n",
       "      <td>883.481501</td>\n",
       "      <td>12.134131</td>\n",
       "      <td>12.94904</td>\n",
       "    </tr>\n",
       "    <tr>\n",
       "      <th>1</th>\n",
       "      <td>414.26564</td>\n",
       "      <td>8.227705</td>\n",
       "      <td>NaN</td>\n",
       "    </tr>\n",
       "    <tr>\n",
       "      <th>2</th>\n",
       "      <td>419.957088</td>\n",
       "      <td>9.146699</td>\n",
       "      <td>NaN</td>\n",
       "    </tr>\n",
       "    <tr>\n",
       "      <th>3</th>\n",
       "      <td>727.276564</td>\n",
       "      <td>12.022983</td>\n",
       "      <td>NaN</td>\n",
       "    </tr>\n",
       "    <tr>\n",
       "      <th>4</th>\n",
       "      <td>3855.19254</td>\n",
       "      <td>9.597985</td>\n",
       "      <td>NaN</td>\n",
       "    </tr>\n",
       "  </tbody>\n",
       "</table>\n",
       "</div>"
      ],
      "text/plain": [
       "        train validation      test\n",
       "0  883.481501  12.134131  12.94904\n",
       "1   414.26564   8.227705       NaN\n",
       "2  419.957088   9.146699       NaN\n",
       "3  727.276564  12.022983       NaN\n",
       "4  3855.19254   9.597985       NaN"
      ]
     },
     "execution_count": 48,
     "metadata": {},
     "output_type": "execute_result"
    }
   ],
   "source": [
    "time_df = search_metadata[\"time_df\"]\n",
    "time_df"
   ]
  },
  {
   "cell_type": "code",
   "execution_count": 49,
   "metadata": {},
   "outputs": [
    {
     "data": {
      "text/plain": [
       "[None, None, None, None, None]"
      ]
     },
     "execution_count": 49,
     "metadata": {},
     "output_type": "execute_result"
    }
   ],
   "source": [
    "exception_list = search_metadata[\"exception_list\"]\n",
    "exception_list"
   ]
  },
  {
   "cell_type": "markdown",
   "metadata": {},
   "source": [
    "# Evaluation"
   ]
  },
  {
   "cell_type": "code",
   "execution_count": null,
   "metadata": {},
   "outputs": [],
   "source": [
    "recommender = SLIMElasticNetRecommender(URM_train)\n",
    "recommender.fit(alpha = 0.0015746723778813712, l1_ratio = 0.005,topK = 100)\n",
    "\n",
    "result_df, _ = evaluator_validation.evaluateRecommender(recommender)"
   ]
  },
  {
   "cell_type": "code",
   "execution_count": null,
   "metadata": {},
   "outputs": [],
   "source": [
    "result_df"
   ]
  },
  {
   "cell_type": "code",
   "execution_count": null,
   "metadata": {},
   "outputs": [],
   "source": [
    "recommender = SLIMElasticNetRecommender(URM_train)\n",
    "recommender.fit(alpha = 0.02147558429127613, l1_ratio = 0.09078609701165972,topK = 67)\n",
    "\n",
    "result_df, _ = evaluator_validation.evaluateRecommender(recommender)\n",
    "result_df"
   ]
  }
 ],
 "metadata": {
  "kernelspec": {
   "display_name": "base",
   "language": "python",
   "name": "python3"
  },
  "language_info": {
   "codemirror_mode": {
    "name": "ipython",
    "version": 3
   },
   "file_extension": ".py",
   "mimetype": "text/x-python",
   "name": "python",
   "nbconvert_exporter": "python",
   "pygments_lexer": "ipython3",
   "version": "3.11.5"
  }
 },
 "nbformat": 4,
 "nbformat_minor": 2
}

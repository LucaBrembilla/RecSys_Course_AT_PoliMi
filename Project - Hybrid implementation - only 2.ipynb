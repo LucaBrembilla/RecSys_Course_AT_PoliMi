{
 "cells": [
  {
   "cell_type": "markdown",
   "metadata": {},
   "source": [
    "Trying using only 2 models: SLIM_Elastic + IBCF (alpha = 0.12)"
   ]
  },
  {
   "cell_type": "code",
   "execution_count": 1,
   "metadata": {},
   "outputs": [],
   "source": [
    "import time\n",
    "import pandas as pd\n",
    "import numpy as np\n",
    "import scipy.sparse as sps\n",
    "import random as rnd\n",
    "\n",
    "from scipy.sparse import *"
   ]
  },
  {
   "cell_type": "code",
   "execution_count": 2,
   "metadata": {},
   "outputs": [
    {
     "name": "stdout",
     "output_type": "stream",
     "text": [
      "The number of interactions is 478730\n"
     ]
    }
   ],
   "source": [
    "urm_path = './content/data_train.csv'\n",
    "urm_all_df = pd.read_csv(filepath_or_buffer=urm_path,\n",
    "                                sep=\",\",\n",
    "                                header=0,\n",
    "                                dtype={0:int, 1:int, 2:float},\n",
    "                                engine='python')\n",
    "\n",
    "urm_all_df.columns = [\"UserID\", \"ItemID\", \"Interaction\"]\n",
    "print (\"The number of interactions is {}\".format(len(urm_all_df)))"
   ]
  },
  {
   "cell_type": "code",
   "execution_count": 3,
   "metadata": {},
   "outputs": [
    {
     "data": {
      "text/plain": [
       "<13025x22348 sparse matrix of type '<class 'numpy.float64'>'\n",
       "\twith 478730 stored elements in COOrdinate format>"
      ]
     },
     "execution_count": 3,
     "metadata": {},
     "output_type": "execute_result"
    }
   ],
   "source": [
    "URM_all = sps.coo_matrix((urm_all_df[\"Interaction\"].values,\n",
    "                          (urm_all_df[\"UserID\"].values, urm_all_df[\"ItemID\"].values)))\n",
    "\n",
    "URM_all"
   ]
  },
  {
   "cell_type": "code",
   "execution_count": 4,
   "metadata": {},
   "outputs": [],
   "source": [
    "from scipy.sparse import load_npz"
   ]
  },
  {
   "cell_type": "code",
   "execution_count": 5,
   "metadata": {},
   "outputs": [],
   "source": [
    "S_slim_elastic = load_npz(\"./content/item_item_similarity/slim_elastic_complete.npz\")"
   ]
  },
  {
   "cell_type": "code",
   "execution_count": 6,
   "metadata": {},
   "outputs": [
    {
     "data": {
      "text/plain": [
       "<22348x22348 sparse matrix of type '<class 'numpy.float32'>'\n",
       "\twith 2197697 stored elements in Compressed Sparse Row format>"
      ]
     },
     "execution_count": 6,
     "metadata": {},
     "output_type": "execute_result"
    }
   ],
   "source": [
    "S_slim_elastic"
   ]
  },
  {
   "cell_type": "code",
   "execution_count": 15,
   "metadata": {},
   "outputs": [],
   "source": [
    "S_easer = load_npz(\"./content/item_item_similarity/easer_complete.npz\")"
   ]
  },
  {
   "cell_type": "code",
   "execution_count": 16,
   "metadata": {},
   "outputs": [
    {
     "data": {
      "text/plain": [
       "<22348x22348 sparse matrix of type '<class 'numpy.float32'>'\n",
       "\twith 5044394 stored elements in Compressed Sparse Row format>"
      ]
     },
     "execution_count": 16,
     "metadata": {},
     "output_type": "execute_result"
    }
   ],
   "source": [
    "S_easer"
   ]
  },
  {
   "cell_type": "code",
   "execution_count": 7,
   "metadata": {},
   "outputs": [],
   "source": [
    "S_IBCF = load_npz(\"./content/item_item_similarity/IBCF_complete.npz\")"
   ]
  },
  {
   "cell_type": "code",
   "execution_count": 8,
   "metadata": {},
   "outputs": [
    {
     "data": {
      "text/plain": [
       "<22348x22348 sparse matrix of type '<class 'numpy.float32'>'\n",
       "\twith 310959 stored elements in Compressed Sparse Row format>"
      ]
     },
     "execution_count": 8,
     "metadata": {},
     "output_type": "execute_result"
    }
   ],
   "source": [
    "S_IBCF"
   ]
  },
  {
   "cell_type": "code",
   "execution_count": 8,
   "metadata": {},
   "outputs": [],
   "source": [
    "S_rp3beta = load_npz(\"./content/item_item_similarity/rp3beta_complete.npz\")"
   ]
  },
  {
   "cell_type": "code",
   "execution_count": 14,
   "metadata": {},
   "outputs": [
    {
     "data": {
      "text/plain": [
       "<22348x22348 sparse matrix of type '<class 'numpy.float32'>'\n",
       "\twith 3619038 stored elements in Compressed Sparse Row format>"
      ]
     },
     "execution_count": 14,
     "metadata": {},
     "output_type": "execute_result"
    }
   ],
   "source": [
    "S_rp3beta"
   ]
  },
  {
   "cell_type": "code",
   "execution_count": 10,
   "metadata": {},
   "outputs": [],
   "source": [
    "from Recommenders.KNN.ItemKNNCustomSimilarityRecommender import ItemKNNCustomSimilarityRecommender"
   ]
  },
  {
   "cell_type": "code",
   "execution_count": 11,
   "metadata": {},
   "outputs": [
    {
     "name": "stdout",
     "output_type": "stream",
     "text": [
      "ItemKNNCustomSimilarityRecommender: URM Detected 387 ( 3.0%) users with no interactions.\n",
      "ItemKNNCustomSimilarityRecommender: URM Detected 126 ( 0.6%) items with no interactions.\n"
     ]
    }
   ],
   "source": [
    "alpha = 0.12\n",
    "new_similarity = (1 - alpha) * S_slim_elastic + alpha * S_IBCF\n",
    "recommender_object = ItemKNNCustomSimilarityRecommender(URM_all)\n",
    "recommender_object.fit(new_similarity)"
   ]
  },
  {
   "cell_type": "code",
   "execution_count": 12,
   "metadata": {},
   "outputs": [],
   "source": [
    "class Predictor(object):\n",
    "\n",
    "    def __init__(self, URM, model):\n",
    "        self.URM = URM\n",
    "        self.model = model\n",
    "\n",
    "    def recommend(self, user_id, at=10, exclude_seen=True, users_not_in_train=[]):\n",
    "        # Check if user_id is a valid index\n",
    "        if user_id < 0 or user_id >= self.URM.shape[0]:\n",
    "            print(f\"Invalid user_id: {user_id}\")\n",
    "            return\n",
    "\n",
    "        # Check if user_id not in train use the topRec\n",
    "        if user_id in users_not_in_train:\n",
    "            return [\"517 189 44 0 284 808 285 1 557 1266\"]\n",
    "\n",
    "        # compute the scores using the fitted model\n",
    "        scores = self.model._compute_item_score(user_id)[0]\n",
    "\n",
    "        if exclude_seen:\n",
    "            scores = self.filter_seen(user_id, scores)\n",
    "\n",
    "        # rank items\n",
    "        ranking = scores.argsort()[::-1]\n",
    "\n",
    "        return ranking[:at]\n",
    "\n",
    "\n",
    "    def filter_seen(self, user_id, scores):\n",
    "\n",
    "        start_pos = self.URM.indptr[user_id]\n",
    "        end_pos = self.URM.indptr[user_id+1]\n",
    "\n",
    "        user_profile = self.URM.indices[start_pos:end_pos]\n",
    "\n",
    "        scores[user_profile] = -np.inf\n",
    "\n",
    "        return scores"
   ]
  },
  {
   "cell_type": "markdown",
   "metadata": {},
   "source": [
    "# Predictions"
   ]
  },
  {
   "cell_type": "code",
   "execution_count": 13,
   "metadata": {},
   "outputs": [
    {
     "name": "stdout",
     "output_type": "stream",
     "text": [
      "Unique user id to predict: 10882\n"
     ]
    }
   ],
   "source": [
    "urm_pred_path = './content/data_target_users_test.csv'\n",
    "\n",
    "urm_pred_df = pd.read_csv(filepath_or_buffer=urm_pred_path,\n",
    "                                sep=\",\",\n",
    "                                header=0,\n",
    "                                dtype={0:int},\n",
    "                                engine='python')\n",
    "\n",
    "urm_pred_df.columns = [\"UserID\"]\n",
    "len(urm_pred_df['UserID'])\n",
    "print('Unique user id to predict:', urm_pred_df['UserID'].nunique())"
   ]
  },
  {
   "cell_type": "code",
   "execution_count": 14,
   "metadata": {},
   "outputs": [
    {
     "name": "stdout",
     "output_type": "stream",
     "text": [
      "Users in urm_pred_df but not in urm_all_orgdf:\n",
      "       UserID\n",
      "54         60\n",
      "58         65\n",
      "147       168\n",
      "223       261\n",
      "272       316\n",
      "...       ...\n",
      "10682   12775\n",
      "10699   12798\n",
      "10729   12837\n",
      "10802   12921\n",
      "10856   12992\n",
      "\n",
      "[221 rows x 1 columns]\n",
      "221\n"
     ]
    }
   ],
   "source": [
    "users_not_in_train = urm_pred_df[~urm_pred_df['UserID'].isin(urm_all_df['UserID'])]\n",
    "\n",
    "print(\"Users in urm_pred_df but not in urm_all_orgdf:\")\n",
    "print(users_not_in_train)\n",
    "print(len(users_not_in_train))\n",
    "\n",
    "users_not_in_train = users_not_in_train['UserID'].to_numpy()"
   ]
  },
  {
   "cell_type": "code",
   "execution_count": 15,
   "metadata": {},
   "outputs": [],
   "source": [
    "URM_all = URM_all.tocsr()"
   ]
  },
  {
   "cell_type": "code",
   "execution_count": 16,
   "metadata": {},
   "outputs": [],
   "source": [
    "recommender = Predictor(URM=URM_all, model = recommender_object)"
   ]
  },
  {
   "cell_type": "code",
   "execution_count": 17,
   "metadata": {},
   "outputs": [
    {
     "name": "stdout",
     "output_type": "stream",
     "text": [
      "Predicting for user - 61\n",
      "The prediction is [  192  1076   393  3260  3580  6887  9336  7978 15142 12703]\n"
     ]
    }
   ],
   "source": [
    "user_id = 61\n",
    "print(f'Predicting for user - {user_id}')\n",
    "prediction = recommender.recommend(user_id,users_not_in_train = users_not_in_train)\n",
    "print(f\"The prediction is {prediction}\")"
   ]
  },
  {
   "cell_type": "code",
   "execution_count": 18,
   "metadata": {},
   "outputs": [
    {
     "name": "stdout",
     "output_type": "stream",
     "text": [
      "Predicting for user - 60\n",
      "The prediction is ['517 189 44 0 284 808 285 1 557 1266']\n"
     ]
    }
   ],
   "source": [
    "user_id = 60\n",
    "print(f'Predicting for user - {user_id}')\n",
    "prediction = recommender.recommend(user_id,users_not_in_train = users_not_in_train)\n",
    "print(f\"The prediction is {prediction}\")"
   ]
  },
  {
   "cell_type": "code",
   "execution_count": 19,
   "metadata": {},
   "outputs": [],
   "source": [
    "pred_df = pd.DataFrame(columns = ['user_id','item_list'])\n",
    "\n",
    "for userid in urm_pred_df['UserID']:\n",
    "  recommendations = recommender.recommend(userid, at=10,exclude_seen = True, users_not_in_train=users_not_in_train)\n",
    "  recommendations = \" \".join(str(item) for item in recommendations)\n",
    "  pred_df.loc[len(pred_df)] = [userid,recommendations]"
   ]
  },
  {
   "cell_type": "code",
   "execution_count": 20,
   "metadata": {},
   "outputs": [
    {
     "data": {
      "text/html": [
       "<div>\n",
       "<style scoped>\n",
       "    .dataframe tbody tr th:only-of-type {\n",
       "        vertical-align: middle;\n",
       "    }\n",
       "\n",
       "    .dataframe tbody tr th {\n",
       "        vertical-align: top;\n",
       "    }\n",
       "\n",
       "    .dataframe thead th {\n",
       "        text-align: right;\n",
       "    }\n",
       "</style>\n",
       "<table border=\"1\" class=\"dataframe\">\n",
       "  <thead>\n",
       "    <tr style=\"text-align: right;\">\n",
       "      <th></th>\n",
       "      <th>user_id</th>\n",
       "      <th>item_list</th>\n",
       "    </tr>\n",
       "  </thead>\n",
       "  <tbody>\n",
       "    <tr>\n",
       "      <th>0</th>\n",
       "      <td>1</td>\n",
       "      <td>101 36 123 506 515 403 1546 694 52 1422</td>\n",
       "    </tr>\n",
       "    <tr>\n",
       "      <th>1</th>\n",
       "      <td>2</td>\n",
       "      <td>1095 47 12 50 1522 28 656 11 949 3176</td>\n",
       "    </tr>\n",
       "    <tr>\n",
       "      <th>2</th>\n",
       "      <td>3</td>\n",
       "      <td>59 857 2172 4252 4 1281 2748 956 536 259</td>\n",
       "    </tr>\n",
       "    <tr>\n",
       "      <th>3</th>\n",
       "      <td>4</td>\n",
       "      <td>249 28 50 136 314 139 145 171 146 254</td>\n",
       "    </tr>\n",
       "    <tr>\n",
       "      <th>4</th>\n",
       "      <td>5</td>\n",
       "      <td>1570 170 77 5138 95 471 116 1511 148 131</td>\n",
       "    </tr>\n",
       "    <tr>\n",
       "      <th>...</th>\n",
       "      <td>...</td>\n",
       "      <td>...</td>\n",
       "    </tr>\n",
       "    <tr>\n",
       "      <th>10877</th>\n",
       "      <td>13020</td>\n",
       "      <td>6450 6198 6452 7395 6749 7394 4323 105 161 1191</td>\n",
       "    </tr>\n",
       "    <tr>\n",
       "      <th>10878</th>\n",
       "      <td>13021</td>\n",
       "      <td>6179 6451 7027 6426 6720 7395 6749 13621 17942...</td>\n",
       "    </tr>\n",
       "    <tr>\n",
       "      <th>10879</th>\n",
       "      <td>13022</td>\n",
       "      <td>1668 1411 1446 809 1674 10789 4688 1013 16075 776</td>\n",
       "    </tr>\n",
       "    <tr>\n",
       "      <th>10880</th>\n",
       "      <td>13023</td>\n",
       "      <td>1124 329 706 1290 1107 1534 138 96 208 1532</td>\n",
       "    </tr>\n",
       "    <tr>\n",
       "      <th>10881</th>\n",
       "      <td>13024</td>\n",
       "      <td>10211 2120 4082 4076 8259 1776 325 6215 7771 474</td>\n",
       "    </tr>\n",
       "  </tbody>\n",
       "</table>\n",
       "<p>10882 rows × 2 columns</p>\n",
       "</div>"
      ],
      "text/plain": [
       "       user_id                                          item_list\n",
       "0            1            101 36 123 506 515 403 1546 694 52 1422\n",
       "1            2              1095 47 12 50 1522 28 656 11 949 3176\n",
       "2            3           59 857 2172 4252 4 1281 2748 956 536 259\n",
       "3            4              249 28 50 136 314 139 145 171 146 254\n",
       "4            5           1570 170 77 5138 95 471 116 1511 148 131\n",
       "...        ...                                                ...\n",
       "10877    13020    6450 6198 6452 7395 6749 7394 4323 105 161 1191\n",
       "10878    13021  6179 6451 7027 6426 6720 7395 6749 13621 17942...\n",
       "10879    13022  1668 1411 1446 809 1674 10789 4688 1013 16075 776\n",
       "10880    13023        1124 329 706 1290 1107 1534 138 96 208 1532\n",
       "10881    13024   10211 2120 4082 4076 8259 1776 325 6215 7771 474\n",
       "\n",
       "[10882 rows x 2 columns]"
      ]
     },
     "execution_count": 20,
     "metadata": {},
     "output_type": "execute_result"
    }
   ],
   "source": [
    "pred_df"
   ]
  },
  {
   "cell_type": "code",
   "execution_count": 21,
   "metadata": {},
   "outputs": [],
   "source": [
    "pred_df.to_csv('./content/predHybridSlimIbcf.csv',index=False)"
   ]
  }
 ],
 "metadata": {
  "kernelspec": {
   "display_name": "base",
   "language": "python",
   "name": "python3"
  },
  "language_info": {
   "codemirror_mode": {
    "name": "ipython",
    "version": 3
   },
   "file_extension": ".py",
   "mimetype": "text/x-python",
   "name": "python",
   "nbconvert_exporter": "python",
   "pygments_lexer": "ipython3",
   "version": "3.11.5"
  }
 },
 "nbformat": 4,
 "nbformat_minor": 2
}
